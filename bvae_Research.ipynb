{
  "nbformat": 4,
  "nbformat_minor": 0,
  "metadata": {
    "colab": {
      "provenance": [],
      "gpuType": "T4",
      "mount_file_id": "1fiRxFY49EGBxnnBTyxBfN_w41OTd0r7P",
      "authorship_tag": "ABX9TyMO+VTxfi+LOwP7vrJd9sKb",
      "include_colab_link": true
    },
    "kernelspec": {
      "name": "python3",
      "display_name": "Python 3"
    },
    "language_info": {
      "name": "python"
    },
    "accelerator": "GPU"
  },
  "cells": [
    {
      "cell_type": "markdown",
      "metadata": {
        "id": "view-in-github",
        "colab_type": "text"
      },
      "source": [
        "<a href=\"https://colab.research.google.com/github/skugele/polyomino-imagery-env/blob/environment-additions/bvae_Research.ipynb\" target=\"_parent\"><img src=\"https://colab.research.google.com/assets/colab-badge.svg\" alt=\"Open In Colab\"/></a>"
      ]
    },
    {
      "cell_type": "code",
      "execution_count": 1,
      "metadata": {
        "id": "VbZXSm7X4Haz"
      },
      "outputs": [],
      "source": [
        "import tensorflow as tf\n",
        "import pandas as pd\n",
        "import numpy as np"
      ]
    },
    {
      "cell_type": "code",
      "source": [
        "# PARAMETERS\n",
        "INPUT_HEIGHT = 128\n",
        "INPUT_WIDTH = 128\n",
        "\n"
      ],
      "metadata": {
        "id": "ufEhEtAX4m-h"
      },
      "execution_count": 2,
      "outputs": []
    },
    {
      "cell_type": "code",
      "source": [
        "class Preprocessor(tf.keras.Model):\n",
        "  def __init__(self):\n",
        "    super().__init__(name=\"preprocessor\")\n",
        "    self.resizer = tf.keras.layers.Resizing(INPUT_HEIGHT, INPUT_WIDTH, name=f\"{self.name}_resizer\")\n",
        "    self.rescaler = tf.keras.layers.Rescaling(scale=1./255, name=f\"{self.name}_rescaler\")\n",
        "\n",
        "  def call(self, inputs):\n",
        "    return self.rescaler(\n",
        "        self.resizer(inputs)\n",
        "    )"
      ],
      "metadata": {
        "id": "K8j2GNTi8pSR"
      },
      "execution_count": 3,
      "outputs": []
    },
    {
      "cell_type": "code",
      "source": [
        "from tensorflow.keras.layers import Conv2D, MaxPool2D, Flatten, Dense, Lambda, Reshape, Conv2DTranspose"
      ],
      "metadata": {
        "id": "CFkJYxeRCNNC"
      },
      "execution_count": 4,
      "outputs": []
    },
    {
      "cell_type": "code",
      "source": [
        "\n",
        "\n",
        "class Encoder(tf.keras.layers.Layer):\n",
        "  def __init__(self, latent_dims):\n",
        "    super().__init__(name=\"encoder\")\n",
        "\n",
        "    self.latent_dims = latent_dims\n",
        "\n",
        "    # layers\n",
        "    self.preprocess = Preprocessor()\n",
        "\n",
        "    self.conv1 = Conv2D(filters=32, kernel_size=3, strides=1, padding='same', activation='relu', name='encoder_conv1')\n",
        "    self.mpool1 = MaxPool2D(name='encoder_mpool1')\n",
        "\n",
        "    self.conv2 = Conv2D(filters=64, kernel_size=3, strides=1, padding='same', activation='relu', name='encoder_conv2')\n",
        "    self.mpool2 = MaxPool2D(name='encoder_mpool2')\n",
        "\n",
        "    self.conv3 = Conv2D(filters=128, kernel_size=3, strides=1, padding='same', activation='relu', name='encoder_conv3')\n",
        "    self.mpool3 = MaxPool2D(name='encoder_mpool3')\n",
        "\n",
        "    self.conv4 = Conv2D(filters=256, kernel_size=3, strides=1, padding='same', activation='relu', name='encoder_conv4')\n",
        "    self.mpool4 = MaxPool2D(name='encoder_mpool4')\n",
        "\n",
        "    self.flatten = Flatten(name='encoder_flatten')\n",
        "\n",
        "    self.logvar = Dense(self.latent_dims, name='encoder_logvar')\n",
        "    self.mu = Dense(self.latent_dims, name='encoder_mu')\n",
        "    self.sigma = Lambda(lambda x: tf.exp(0.5*x), name='encoder_sigma')\n",
        "\n",
        "  def encode(self, inputs, preprocess=True):\n",
        "    # print the shape of the input\n",
        "    # print(f\"Shape of input to encoder: {inputs.shape}\")\n",
        "    p = self.preprocess(inputs) if preprocess else inputs\n",
        "    x=self.conv1(p); x=self.mpool1(x)\n",
        "    x=self.conv2(x); x=self.mpool2(x)\n",
        "    x=self.conv3(x); x=self.mpool3(x)\n",
        "    x=self.conv4(x); x=self.mpool4(x)\n",
        "    x=self.flatten(x)\n",
        "    # print(f\"Shape of output from encoder: {x.shape}\")\n",
        "\n",
        "    return self.mu(x), self.logvar(x), self.sigma(self.logvar(x)), p\n",
        "\n",
        "\n",
        "  def call(self, inputs):\n",
        "    return self.encode(inputs)\n",
        "\n",
        "  def summary(self, input_shape):\n",
        "    x = tf.keras.layers.Input(shape=input_shape)\n",
        "    model = tf.keras.Model(inputs=[x], outputs=self.call(x))\n",
        "    return model.summary()\n"
      ],
      "metadata": {
        "id": "WKr2CVtE4sKY"
      },
      "execution_count": 5,
      "outputs": []
    },
    {
      "cell_type": "code",
      "source": [
        "class Decoder(tf.keras.Model):\n",
        "  def __init__(self, latent_dims):\n",
        "    super().__init__(name=\"decoder\")\n",
        "\n",
        "    self.latent_dims = latent_dims\n",
        "\n",
        "    # layers\n",
        "    self.dense1 = Dense(256 * 8 * 8, activation=\"relu\", name='decoder_dense1')\n",
        "    self.reshape1 = Reshape((8, 8, 256), name='decoder_reshape1')\n",
        "\n",
        "    self.conv1 = Conv2DTranspose(filters=256, kernel_size=3, strides=2, padding='same', activation='relu', name='decoder_conv1')\n",
        "    self.conv2 = Conv2DTranspose(filters=128, kernel_size=3, strides=2, padding='same', activation='relu', name='decoder_conv2')\n",
        "    self.conv3 = Conv2DTranspose(filters=64, kernel_size=3, strides=2, padding='same', activation='relu', name='decoder_conv3')\n",
        "    self.conv4 = Conv2DTranspose(filters=32, kernel_size=3, strides=2, padding='same', activation='relu', name='decoder_conv4')\n",
        "    self.conv5 = Conv2DTranspose(filters=1, kernel_size=3, strides=1, padding='same', name='decoder_conv5')\n",
        "\n",
        "  def decode(self, inputs):\n",
        "    # print the shape of the input\n",
        "    # print(f\"Shape of input to decoder: {inputs.shape}\")\n",
        "    x = self.dense1(inputs)\n",
        "    x = self.reshape1(x)\n",
        "\n",
        "    x = self.conv1(x)\n",
        "    x = self.conv2(x)\n",
        "    x = self.conv3(x)\n",
        "    x = self.conv4(x)\n",
        "    x = self.conv5(x)\n",
        "    # print(f\"Shape of output from decoder: {x.shape}\")\n",
        "\n",
        "    return x\n",
        "\n",
        "  def call(self, inputs):\n",
        "    return self.decode(inputs)\n",
        "\n",
        "  # def summary(self, input_shape):\n",
        "  #   x = tf.keras.layers.Input(shape=input_shape)\n",
        "  #   model = tf.keras.Model(inputs=[x], outputs=self.call(x))\n",
        "  #   return model.summary()"
      ],
      "metadata": {
        "id": "SHWtLOBK4sYI"
      },
      "execution_count": 6,
      "outputs": []
    },
    {
      "cell_type": "code",
      "source": [
        "class ReconstructionLoss(tf.keras.layers.Layer):\n",
        "  def __init__(self):\n",
        "    super(ReconstructionLoss, self).__init__(name=\"reconstruction_loss\")\n",
        "\n",
        "  def call(self, inputs):\n",
        "    x = inputs[0]\n",
        "    recon_x = inputs[1]\n",
        "\n",
        "    recon_loss = tf.reduce_sum(tf.keras.losses.binary_crossentropy(x, recon_x), axis=[1,2])\n",
        "    recon_loss = tf.reduce_mean(recon_loss)\n",
        "\n",
        "    self.add_loss(recon_loss)\n",
        "\n",
        "    return recon_loss"
      ],
      "metadata": {
        "id": "SnAxDQaRJBto"
      },
      "execution_count": 7,
      "outputs": []
    },
    {
      "cell_type": "code",
      "source": [
        "class KLLoss(tf.keras.layers.Layer):\n",
        "  def __init__(self):\n",
        "    super(KLLoss, self).__init__()\n",
        "\n",
        "    self.beta = tf.Variable(1.0, name=\"beta\")\n",
        "\n",
        "  def call(self, inputs):\n",
        "    mu = inputs[0]\n",
        "    logvar = inputs[1]\n",
        "\n",
        "    kl_loss = -0.5 * tf.reduce_sum(1 + logvar - tf.square(mu) - tf.exp(logvar), axis=1)\n",
        "    kl_loss = kl_loss * self.beta\n",
        "\n",
        "    self.add_loss(kl_loss)\n",
        "    return kl_loss"
      ],
      "metadata": {
        "id": "_WMjd4MSJtyU"
      },
      "execution_count": 8,
      "outputs": []
    },
    {
      "cell_type": "code",
      "source": [
        "# Sampler\n",
        "\n",
        "class Sampler(tf.keras.layers.Layer):\n",
        "  def __init__(self):\n",
        "    super().__init__(name=\"sampler\")\n",
        "\n",
        "  def call(self, inputs):\n",
        "    mu = inputs[0]\n",
        "    sigma = inputs[1]\n",
        "\n",
        "    batch = tf.shape(mu)[0]\n",
        "    dim = tf.shape(mu)[1]\n",
        "    epsilon = tf.random.normal(shape=(batch, dim))\n",
        "\n",
        "    # reparameterize\n",
        "    output =  mu + tf.multiply(sigma, epsilon)\n",
        "\n",
        "    # print(f\"Shape of output from sampler: {output.shape}\")\n",
        "    return output\n",
        "\n"
      ],
      "metadata": {
        "id": "fni0MYfCTVqb"
      },
      "execution_count": 9,
      "outputs": []
    },
    {
      "cell_type": "code",
      "source": [
        "class BVAE(tf.keras.Model):\n",
        "  def __init__(self, latent_dims):\n",
        "    super().__init__(name=\"bvae\")\n",
        "\n",
        "    self.latent_dims = latent_dims\n",
        "\n",
        "    # layers\n",
        "    self.encoder = Encoder(self.latent_dims)\n",
        "    self.decoder = Decoder(self.latent_dims)\n",
        "\n",
        "    self.sampler = Sampler()\n",
        "\n",
        "    self.reconstruction_loss = ReconstructionLoss()\n",
        "    self.kl_loss = KLLoss()\n",
        "\n",
        "    # trackers\n",
        "    self.loss_tracker = tf.keras.metrics.Mean(name=\"loss\")\n",
        "    self.reconstruction_loss_tracker = tf.keras.metrics.Mean(name=\"reconstruction_loss\")\n",
        "    self.kl_loss_tracker = tf.keras.metrics.Mean(name=\"kl_loss\")\n",
        "\n",
        "  def call(self, inputs):\n",
        "    mu, logvar, sigma, x = self.encoder(inputs)\n",
        "    z = self.sampler([mu, sigma])\n",
        "    # print(f\"Shape of z: {z.shape}\")\n",
        "    recon_x = self.decoder(z)\n",
        "\n",
        "    kl_loss = self.kl_loss([mu, logvar])\n",
        "    reconstruction_loss = self.reconstruction_loss([x, recon_x])\n",
        "\n",
        "    return recon_x, kl_loss, reconstruction_loss\n",
        "\n",
        "  @property\n",
        "  def metrics(self):\n",
        "      return [\n",
        "          self.loss_tracker,\n",
        "          self.reconstruction_loss_tracker,\n",
        "          self.kl_loss_tracker,\n",
        "      ]\n",
        "\n",
        "  def train_step(self, data):\n",
        "    # print(f\"Shape of input data in train_step: {data.shape}\")\n",
        "\n",
        "    with tf.GradientTape() as tape:\n",
        "      recon_x, kl_loss, reconstruction_loss = self(data)\n",
        "      total_loss = reconstruction_loss + kl_loss\n",
        "\n",
        "      # update the trackers\n",
        "      self.loss_tracker.update_state(total_loss)\n",
        "      self.reconstruction_loss_tracker.update_state(reconstruction_loss)\n",
        "      self.kl_loss_tracker.update_state(kl_loss)\n",
        "\n",
        "      # gradients\n",
        "      grads = tape.gradient(total_loss, self.trainable_weights)\n",
        "      self.optimizer.apply_gradients(zip(grads, self.trainable_weights))\n",
        "\n",
        "    return {\n",
        "        m.name: m.result() for m in self.metrics\n",
        "    }\n",
        "\n",
        "  def test_step(self, data):\n",
        "    recon_x, kl_loss, reconstruction_loss = self(data)\n",
        "    total_loss = reconstruction_loss + kl_loss\n",
        "    self.loss_tracker.update_state(total_loss)\n",
        "    self.reconstruction_loss_tracker.update_state(reconstruction_loss)\n",
        "    self.kl_loss_tracker.update_state(kl_loss)\n",
        "    return {\n",
        "        m.name: m.result() for m in self.metrics\n",
        "    }\n",
        "\n",
        "  def encode(self, inputs, preprocess=True):\n",
        "    return self.encoder.encode(inputs, preprocess=preprocess)\n",
        "\n",
        "  def decode(self, inputs):\n",
        "    return self.decoder.decode(inputs)\n",
        "\n",
        "  def sample(self, mu, sigma):\n",
        "    return self.sampler([mu, sigma])\n",
        "\n",
        "  def calculate_reconstruction_loss(self, inputs):\n",
        "    return self.reconstruction_loss(inputs)\n",
        "\n",
        "  def calculate_kl_loss(self, inputs):\n",
        "    return self.kl_loss(inputs)\n",
        "\n",
        "\n",
        "\n",
        "\n"
      ],
      "metadata": {
        "id": "F_FyktKdUFCg"
      },
      "execution_count": 10,
      "outputs": []
    },
    {
      "cell_type": "code",
      "source": [
        "class BetaVaeParameterUpdater(tf.keras.callbacks.Callback):\n",
        "  def __init__(self, delta, limit):\n",
        "    super().__init__()\n",
        "    self.delta = delta\n",
        "    self.limit = limit\n",
        "\n",
        "  @tf.function\n",
        "  def update_beta(self):\n",
        "    beta = self.model.kl_loss.beta\n",
        "    beta.assign(tf.math.maximum(beta - self.delta, self.limit))\n",
        "\n",
        "  def on_epoch_end(self, epoch, logs=None):\n",
        "    self.update_beta()"
      ],
      "metadata": {
        "id": "dSr_E8Zfo2o3"
      },
      "execution_count": 11,
      "outputs": []
    },
    {
      "cell_type": "code",
      "source": [
        "file_path = \"./images_flat.zip\"\n",
        "# unzip\n",
        "!unzip -q {file_path}"
      ],
      "metadata": {
        "id": "X8r2kl9jn9Nk"
      },
      "execution_count": 12,
      "outputs": []
    },
    {
      "cell_type": "code",
      "source": [
        "images_path = \"./images/\"\n"
      ],
      "metadata": {
        "id": "VeQQPIaJokJ2"
      },
      "execution_count": 13,
      "outputs": []
    },
    {
      "cell_type": "code",
      "source": [
        "model = BVAE(latent_dims=8)\n",
        "model.compile(optimizer=tf.keras.optimizers.Adam(learning_rate=0.001))\n"
      ],
      "metadata": {
        "id": "TtQhzkHDpUES"
      },
      "execution_count": 14,
      "outputs": []
    },
    {
      "cell_type": "code",
      "source": [
        "# view model summary\n",
        "model.encoder.summary((None, None, 1)) # Provide a valid input shape for the summary\n",
        "model.decoder.summary((None, None, 1)) # Provide a valid input shape for the summary\n"
      ],
      "metadata": {
        "colab": {
          "base_uri": "https://localhost:8080/",
          "height": 1000
        },
        "id": "KhEhxmx1qQ3l",
        "outputId": "8d483334-7f07-47fa-8cea-0d5bf9628b2e"
      },
      "execution_count": 126,
      "outputs": [
        {
          "output_type": "stream",
          "name": "stdout",
          "text": [
            "Shape of input to encoder: (None, None, None, 1)\n",
            "Shape of output from encoder: (None, 16384)\n"
          ]
        },
        {
          "output_type": "display_data",
          "data": {
            "text/plain": [
              "\u001b[1mModel: \"functional_15\"\u001b[0m\n"
            ],
            "text/html": [
              "<pre style=\"white-space:pre;overflow-x:auto;line-height:normal;font-family:Menlo,'DejaVu Sans Mono',consolas,'Courier New',monospace\"><span style=\"font-weight: bold\">Model: \"functional_15\"</span>\n",
              "</pre>\n"
            ]
          },
          "metadata": {}
        },
        {
          "output_type": "display_data",
          "data": {
            "text/plain": [
              "┏━━━━━━━━━━━━━━━━━━━━━┳━━━━━━━━━━━━━━━━━━━┳━━━━━━━━━━━━┳━━━━━━━━━━━━━━━━━━━┓\n",
              "┃\u001b[1m \u001b[0m\u001b[1mLayer (type)       \u001b[0m\u001b[1m \u001b[0m┃\u001b[1m \u001b[0m\u001b[1mOutput Shape     \u001b[0m\u001b[1m \u001b[0m┃\u001b[1m \u001b[0m\u001b[1m   Param #\u001b[0m\u001b[1m \u001b[0m┃\u001b[1m \u001b[0m\u001b[1mConnected to     \u001b[0m\u001b[1m \u001b[0m┃\n",
              "┡━━━━━━━━━━━━━━━━━━━━━╇━━━━━━━━━━━━━━━━━━━╇━━━━━━━━━━━━╇━━━━━━━━━━━━━━━━━━━┩\n",
              "│ input_layer_16      │ (\u001b[38;5;45mNone\u001b[0m, \u001b[38;5;45mNone\u001b[0m,      │          \u001b[38;5;34m0\u001b[0m │ -                 │\n",
              "│ (\u001b[38;5;33mInputLayer\u001b[0m)        │ \u001b[38;5;45mNone\u001b[0m, \u001b[38;5;34m1\u001b[0m)          │            │                   │\n",
              "├─────────────────────┼───────────────────┼────────────┼───────────────────┤\n",
              "│ preprocessor        │ (\u001b[38;5;45mNone\u001b[0m, \u001b[38;5;34m128\u001b[0m, \u001b[38;5;34m128\u001b[0m,  │          \u001b[38;5;34m0\u001b[0m │ input_layer_16[\u001b[38;5;34m0\u001b[0m… │\n",
              "│ (\u001b[38;5;33mPreprocessor\u001b[0m)      │ \u001b[38;5;34m1\u001b[0m)                │            │                   │\n",
              "├─────────────────────┼───────────────────┼────────────┼───────────────────┤\n",
              "│ encoder_conv1       │ (\u001b[38;5;45mNone\u001b[0m, \u001b[38;5;34m128\u001b[0m, \u001b[38;5;34m128\u001b[0m,  │        \u001b[38;5;34m320\u001b[0m │ preprocessor[\u001b[38;5;34m0\u001b[0m][\u001b[38;5;34m…\u001b[0m │\n",
              "│ (\u001b[38;5;33mConv2D\u001b[0m)            │ \u001b[38;5;34m32\u001b[0m)               │            │                   │\n",
              "├─────────────────────┼───────────────────┼────────────┼───────────────────┤\n",
              "│ encoder_mpool1      │ (\u001b[38;5;45mNone\u001b[0m, \u001b[38;5;34m64\u001b[0m, \u001b[38;5;34m64\u001b[0m,    │          \u001b[38;5;34m0\u001b[0m │ encoder_conv1[\u001b[38;5;34m0\u001b[0m]… │\n",
              "│ (\u001b[38;5;33mMaxPooling2D\u001b[0m)      │ \u001b[38;5;34m32\u001b[0m)               │            │                   │\n",
              "├─────────────────────┼───────────────────┼────────────┼───────────────────┤\n",
              "│ encoder_conv2       │ (\u001b[38;5;45mNone\u001b[0m, \u001b[38;5;34m64\u001b[0m, \u001b[38;5;34m64\u001b[0m,    │     \u001b[38;5;34m18,496\u001b[0m │ encoder_mpool1[\u001b[38;5;34m0\u001b[0m… │\n",
              "│ (\u001b[38;5;33mConv2D\u001b[0m)            │ \u001b[38;5;34m64\u001b[0m)               │            │                   │\n",
              "├─────────────────────┼───────────────────┼────────────┼───────────────────┤\n",
              "│ encoder_mpool2      │ (\u001b[38;5;45mNone\u001b[0m, \u001b[38;5;34m32\u001b[0m, \u001b[38;5;34m32\u001b[0m,    │          \u001b[38;5;34m0\u001b[0m │ encoder_conv2[\u001b[38;5;34m0\u001b[0m]… │\n",
              "│ (\u001b[38;5;33mMaxPooling2D\u001b[0m)      │ \u001b[38;5;34m64\u001b[0m)               │            │                   │\n",
              "├─────────────────────┼───────────────────┼────────────┼───────────────────┤\n",
              "│ encoder_conv3       │ (\u001b[38;5;45mNone\u001b[0m, \u001b[38;5;34m32\u001b[0m, \u001b[38;5;34m32\u001b[0m,    │     \u001b[38;5;34m73,856\u001b[0m │ encoder_mpool2[\u001b[38;5;34m0\u001b[0m… │\n",
              "│ (\u001b[38;5;33mConv2D\u001b[0m)            │ \u001b[38;5;34m128\u001b[0m)              │            │                   │\n",
              "├─────────────────────┼───────────────────┼────────────┼───────────────────┤\n",
              "│ encoder_mpool3      │ (\u001b[38;5;45mNone\u001b[0m, \u001b[38;5;34m16\u001b[0m, \u001b[38;5;34m16\u001b[0m,    │          \u001b[38;5;34m0\u001b[0m │ encoder_conv3[\u001b[38;5;34m0\u001b[0m]… │\n",
              "│ (\u001b[38;5;33mMaxPooling2D\u001b[0m)      │ \u001b[38;5;34m128\u001b[0m)              │            │                   │\n",
              "├─────────────────────┼───────────────────┼────────────┼───────────────────┤\n",
              "│ encoder_conv4       │ (\u001b[38;5;45mNone\u001b[0m, \u001b[38;5;34m16\u001b[0m, \u001b[38;5;34m16\u001b[0m,    │    \u001b[38;5;34m295,168\u001b[0m │ encoder_mpool3[\u001b[38;5;34m0\u001b[0m… │\n",
              "│ (\u001b[38;5;33mConv2D\u001b[0m)            │ \u001b[38;5;34m256\u001b[0m)              │            │                   │\n",
              "├─────────────────────┼───────────────────┼────────────┼───────────────────┤\n",
              "│ encoder_mpool4      │ (\u001b[38;5;45mNone\u001b[0m, \u001b[38;5;34m8\u001b[0m, \u001b[38;5;34m8\u001b[0m, \u001b[38;5;34m256\u001b[0m) │          \u001b[38;5;34m0\u001b[0m │ encoder_conv4[\u001b[38;5;34m0\u001b[0m]… │\n",
              "│ (\u001b[38;5;33mMaxPooling2D\u001b[0m)      │                   │            │                   │\n",
              "├─────────────────────┼───────────────────┼────────────┼───────────────────┤\n",
              "│ encoder_flatten     │ (\u001b[38;5;45mNone\u001b[0m, \u001b[38;5;34m16384\u001b[0m)     │          \u001b[38;5;34m0\u001b[0m │ encoder_mpool4[\u001b[38;5;34m0\u001b[0m… │\n",
              "│ (\u001b[38;5;33mFlatten\u001b[0m)           │                   │            │                   │\n",
              "├─────────────────────┼───────────────────┼────────────┼───────────────────┤\n",
              "│ encoder_logvar      │ (\u001b[38;5;45mNone\u001b[0m, \u001b[38;5;34m8\u001b[0m)         │    \u001b[38;5;34m131,080\u001b[0m │ encoder_flatten[\u001b[38;5;34m…\u001b[0m │\n",
              "│ (\u001b[38;5;33mDense\u001b[0m)             │                   │            │ encoder_flatten[\u001b[38;5;34m…\u001b[0m │\n",
              "├─────────────────────┼───────────────────┼────────────┼───────────────────┤\n",
              "│ encoder_mu (\u001b[38;5;33mDense\u001b[0m)  │ (\u001b[38;5;45mNone\u001b[0m, \u001b[38;5;34m8\u001b[0m)         │    \u001b[38;5;34m131,080\u001b[0m │ encoder_flatten[\u001b[38;5;34m…\u001b[0m │\n",
              "├─────────────────────┼───────────────────┼────────────┼───────────────────┤\n",
              "│ encoder_sigma       │ (\u001b[38;5;45mNone\u001b[0m, \u001b[38;5;34m8\u001b[0m)         │          \u001b[38;5;34m0\u001b[0m │ encoder_logvar[\u001b[38;5;34m1\u001b[0m… │\n",
              "│ (\u001b[38;5;33mLambda\u001b[0m)            │                   │            │                   │\n",
              "└─────────────────────┴───────────────────┴────────────┴───────────────────┘\n"
            ],
            "text/html": [
              "<pre style=\"white-space:pre;overflow-x:auto;line-height:normal;font-family:Menlo,'DejaVu Sans Mono',consolas,'Courier New',monospace\">┏━━━━━━━━━━━━━━━━━━━━━┳━━━━━━━━━━━━━━━━━━━┳━━━━━━━━━━━━┳━━━━━━━━━━━━━━━━━━━┓\n",
              "┃<span style=\"font-weight: bold\"> Layer (type)        </span>┃<span style=\"font-weight: bold\"> Output Shape      </span>┃<span style=\"font-weight: bold\">    Param # </span>┃<span style=\"font-weight: bold\"> Connected to      </span>┃\n",
              "┡━━━━━━━━━━━━━━━━━━━━━╇━━━━━━━━━━━━━━━━━━━╇━━━━━━━━━━━━╇━━━━━━━━━━━━━━━━━━━┩\n",
              "│ input_layer_16      │ (<span style=\"color: #00d7ff; text-decoration-color: #00d7ff\">None</span>, <span style=\"color: #00d7ff; text-decoration-color: #00d7ff\">None</span>,      │          <span style=\"color: #00af00; text-decoration-color: #00af00\">0</span> │ -                 │\n",
              "│ (<span style=\"color: #0087ff; text-decoration-color: #0087ff\">InputLayer</span>)        │ <span style=\"color: #00d7ff; text-decoration-color: #00d7ff\">None</span>, <span style=\"color: #00af00; text-decoration-color: #00af00\">1</span>)          │            │                   │\n",
              "├─────────────────────┼───────────────────┼────────────┼───────────────────┤\n",
              "│ preprocessor        │ (<span style=\"color: #00d7ff; text-decoration-color: #00d7ff\">None</span>, <span style=\"color: #00af00; text-decoration-color: #00af00\">128</span>, <span style=\"color: #00af00; text-decoration-color: #00af00\">128</span>,  │          <span style=\"color: #00af00; text-decoration-color: #00af00\">0</span> │ input_layer_16[<span style=\"color: #00af00; text-decoration-color: #00af00\">0</span>… │\n",
              "│ (<span style=\"color: #0087ff; text-decoration-color: #0087ff\">Preprocessor</span>)      │ <span style=\"color: #00af00; text-decoration-color: #00af00\">1</span>)                │            │                   │\n",
              "├─────────────────────┼───────────────────┼────────────┼───────────────────┤\n",
              "│ encoder_conv1       │ (<span style=\"color: #00d7ff; text-decoration-color: #00d7ff\">None</span>, <span style=\"color: #00af00; text-decoration-color: #00af00\">128</span>, <span style=\"color: #00af00; text-decoration-color: #00af00\">128</span>,  │        <span style=\"color: #00af00; text-decoration-color: #00af00\">320</span> │ preprocessor[<span style=\"color: #00af00; text-decoration-color: #00af00\">0</span>][<span style=\"color: #00af00; text-decoration-color: #00af00\">…</span> │\n",
              "│ (<span style=\"color: #0087ff; text-decoration-color: #0087ff\">Conv2D</span>)            │ <span style=\"color: #00af00; text-decoration-color: #00af00\">32</span>)               │            │                   │\n",
              "├─────────────────────┼───────────────────┼────────────┼───────────────────┤\n",
              "│ encoder_mpool1      │ (<span style=\"color: #00d7ff; text-decoration-color: #00d7ff\">None</span>, <span style=\"color: #00af00; text-decoration-color: #00af00\">64</span>, <span style=\"color: #00af00; text-decoration-color: #00af00\">64</span>,    │          <span style=\"color: #00af00; text-decoration-color: #00af00\">0</span> │ encoder_conv1[<span style=\"color: #00af00; text-decoration-color: #00af00\">0</span>]… │\n",
              "│ (<span style=\"color: #0087ff; text-decoration-color: #0087ff\">MaxPooling2D</span>)      │ <span style=\"color: #00af00; text-decoration-color: #00af00\">32</span>)               │            │                   │\n",
              "├─────────────────────┼───────────────────┼────────────┼───────────────────┤\n",
              "│ encoder_conv2       │ (<span style=\"color: #00d7ff; text-decoration-color: #00d7ff\">None</span>, <span style=\"color: #00af00; text-decoration-color: #00af00\">64</span>, <span style=\"color: #00af00; text-decoration-color: #00af00\">64</span>,    │     <span style=\"color: #00af00; text-decoration-color: #00af00\">18,496</span> │ encoder_mpool1[<span style=\"color: #00af00; text-decoration-color: #00af00\">0</span>… │\n",
              "│ (<span style=\"color: #0087ff; text-decoration-color: #0087ff\">Conv2D</span>)            │ <span style=\"color: #00af00; text-decoration-color: #00af00\">64</span>)               │            │                   │\n",
              "├─────────────────────┼───────────────────┼────────────┼───────────────────┤\n",
              "│ encoder_mpool2      │ (<span style=\"color: #00d7ff; text-decoration-color: #00d7ff\">None</span>, <span style=\"color: #00af00; text-decoration-color: #00af00\">32</span>, <span style=\"color: #00af00; text-decoration-color: #00af00\">32</span>,    │          <span style=\"color: #00af00; text-decoration-color: #00af00\">0</span> │ encoder_conv2[<span style=\"color: #00af00; text-decoration-color: #00af00\">0</span>]… │\n",
              "│ (<span style=\"color: #0087ff; text-decoration-color: #0087ff\">MaxPooling2D</span>)      │ <span style=\"color: #00af00; text-decoration-color: #00af00\">64</span>)               │            │                   │\n",
              "├─────────────────────┼───────────────────┼────────────┼───────────────────┤\n",
              "│ encoder_conv3       │ (<span style=\"color: #00d7ff; text-decoration-color: #00d7ff\">None</span>, <span style=\"color: #00af00; text-decoration-color: #00af00\">32</span>, <span style=\"color: #00af00; text-decoration-color: #00af00\">32</span>,    │     <span style=\"color: #00af00; text-decoration-color: #00af00\">73,856</span> │ encoder_mpool2[<span style=\"color: #00af00; text-decoration-color: #00af00\">0</span>… │\n",
              "│ (<span style=\"color: #0087ff; text-decoration-color: #0087ff\">Conv2D</span>)            │ <span style=\"color: #00af00; text-decoration-color: #00af00\">128</span>)              │            │                   │\n",
              "├─────────────────────┼───────────────────┼────────────┼───────────────────┤\n",
              "│ encoder_mpool3      │ (<span style=\"color: #00d7ff; text-decoration-color: #00d7ff\">None</span>, <span style=\"color: #00af00; text-decoration-color: #00af00\">16</span>, <span style=\"color: #00af00; text-decoration-color: #00af00\">16</span>,    │          <span style=\"color: #00af00; text-decoration-color: #00af00\">0</span> │ encoder_conv3[<span style=\"color: #00af00; text-decoration-color: #00af00\">0</span>]… │\n",
              "│ (<span style=\"color: #0087ff; text-decoration-color: #0087ff\">MaxPooling2D</span>)      │ <span style=\"color: #00af00; text-decoration-color: #00af00\">128</span>)              │            │                   │\n",
              "├─────────────────────┼───────────────────┼────────────┼───────────────────┤\n",
              "│ encoder_conv4       │ (<span style=\"color: #00d7ff; text-decoration-color: #00d7ff\">None</span>, <span style=\"color: #00af00; text-decoration-color: #00af00\">16</span>, <span style=\"color: #00af00; text-decoration-color: #00af00\">16</span>,    │    <span style=\"color: #00af00; text-decoration-color: #00af00\">295,168</span> │ encoder_mpool3[<span style=\"color: #00af00; text-decoration-color: #00af00\">0</span>… │\n",
              "│ (<span style=\"color: #0087ff; text-decoration-color: #0087ff\">Conv2D</span>)            │ <span style=\"color: #00af00; text-decoration-color: #00af00\">256</span>)              │            │                   │\n",
              "├─────────────────────┼───────────────────┼────────────┼───────────────────┤\n",
              "│ encoder_mpool4      │ (<span style=\"color: #00d7ff; text-decoration-color: #00d7ff\">None</span>, <span style=\"color: #00af00; text-decoration-color: #00af00\">8</span>, <span style=\"color: #00af00; text-decoration-color: #00af00\">8</span>, <span style=\"color: #00af00; text-decoration-color: #00af00\">256</span>) │          <span style=\"color: #00af00; text-decoration-color: #00af00\">0</span> │ encoder_conv4[<span style=\"color: #00af00; text-decoration-color: #00af00\">0</span>]… │\n",
              "│ (<span style=\"color: #0087ff; text-decoration-color: #0087ff\">MaxPooling2D</span>)      │                   │            │                   │\n",
              "├─────────────────────┼───────────────────┼────────────┼───────────────────┤\n",
              "│ encoder_flatten     │ (<span style=\"color: #00d7ff; text-decoration-color: #00d7ff\">None</span>, <span style=\"color: #00af00; text-decoration-color: #00af00\">16384</span>)     │          <span style=\"color: #00af00; text-decoration-color: #00af00\">0</span> │ encoder_mpool4[<span style=\"color: #00af00; text-decoration-color: #00af00\">0</span>… │\n",
              "│ (<span style=\"color: #0087ff; text-decoration-color: #0087ff\">Flatten</span>)           │                   │            │                   │\n",
              "├─────────────────────┼───────────────────┼────────────┼───────────────────┤\n",
              "│ encoder_logvar      │ (<span style=\"color: #00d7ff; text-decoration-color: #00d7ff\">None</span>, <span style=\"color: #00af00; text-decoration-color: #00af00\">8</span>)         │    <span style=\"color: #00af00; text-decoration-color: #00af00\">131,080</span> │ encoder_flatten[<span style=\"color: #00af00; text-decoration-color: #00af00\">…</span> │\n",
              "│ (<span style=\"color: #0087ff; text-decoration-color: #0087ff\">Dense</span>)             │                   │            │ encoder_flatten[<span style=\"color: #00af00; text-decoration-color: #00af00\">…</span> │\n",
              "├─────────────────────┼───────────────────┼────────────┼───────────────────┤\n",
              "│ encoder_mu (<span style=\"color: #0087ff; text-decoration-color: #0087ff\">Dense</span>)  │ (<span style=\"color: #00d7ff; text-decoration-color: #00d7ff\">None</span>, <span style=\"color: #00af00; text-decoration-color: #00af00\">8</span>)         │    <span style=\"color: #00af00; text-decoration-color: #00af00\">131,080</span> │ encoder_flatten[<span style=\"color: #00af00; text-decoration-color: #00af00\">…</span> │\n",
              "├─────────────────────┼───────────────────┼────────────┼───────────────────┤\n",
              "│ encoder_sigma       │ (<span style=\"color: #00d7ff; text-decoration-color: #00d7ff\">None</span>, <span style=\"color: #00af00; text-decoration-color: #00af00\">8</span>)         │          <span style=\"color: #00af00; text-decoration-color: #00af00\">0</span> │ encoder_logvar[<span style=\"color: #00af00; text-decoration-color: #00af00\">1</span>… │\n",
              "│ (<span style=\"color: #0087ff; text-decoration-color: #0087ff\">Lambda</span>)            │                   │            │                   │\n",
              "└─────────────────────┴───────────────────┴────────────┴───────────────────┘\n",
              "</pre>\n"
            ]
          },
          "metadata": {}
        },
        {
          "output_type": "display_data",
          "data": {
            "text/plain": [
              "\u001b[1m Total params: \u001b[0m\u001b[38;5;34m650,000\u001b[0m (2.48 MB)\n"
            ],
            "text/html": [
              "<pre style=\"white-space:pre;overflow-x:auto;line-height:normal;font-family:Menlo,'DejaVu Sans Mono',consolas,'Courier New',monospace\"><span style=\"font-weight: bold\"> Total params: </span><span style=\"color: #00af00; text-decoration-color: #00af00\">650,000</span> (2.48 MB)\n",
              "</pre>\n"
            ]
          },
          "metadata": {}
        },
        {
          "output_type": "display_data",
          "data": {
            "text/plain": [
              "\u001b[1m Trainable params: \u001b[0m\u001b[38;5;34m650,000\u001b[0m (2.48 MB)\n"
            ],
            "text/html": [
              "<pre style=\"white-space:pre;overflow-x:auto;line-height:normal;font-family:Menlo,'DejaVu Sans Mono',consolas,'Courier New',monospace\"><span style=\"font-weight: bold\"> Trainable params: </span><span style=\"color: #00af00; text-decoration-color: #00af00\">650,000</span> (2.48 MB)\n",
              "</pre>\n"
            ]
          },
          "metadata": {}
        },
        {
          "output_type": "display_data",
          "data": {
            "text/plain": [
              "\u001b[1m Non-trainable params: \u001b[0m\u001b[38;5;34m0\u001b[0m (0.00 B)\n"
            ],
            "text/html": [
              "<pre style=\"white-space:pre;overflow-x:auto;line-height:normal;font-family:Menlo,'DejaVu Sans Mono',consolas,'Courier New',monospace\"><span style=\"font-weight: bold\"> Non-trainable params: </span><span style=\"color: #00af00; text-decoration-color: #00af00\">0</span> (0.00 B)\n",
              "</pre>\n"
            ]
          },
          "metadata": {}
        },
        {
          "output_type": "stream",
          "name": "stdout",
          "text": [
            "Shape of input to decoder: (None, None, None, 1)\n",
            "Shape of output from decoder: (None, 128, 128, 1)\n"
          ]
        },
        {
          "output_type": "display_data",
          "data": {
            "text/plain": [
              "\u001b[1mModel: \"functional_16\"\u001b[0m\n"
            ],
            "text/html": [
              "<pre style=\"white-space:pre;overflow-x:auto;line-height:normal;font-family:Menlo,'DejaVu Sans Mono',consolas,'Courier New',monospace\"><span style=\"font-weight: bold\">Model: \"functional_16\"</span>\n",
              "</pre>\n"
            ]
          },
          "metadata": {}
        },
        {
          "output_type": "display_data",
          "data": {
            "text/plain": [
              "┏━━━━━━━━━━━━━━━━━━━━━━━━━━━━━━━━━┳━━━━━━━━━━━━━━━━━━━━━━━━┳━━━━━━━━━━━━━━━┓\n",
              "┃\u001b[1m \u001b[0m\u001b[1mLayer (type)                   \u001b[0m\u001b[1m \u001b[0m┃\u001b[1m \u001b[0m\u001b[1mOutput Shape          \u001b[0m\u001b[1m \u001b[0m┃\u001b[1m \u001b[0m\u001b[1m      Param #\u001b[0m\u001b[1m \u001b[0m┃\n",
              "┡━━━━━━━━━━━━━━━━━━━━━━━━━━━━━━━━━╇━━━━━━━━━━━━━━━━━━━━━━━━╇━━━━━━━━━━━━━━━┩\n",
              "│ input_layer_17 (\u001b[38;5;33mInputLayer\u001b[0m)     │ (\u001b[38;5;45mNone\u001b[0m, \u001b[38;5;45mNone\u001b[0m, \u001b[38;5;45mNone\u001b[0m, \u001b[38;5;34m1\u001b[0m)  │             \u001b[38;5;34m0\u001b[0m │\n",
              "├─────────────────────────────────┼────────────────────────┼───────────────┤\n",
              "│ decoder_dense1 (\u001b[38;5;33mDense\u001b[0m)          │ (\u001b[38;5;45mNone\u001b[0m, \u001b[38;5;45mNone\u001b[0m, \u001b[38;5;45mNone\u001b[0m,     │        \u001b[38;5;34m32,768\u001b[0m │\n",
              "│                                 │ \u001b[38;5;34m16384\u001b[0m)                 │               │\n",
              "├─────────────────────────────────┼────────────────────────┼───────────────┤\n",
              "│ decoder_reshape1 (\u001b[38;5;33mReshape\u001b[0m)      │ (\u001b[38;5;45mNone\u001b[0m, \u001b[38;5;34m8\u001b[0m, \u001b[38;5;34m8\u001b[0m, \u001b[38;5;34m256\u001b[0m)      │             \u001b[38;5;34m0\u001b[0m │\n",
              "├─────────────────────────────────┼────────────────────────┼───────────────┤\n",
              "│ decoder_conv1 (\u001b[38;5;33mConv2DTranspose\u001b[0m) │ (\u001b[38;5;45mNone\u001b[0m, \u001b[38;5;34m16\u001b[0m, \u001b[38;5;34m16\u001b[0m, \u001b[38;5;34m256\u001b[0m)    │       \u001b[38;5;34m590,080\u001b[0m │\n",
              "├─────────────────────────────────┼────────────────────────┼───────────────┤\n",
              "│ decoder_conv2 (\u001b[38;5;33mConv2DTranspose\u001b[0m) │ (\u001b[38;5;45mNone\u001b[0m, \u001b[38;5;34m32\u001b[0m, \u001b[38;5;34m32\u001b[0m, \u001b[38;5;34m128\u001b[0m)    │       \u001b[38;5;34m295,040\u001b[0m │\n",
              "├─────────────────────────────────┼────────────────────────┼───────────────┤\n",
              "│ decoder_conv3 (\u001b[38;5;33mConv2DTranspose\u001b[0m) │ (\u001b[38;5;45mNone\u001b[0m, \u001b[38;5;34m64\u001b[0m, \u001b[38;5;34m64\u001b[0m, \u001b[38;5;34m64\u001b[0m)     │        \u001b[38;5;34m73,792\u001b[0m │\n",
              "├─────────────────────────────────┼────────────────────────┼───────────────┤\n",
              "│ decoder_conv4 (\u001b[38;5;33mConv2DTranspose\u001b[0m) │ (\u001b[38;5;45mNone\u001b[0m, \u001b[38;5;34m128\u001b[0m, \u001b[38;5;34m128\u001b[0m, \u001b[38;5;34m32\u001b[0m)   │        \u001b[38;5;34m18,464\u001b[0m │\n",
              "├─────────────────────────────────┼────────────────────────┼───────────────┤\n",
              "│ decoder_conv5 (\u001b[38;5;33mConv2DTranspose\u001b[0m) │ (\u001b[38;5;45mNone\u001b[0m, \u001b[38;5;34m128\u001b[0m, \u001b[38;5;34m128\u001b[0m, \u001b[38;5;34m1\u001b[0m)    │           \u001b[38;5;34m289\u001b[0m │\n",
              "└─────────────────────────────────┴────────────────────────┴───────────────┘\n"
            ],
            "text/html": [
              "<pre style=\"white-space:pre;overflow-x:auto;line-height:normal;font-family:Menlo,'DejaVu Sans Mono',consolas,'Courier New',monospace\">┏━━━━━━━━━━━━━━━━━━━━━━━━━━━━━━━━━┳━━━━━━━━━━━━━━━━━━━━━━━━┳━━━━━━━━━━━━━━━┓\n",
              "┃<span style=\"font-weight: bold\"> Layer (type)                    </span>┃<span style=\"font-weight: bold\"> Output Shape           </span>┃<span style=\"font-weight: bold\">       Param # </span>┃\n",
              "┡━━━━━━━━━━━━━━━━━━━━━━━━━━━━━━━━━╇━━━━━━━━━━━━━━━━━━━━━━━━╇━━━━━━━━━━━━━━━┩\n",
              "│ input_layer_17 (<span style=\"color: #0087ff; text-decoration-color: #0087ff\">InputLayer</span>)     │ (<span style=\"color: #00d7ff; text-decoration-color: #00d7ff\">None</span>, <span style=\"color: #00d7ff; text-decoration-color: #00d7ff\">None</span>, <span style=\"color: #00d7ff; text-decoration-color: #00d7ff\">None</span>, <span style=\"color: #00af00; text-decoration-color: #00af00\">1</span>)  │             <span style=\"color: #00af00; text-decoration-color: #00af00\">0</span> │\n",
              "├─────────────────────────────────┼────────────────────────┼───────────────┤\n",
              "│ decoder_dense1 (<span style=\"color: #0087ff; text-decoration-color: #0087ff\">Dense</span>)          │ (<span style=\"color: #00d7ff; text-decoration-color: #00d7ff\">None</span>, <span style=\"color: #00d7ff; text-decoration-color: #00d7ff\">None</span>, <span style=\"color: #00d7ff; text-decoration-color: #00d7ff\">None</span>,     │        <span style=\"color: #00af00; text-decoration-color: #00af00\">32,768</span> │\n",
              "│                                 │ <span style=\"color: #00af00; text-decoration-color: #00af00\">16384</span>)                 │               │\n",
              "├─────────────────────────────────┼────────────────────────┼───────────────┤\n",
              "│ decoder_reshape1 (<span style=\"color: #0087ff; text-decoration-color: #0087ff\">Reshape</span>)      │ (<span style=\"color: #00d7ff; text-decoration-color: #00d7ff\">None</span>, <span style=\"color: #00af00; text-decoration-color: #00af00\">8</span>, <span style=\"color: #00af00; text-decoration-color: #00af00\">8</span>, <span style=\"color: #00af00; text-decoration-color: #00af00\">256</span>)      │             <span style=\"color: #00af00; text-decoration-color: #00af00\">0</span> │\n",
              "├─────────────────────────────────┼────────────────────────┼───────────────┤\n",
              "│ decoder_conv1 (<span style=\"color: #0087ff; text-decoration-color: #0087ff\">Conv2DTranspose</span>) │ (<span style=\"color: #00d7ff; text-decoration-color: #00d7ff\">None</span>, <span style=\"color: #00af00; text-decoration-color: #00af00\">16</span>, <span style=\"color: #00af00; text-decoration-color: #00af00\">16</span>, <span style=\"color: #00af00; text-decoration-color: #00af00\">256</span>)    │       <span style=\"color: #00af00; text-decoration-color: #00af00\">590,080</span> │\n",
              "├─────────────────────────────────┼────────────────────────┼───────────────┤\n",
              "│ decoder_conv2 (<span style=\"color: #0087ff; text-decoration-color: #0087ff\">Conv2DTranspose</span>) │ (<span style=\"color: #00d7ff; text-decoration-color: #00d7ff\">None</span>, <span style=\"color: #00af00; text-decoration-color: #00af00\">32</span>, <span style=\"color: #00af00; text-decoration-color: #00af00\">32</span>, <span style=\"color: #00af00; text-decoration-color: #00af00\">128</span>)    │       <span style=\"color: #00af00; text-decoration-color: #00af00\">295,040</span> │\n",
              "├─────────────────────────────────┼────────────────────────┼───────────────┤\n",
              "│ decoder_conv3 (<span style=\"color: #0087ff; text-decoration-color: #0087ff\">Conv2DTranspose</span>) │ (<span style=\"color: #00d7ff; text-decoration-color: #00d7ff\">None</span>, <span style=\"color: #00af00; text-decoration-color: #00af00\">64</span>, <span style=\"color: #00af00; text-decoration-color: #00af00\">64</span>, <span style=\"color: #00af00; text-decoration-color: #00af00\">64</span>)     │        <span style=\"color: #00af00; text-decoration-color: #00af00\">73,792</span> │\n",
              "├─────────────────────────────────┼────────────────────────┼───────────────┤\n",
              "│ decoder_conv4 (<span style=\"color: #0087ff; text-decoration-color: #0087ff\">Conv2DTranspose</span>) │ (<span style=\"color: #00d7ff; text-decoration-color: #00d7ff\">None</span>, <span style=\"color: #00af00; text-decoration-color: #00af00\">128</span>, <span style=\"color: #00af00; text-decoration-color: #00af00\">128</span>, <span style=\"color: #00af00; text-decoration-color: #00af00\">32</span>)   │        <span style=\"color: #00af00; text-decoration-color: #00af00\">18,464</span> │\n",
              "├─────────────────────────────────┼────────────────────────┼───────────────┤\n",
              "│ decoder_conv5 (<span style=\"color: #0087ff; text-decoration-color: #0087ff\">Conv2DTranspose</span>) │ (<span style=\"color: #00d7ff; text-decoration-color: #00d7ff\">None</span>, <span style=\"color: #00af00; text-decoration-color: #00af00\">128</span>, <span style=\"color: #00af00; text-decoration-color: #00af00\">128</span>, <span style=\"color: #00af00; text-decoration-color: #00af00\">1</span>)    │           <span style=\"color: #00af00; text-decoration-color: #00af00\">289</span> │\n",
              "└─────────────────────────────────┴────────────────────────┴───────────────┘\n",
              "</pre>\n"
            ]
          },
          "metadata": {}
        },
        {
          "output_type": "display_data",
          "data": {
            "text/plain": [
              "\u001b[1m Total params: \u001b[0m\u001b[38;5;34m1,010,433\u001b[0m (3.85 MB)\n"
            ],
            "text/html": [
              "<pre style=\"white-space:pre;overflow-x:auto;line-height:normal;font-family:Menlo,'DejaVu Sans Mono',consolas,'Courier New',monospace\"><span style=\"font-weight: bold\"> Total params: </span><span style=\"color: #00af00; text-decoration-color: #00af00\">1,010,433</span> (3.85 MB)\n",
              "</pre>\n"
            ]
          },
          "metadata": {}
        },
        {
          "output_type": "display_data",
          "data": {
            "text/plain": [
              "\u001b[1m Trainable params: \u001b[0m\u001b[38;5;34m1,010,433\u001b[0m (3.85 MB)\n"
            ],
            "text/html": [
              "<pre style=\"white-space:pre;overflow-x:auto;line-height:normal;font-family:Menlo,'DejaVu Sans Mono',consolas,'Courier New',monospace\"><span style=\"font-weight: bold\"> Trainable params: </span><span style=\"color: #00af00; text-decoration-color: #00af00\">1,010,433</span> (3.85 MB)\n",
              "</pre>\n"
            ]
          },
          "metadata": {}
        },
        {
          "output_type": "display_data",
          "data": {
            "text/plain": [
              "\u001b[1m Non-trainable params: \u001b[0m\u001b[38;5;34m0\u001b[0m (0.00 B)\n"
            ],
            "text/html": [
              "<pre style=\"white-space:pre;overflow-x:auto;line-height:normal;font-family:Menlo,'DejaVu Sans Mono',consolas,'Courier New',monospace\"><span style=\"font-weight: bold\"> Non-trainable params: </span><span style=\"color: #00af00; text-decoration-color: #00af00\">0</span> (0.00 B)\n",
              "</pre>\n"
            ]
          },
          "metadata": {}
        }
      ]
    },
    {
      "cell_type": "code",
      "source": [
        "images = tf.keras.utils.image_dataset_from_directory(\n",
        "    images_path,\n",
        "    labels=None,\n",
        "    color_mode='grayscale',\n",
        "    image_size=(128, 128),\n",
        "    batch_size=32,\n",
        "    shuffle=True, # Ensure shuffling for random split\n",
        "    seed=42 # Optional: Set seed for reproducible split\n",
        ")\n",
        "\n",
        "# Calculate the size of the dataset\n",
        "dataset_size = tf.data.experimental.cardinality(images).numpy()\n",
        "\n",
        "train_size = int(0.8 * dataset_size)\n",
        "test_size = dataset_size - train_size\n",
        "\n",
        "# Split the dataset using take and skip\n",
        "train_ds = images.take(train_size)\n",
        "test_ds = images.skip(train_size)"
      ],
      "metadata": {
        "colab": {
          "base_uri": "https://localhost:8080/"
        },
        "id": "T_i6G-LusZsS",
        "outputId": "4db3eb33-3218-4f2b-b686-e966c7eb85a5"
      },
      "execution_count": 15,
      "outputs": [
        {
          "output_type": "stream",
          "name": "stdout",
          "text": [
            "Found 1899 files.\n"
          ]
        }
      ]
    },
    {
      "cell_type": "code",
      "source": [
        "# prompt: plot part of the dataset\n",
        "\n",
        "import matplotlib.pyplot as plt\n",
        "\n",
        "# Take the first batch from the training dataset\n",
        "for batch in train_ds.take(1):\n",
        "    # The batch is a tensor of images\n",
        "    images_batch = batch\n",
        "\n",
        "# Select a few images from the batch to plot\n",
        "num_images_to_plot = 5\n",
        "plt.figure(figsize=(10, 2))\n",
        "for i in range(num_images_to_plot):\n",
        "    plt.subplot(1, num_images_to_plot, i + 1)\n",
        "    # Squeeze to remove the channel dimension for grayscale images if needed for plotting\n",
        "    plt.imshow(tf.squeeze(images_batch[i]).numpy(), cmap='gray')\n",
        "    plt.axis('off')\n",
        "plt.suptitle('Sample Training Images')\n",
        "plt.show()\n",
        "\n",
        "# Take the first batch from the testing dataset\n",
        "for batch in test_ds.take(1):\n",
        "    # The batch is a tensor of images\n",
        "    images_batch = batch\n",
        "\n",
        "# Select a few images from the batch to plot\n",
        "plt.figure(figsize=(10, 2))\n",
        "for i in range(num_images_to_plot):\n",
        "    plt.subplot(1, num_images_to_plot, i + 1)\n",
        "    # Squeeze to remove the channel dimension for grayscale images if needed for plotting\n",
        "    plt.imshow(tf.squeeze(images_batch[i]).numpy(), cmap='gray')\n",
        "    plt.axis('off')\n",
        "plt.suptitle('Sample Testing Images')\n",
        "plt.show()\n"
      ],
      "metadata": {
        "colab": {
          "base_uri": "https://localhost:8080/",
          "height": 383
        },
        "id": "cDXvvL1vtgEM",
        "outputId": "a46c175d-0f32-4f50-cecd-e58772f66445"
      },
      "execution_count": 16,
      "outputs": [
        {
          "output_type": "display_data",
          "data": {
            "text/plain": [
              "<Figure size 1000x200 with 5 Axes>"
            ],
            "image/png": "[encoded data removed]"
          },
          "metadata": {}
        },
        {
          "output_type": "display_data",
          "data": {
            "text/plain": [
              "<Figure size 1000x200 with 5 Axes>"
            ],
            "image/png": "[encoded data removed]"
          },
          "metadata": {}
        }
      ]
    },
    {
      "cell_type": "code",
      "source": [
        "import matplotlib.pyplot as plt\n",
        "\n",
        "beta_updater_callback = BetaVaeParameterUpdater(delta=0.01, limit=0.0) # Example values\n",
        "history = model.fit(\n",
        "    train_ds,\n",
        "    epochs=1000, # Adjust the number of epochs as needed\n",
        "    validation_data=test_ds,\n",
        "    callbacks=[beta_updater_callback] # Add the callback\n",
        ")\n",
        "\n",
        "# Plot training history (optional)\n",
        "plt.plot(history.history['loss'])\n",
        "plt.plot(history.history['val_loss'])\n",
        "plt.title('Model Loss')\n",
        "plt.ylabel('Loss')\n",
        "plt.xlabel('Epoch')\n",
        "plt.legend(['Train', 'Test'], loc='upper left')\n",
        "plt.show()"
      ],
      "metadata": {
        "colab": {
          "base_uri": "https://localhost:8080/"
        },
        "id": "U3Ul0YsTt3I3",
        "outputId": "35b2773e-11dc-4a81-ce6e-cf9bfacf2b97"
      },
      "execution_count": null,
      "outputs": [
        {
          "output_type": "stream",
          "name": "stdout",
          "text": [
            "Epoch 1/1000\n",
            "\u001b[1m48/48\u001b[0m \u001b[32m━━━━━━━━━━━━━━━━━━━━\u001b[0m\u001b[37m\u001b[0m \u001b[1m20s\u001b[0m 130ms/step - kl_loss: 14.2812 - loss: 3187.3901 - reconstruction_loss: 3173.1089 - val_kl_loss: 18.5514 - val_loss: 1839.6191 - val_reconstruction_loss: 1822.0776\n",
            "Epoch 2/1000\n",
            "\u001b[1m48/48\u001b[0m \u001b[32m━━━━━━━━━━━━━━━━━━━━\u001b[0m\u001b[37m\u001b[0m \u001b[1m2s\u001b[0m 45ms/step - kl_loss: 20.3096 - loss: 1759.5139 - reconstruction_loss: 1739.2042 - val_kl_loss: 22.3495 - val_loss: 1403.2627 - val_reconstruction_loss: 1390.9965\n",
            "Epoch 3/1000\n",
            "\u001b[1m48/48\u001b[0m \u001b[32m━━━━━━━━━━━━━━━━━━━━\u001b[0m\u001b[37m\u001b[0m \u001b[1m2s\u001b[0m 45ms/step - kl_loss: 19.6295 - loss: 1361.8145 - reconstruction_loss: 1342.1851 - val_kl_loss: 18.6595 - val_loss: 1242.8870 - val_reconstruction_loss: 1228.9518\n",
            "Epoch 4/1000\n",
            "\u001b[1m48/48\u001b[0m \u001b[32m━━━━━━━━━━━━━━━━━━━━\u001b[0m\u001b[37m\u001b[0m \u001b[1m3s\u001b[0m 52ms/step - kl_loss: 19.1035 - loss: 1283.2234 - reconstruction_loss: 1264.1199 - val_kl_loss: 22.8428 - val_loss: 1154.8669 - val_reconstruction_loss: 1134.7971\n",
            "Epoch 5/1000\n",
            "\u001b[1m48/48\u001b[0m \u001b[32m━━━━━━━━━━━━━━━━━━━━\u001b[0m\u001b[37m\u001b[0m \u001b[1m2s\u001b[0m 48ms/step - kl_loss: 20.7613 - loss: 1120.8417 - reconstruction_loss: 1100.0806 - val_kl_loss: 20.3641 - val_loss: 1065.7878 - val_reconstruction_loss: 1049.1785\n",
            "Epoch 6/1000\n",
            "\u001b[1m48/48\u001b[0m \u001b[32m━━━━━━━━━━━━━━━━━━━━\u001b[0m\u001b[37m\u001b[0m \u001b[1m2s\u001b[0m 45ms/step - kl_loss: 19.3646 - loss: 1105.4563 - reconstruction_loss: 1086.0917 - val_kl_loss: 19.3122 - val_loss: 1091.2642 - val_reconstruction_loss: 1070.3419\n",
            "Epoch 7/1000\n",
            "\u001b[1m48/48\u001b[0m \u001b[32m━━━━━━━━━━━━━━━━━━━━\u001b[0m\u001b[37m\u001b[0m \u001b[1m2s\u001b[0m 45ms/step - kl_loss: 16.6961 - loss: 1272.5033 - reconstruction_loss: 1255.8074 - val_kl_loss: 24.3147 - val_loss: 1099.1337 - val_reconstruction_loss: 1071.9480\n",
            "Epoch 8/1000\n",
            "\u001b[1m48/48\u001b[0m \u001b[32m━━━━━━━━━━━━━━━━━━━━\u001b[0m\u001b[37m\u001b[0m \u001b[1m2s\u001b[0m 45ms/step - kl_loss: 24.1358 - loss: 1043.1851 - reconstruction_loss: 1019.0493 - val_kl_loss: 19.4836 - val_loss: 984.1716 - val_reconstruction_loss: 965.3645\n",
            "Epoch 9/1000\n",
            "\u001b[1m48/48\u001b[0m \u001b[32m━━━━━━━━━━━━━━━━━━━━\u001b[0m\u001b[37m\u001b[0m \u001b[1m2s\u001b[0m 46ms/step - kl_loss: 18.2572 - loss: 1053.0643 - reconstruction_loss: 1034.8073 - val_kl_loss: 23.9654 - val_loss: 954.1378 - val_reconstruction_loss: 928.9731\n",
            "Epoch 10/1000\n",
            "\u001b[1m48/48\u001b[0m \u001b[32m━━━━━━━━━━━━━━━━━━━━\u001b[0m\u001b[37m\u001b[0m \u001b[1m3s\u001b[0m 54ms/step - kl_loss: 22.8918 - loss: 929.2382 - reconstruction_loss: 906.3463 - val_kl_loss: 22.0258 - val_loss: 886.8387 - val_reconstruction_loss: 865.4756\n",
            "Epoch 11/1000\n",
            "\u001b[1m48/48\u001b[0m \u001b[32m━━━━━━━━━━━━━━━━━━━━\u001b[0m\u001b[37m\u001b[0m \u001b[1m2s\u001b[0m 47ms/step - kl_loss: 20.9117 - loss: 896.6589 - reconstruction_loss: 875.7473 - val_kl_loss: 19.5909 - val_loss: 849.1973 - val_reconstruction_loss: 832.2341\n",
            "Epoch 12/1000\n",
            "\u001b[1m48/48\u001b[0m \u001b[32m━━━━━━━━━━━━━━━━━━━━\u001b[0m\u001b[37m\u001b[0m \u001b[1m2s\u001b[0m 46ms/step - kl_loss: 20.5400 - loss: 852.9072 - reconstruction_loss: 832.3672 - val_kl_loss: 22.5010 - val_loss: 813.5315 - val_reconstruction_loss: 791.4388\n",
            "Epoch 13/1000\n",
            "\u001b[1m48/48\u001b[0m \u001b[32m━━━━━━━━━━━━━━━━━━━━\u001b[0m\u001b[37m\u001b[0m \u001b[1m2s\u001b[0m 46ms/step - kl_loss: 22.2315 - loss: 867.6055 - reconstruction_loss: 845.3741 - val_kl_loss: 22.9407 - val_loss: 987.4448 - val_reconstruction_loss: 962.2775\n",
            "Epoch 14/1000\n",
            "\u001b[1m48/48\u001b[0m \u001b[32m━━━━━━━━━━━━━━━━━━━━\u001b[0m\u001b[37m\u001b[0m \u001b[1m2s\u001b[0m 46ms/step - kl_loss: 22.1617 - loss: 916.0797 - reconstruction_loss: 893.9181 - val_kl_loss: 20.9597 - val_loss: 859.9072 - val_reconstruction_loss: 836.7358\n",
            "Epoch 15/1000\n",
            "\u001b[1m48/48\u001b[0m \u001b[32m━━━━━━━━━━━━━━━━━━━━\u001b[0m\u001b[37m\u001b[0m \u001b[1m2s\u001b[0m 46ms/step - kl_loss: 21.3620 - loss: 859.4333 - reconstruction_loss: 838.0714 - val_kl_loss: 17.8299 - val_loss: 927.1959 - val_reconstruction_loss: 897.3144\n",
            "Epoch 16/1000\n",
            "\u001b[1m48/48\u001b[0m \u001b[32m━━━━━━━━━━━━━━━━━━━━\u001b[0m\u001b[37m\u001b[0m \u001b[1m3s\u001b[0m 55ms/step - kl_loss: 19.5516 - loss: 883.0160 - reconstruction_loss: 863.4644 - val_kl_loss: 17.6314 - val_loss: 1112.5131 - val_reconstruction_loss: 1100.2037\n",
            "Epoch 17/1000\n",
            "\u001b[1m48/48\u001b[0m \u001b[32m━━━━━━━━━━━━━━━━━━━━\u001b[0m\u001b[37m\u001b[0m \u001b[1m2s\u001b[0m 47ms/step - kl_loss: 19.4721 - loss: 1068.8276 - reconstruction_loss: 1049.3555 - val_kl_loss: 29.5418 - val_loss: 934.5536 - val_reconstruction_loss: 902.3643\n",
            "Epoch 18/1000\n",
            "\u001b[1m48/48\u001b[0m \u001b[32m━━━━━━━━━━━━━━━━━━━━\u001b[0m\u001b[37m\u001b[0m \u001b[1m2s\u001b[0m 46ms/step - kl_loss: 24.9349 - loss: 982.1101 - reconstruction_loss: 957.1752 - val_kl_loss: 17.7375 - val_loss: 1182.5605 - val_reconstruction_loss: 1167.4608\n",
            "Epoch 19/1000\n",
            "\u001b[1m48/48\u001b[0m \u001b[32m━━━━━━━━━━━━━━━━━━━━\u001b[0m\u001b[37m\u001b[0m \u001b[1m2s\u001b[0m 46ms/step - kl_loss: 15.6646 - loss: 1387.6978 - reconstruction_loss: 1372.0333 - val_kl_loss: 24.0394 - val_loss: 959.1002 - val_reconstruction_loss: 935.1024\n",
            "Epoch 20/1000\n",
            "\u001b[1m48/48\u001b[0m \u001b[32m━━━━━━━━━━━━━━━━━━━━\u001b[0m\u001b[37m\u001b[0m \u001b[1m2s\u001b[0m 46ms/step - kl_loss: 21.6072 - loss: 914.4120 - reconstruction_loss: 892.8048 - val_kl_loss: 20.8902 - val_loss: 948.3652 - val_reconstruction_loss: 932.6214\n",
            "Epoch 21/1000\n",
            "\u001b[1m48/48\u001b[0m \u001b[32m━━━━━━━━━━━━━━━━━━━━\u001b[0m\u001b[37m\u001b[0m \u001b[1m2s\u001b[0m 49ms/step - kl_loss: 22.4752 - loss: 868.2061 - reconstruction_loss: 845.7309 - val_kl_loss: 21.5506 - val_loss: 799.0165 - val_reconstruction_loss: 785.4070\n",
            "Epoch 22/1000\n",
            "\u001b[1m48/48\u001b[0m \u001b[32m━━━━━━━━━━━━━━━━━━━━\u001b[0m\u001b[37m\u001b[0m \u001b[1m2s\u001b[0m 48ms/step - kl_loss: 20.5335 - loss: 775.1824 - reconstruction_loss: 754.6489 - val_kl_loss: 20.4504 - val_loss: 767.3660 - val_reconstruction_loss: 747.6525\n",
            "Epoch 23/1000\n",
            "\u001b[1m48/48\u001b[0m \u001b[32m━━━━━━━━━━━━━━━━━━━━\u001b[0m\u001b[37m\u001b[0m \u001b[1m2s\u001b[0m 47ms/step - kl_loss: 20.4729 - loss: 744.8288 - reconstruction_loss: 724.3559 - val_kl_loss: 18.9659 - val_loss: 789.9973 - val_reconstruction_loss: 774.1343\n",
            "Epoch 24/1000\n",
            "\u001b[1m48/48\u001b[0m \u001b[32m━━━━━━━━━━━━━━━━━━━━\u001b[0m\u001b[37m\u001b[0m \u001b[1m2s\u001b[0m 47ms/step - kl_loss: 19.3733 - loss: 759.7542 - reconstruction_loss: 740.3809 - val_kl_loss: 18.9441 - val_loss: 841.3448 - val_reconstruction_loss: 824.1075\n",
            "Epoch 25/1000\n",
            "\u001b[1m48/48\u001b[0m \u001b[32m━━━━━━━━━━━━━━━━━━━━\u001b[0m\u001b[37m\u001b[0m \u001b[1m2s\u001b[0m 47ms/step - kl_loss: 18.7125 - loss: 762.7677 - reconstruction_loss: 744.0552 - val_kl_loss: 16.4019 - val_loss: 838.6902 - val_reconstruction_loss: 824.6577\n",
            "Epoch 26/1000\n",
            "\u001b[1m48/48\u001b[0m \u001b[32m━━━━━━━━━━━━━━━━━━━━\u001b[0m\u001b[37m\u001b[0m \u001b[1m2s\u001b[0m 47ms/step - kl_loss: 17.0080 - loss: 802.4315 - reconstruction_loss: 785.4235 - val_kl_loss: 19.2358 - val_loss: 789.7504 - val_reconstruction_loss: 769.6443\n",
            "Epoch 27/1000\n",
            "\u001b[1m48/48\u001b[0m \u001b[32m━━━━━━━━━━━━━━━━━━━━\u001b[0m\u001b[37m\u001b[0m \u001b[1m2s\u001b[0m 51ms/step - kl_loss: 14.2434 - loss: 1119.7493 - reconstruction_loss: 1105.5060 - val_kl_loss: 29.3930 - val_loss: 1122.8820 - val_reconstruction_loss: 1092.5502\n",
            "Epoch 28/1000\n",
            "\u001b[1m48/48\u001b[0m \u001b[32m━━━━━━━━━━━━━━━━━━━━\u001b[0m\u001b[37m\u001b[0m \u001b[1m2s\u001b[0m 48ms/step - kl_loss: 21.8755 - loss: 1030.3593 - reconstruction_loss: 1008.4835 - val_kl_loss: 20.4210 - val_loss: 818.0814 - val_reconstruction_loss: 797.9885\n",
            "Epoch 29/1000\n",
            "\u001b[1m48/48\u001b[0m \u001b[32m━━━━━━━━━━━━━━━━━━━━\u001b[0m\u001b[37m\u001b[0m \u001b[1m2s\u001b[0m 47ms/step - kl_loss: 20.5652 - loss: 783.9255 - reconstruction_loss: 763.3603 - val_kl_loss: 19.6028 - val_loss: 732.0781 - val_reconstruction_loss: 712.2595\n",
            "Epoch 30/1000\n",
            "\u001b[1m48/48\u001b[0m \u001b[32m━━━━━━━━━━━━━━━━━━━━\u001b[0m\u001b[37m\u001b[0m \u001b[1m2s\u001b[0m 47ms/step - kl_loss: 18.9456 - loss: 732.4271 - reconstruction_loss: 713.4815 - val_kl_loss: 17.6252 - val_loss: 762.7327 - val_reconstruction_loss: 750.2867\n",
            "Epoch 31/1000\n",
            "\u001b[1m48/48\u001b[0m \u001b[32m━━━━━━━━━━━━━━━━━━━━\u001b[0m\u001b[37m\u001b[0m \u001b[1m2s\u001b[0m 47ms/step - kl_loss: 18.4238 - loss: 734.2322 - reconstruction_loss: 715.8083 - val_kl_loss: 18.8504 - val_loss: 721.3489 - val_reconstruction_loss: 699.5906\n",
            "Epoch 32/1000\n",
            "\u001b[1m48/48\u001b[0m \u001b[32m━━━━━━━━━━━━━━━━━━━━\u001b[0m\u001b[37m\u001b[0m \u001b[1m2s\u001b[0m 50ms/step - kl_loss: 18.6367 - loss: 678.5432 - reconstruction_loss: 659.9065 - val_kl_loss: 18.2409 - val_loss: 1150.7531 - val_reconstruction_loss: 1128.8866\n",
            "Epoch 33/1000\n",
            "\u001b[1m48/48\u001b[0m \u001b[32m━━━━━━━━━━━━━━━━━━━━\u001b[0m\u001b[37m\u001b[0m \u001b[1m3s\u001b[0m 56ms/step - kl_loss: 19.8425 - loss: 946.8455 - reconstruction_loss: 927.0030 - val_kl_loss: 20.0787 - val_loss: 745.8736 - val_reconstruction_loss: 729.2635\n",
            "Epoch 34/1000\n",
            "\u001b[1m48/48\u001b[0m \u001b[32m━━━━━━━━━━━━━━━━━━━━\u001b[0m\u001b[37m\u001b[0m \u001b[1m2s\u001b[0m 47ms/step - kl_loss: 18.5795 - loss: 736.0486 - reconstruction_loss: 717.4691 - val_kl_loss: 16.0107 - val_loss: 1103.5004 - val_reconstruction_loss: 1081.8617\n",
            "Epoch 35/1000\n",
            "\u001b[1m48/48\u001b[0m \u001b[32m━━━━━━━━━━━━━━━━━━━━\u001b[0m\u001b[37m\u001b[0m \u001b[1m2s\u001b[0m 47ms/step - kl_loss: 17.2543 - loss: 915.4232 - reconstruction_loss: 898.1689 - val_kl_loss: 18.3922 - val_loss: 741.2653 - val_reconstruction_loss: 724.5239\n",
            "Epoch 36/1000\n",
            "\u001b[1m48/48\u001b[0m \u001b[32m━━━━━━━━━━━━━━━━━━━━\u001b[0m\u001b[37m\u001b[0m \u001b[1m2s\u001b[0m 47ms/step - kl_loss: 18.7202 - loss: 685.3603 - reconstruction_loss: 666.6401 - val_kl_loss: 18.6701 - val_loss: 677.2911 - val_reconstruction_loss: 668.8229\n",
            "Epoch 37/1000\n",
            "\u001b[1m48/48\u001b[0m \u001b[32m━━━━━━━━━━━━━━━━━━━━\u001b[0m\u001b[37m\u001b[0m \u001b[1m2s\u001b[0m 47ms/step - kl_loss: 18.0878 - loss: 636.7901 - reconstruction_loss: 618.7023 - val_kl_loss: 17.3858 - val_loss: 659.4298 - val_reconstruction_loss: 643.4035\n",
            "Epoch 38/1000\n",
            "\u001b[1m48/48\u001b[0m \u001b[32m━━━━━━━━━━━━━━━━━━━━\u001b[0m\u001b[37m\u001b[0m \u001b[1m3s\u001b[0m 56ms/step - kl_loss: 17.6112 - loss: 623.1165 - reconstruction_loss: 605.5054 - val_kl_loss: 9.7973 - val_loss: 1191.8591 - val_reconstruction_loss: 1181.1475\n",
            "Epoch 39/1000\n",
            "\u001b[1m48/48\u001b[0m \u001b[32m━━━━━━━━━━━━━━━━━━━━\u001b[0m\u001b[37m\u001b[0m \u001b[1m5s\u001b[0m 50ms/step - kl_loss: 14.8993 - loss: 940.4809 - reconstruction_loss: 925.5815 - val_kl_loss: 15.9515 - val_loss: 802.4735 - val_reconstruction_loss: 792.8206\n",
            "Epoch 40/1000\n",
            "\u001b[1m48/48\u001b[0m \u001b[32m━━━━━━━━━━━━━━━━━━━━\u001b[0m\u001b[37m\u001b[0m \u001b[1m2s\u001b[0m 47ms/step - kl_loss: 16.3391 - loss: 739.3004 - reconstruction_loss: 722.9614 - val_kl_loss: 16.3966 - val_loss: 665.0530 - val_reconstruction_loss: 645.0762\n",
            "Epoch 41/1000\n",
            "\u001b[1m48/48\u001b[0m \u001b[32m━━━━━━━━━━━━━━━━━━━━\u001b[0m\u001b[37m\u001b[0m \u001b[1m2s\u001b[0m 47ms/step - kl_loss: 15.8902 - loss: 740.2399 - reconstruction_loss: 724.3497 - val_kl_loss: 17.1246 - val_loss: 650.1639 - val_reconstruction_loss: 637.5818\n",
            "Epoch 42/1000\n",
            "\u001b[1m48/48\u001b[0m \u001b[32m━━━━━━━━━━━━━━━━━━━━\u001b[0m\u001b[37m\u001b[0m \u001b[1m3s\u001b[0m 55ms/step - kl_loss: 12.2639 - loss: 1428.5125 - reconstruction_loss: 1416.2484 - val_kl_loss: 17.8918 - val_loss: 745.3901 - val_reconstruction_loss: 723.7229\n",
            "Epoch 43/1000\n",
            "\u001b[1m48/48\u001b[0m \u001b[32m━━━━━━━━━━━━━━━━━━━━\u001b[0m\u001b[37m\u001b[0m \u001b[1m5s\u001b[0m 49ms/step - kl_loss: 17.6266 - loss: 695.4713 - reconstruction_loss: 677.8446 - val_kl_loss: 16.1873 - val_loss: 659.6443 - val_reconstruction_loss: 652.3251\n",
            "Epoch 44/1000\n",
            "\u001b[1m48/48\u001b[0m \u001b[32m━━━━━━━━━━━━━━━━━━━━\u001b[0m\u001b[37m\u001b[0m \u001b[1m2s\u001b[0m 47ms/step - kl_loss: 15.8224 - loss: 658.0209 - reconstruction_loss: 642.1984 - val_kl_loss: 16.0870 - val_loss: 683.4930 - val_reconstruction_loss: 666.3441\n",
            "Epoch 45/1000\n",
            "\u001b[1m48/48\u001b[0m \u001b[32m━━━━━━━━━━━━━━━━━━━━\u001b[0m\u001b[37m\u001b[0m \u001b[1m2s\u001b[0m 48ms/step - kl_loss: 16.2959 - loss: 649.9894 - reconstruction_loss: 633.6935 - val_kl_loss: 15.7188 - val_loss: 632.6741 - val_reconstruction_loss: 623.1849\n",
            "Epoch 46/1000\n",
            "\u001b[1m48/48\u001b[0m \u001b[32m━━━━━━━━━━━━━━━━━━━━\u001b[0m\u001b[37m\u001b[0m \u001b[1m2s\u001b[0m 50ms/step - kl_loss: 15.4801 - loss: 619.8613 - reconstruction_loss: 604.3812 - val_kl_loss: 16.2395 - val_loss: 667.6014 - val_reconstruction_loss: 653.1830\n",
            "Epoch 47/1000\n",
            "\u001b[1m48/48\u001b[0m \u001b[32m━━━━━━━━━━━━━━━━━━━━\u001b[0m\u001b[37m\u001b[0m \u001b[1m2s\u001b[0m 49ms/step - kl_loss: 15.5096 - loss: 729.9141 - reconstruction_loss: 714.4044 - val_kl_loss: 15.0266 - val_loss: 638.3492 - val_reconstruction_loss: 622.3672\n",
            "Epoch 48/1000\n",
            "\u001b[1m48/48\u001b[0m \u001b[32m━━━━━━━━━━━━━━━━━━━━\u001b[0m\u001b[37m\u001b[0m \u001b[1m2s\u001b[0m 48ms/step - kl_loss: 14.8891 - loss: 631.2234 - reconstruction_loss: 616.3342 - val_kl_loss: 15.3286 - val_loss: 597.5010 - val_reconstruction_loss: 581.1970\n",
            "Epoch 49/1000\n",
            "\u001b[1m48/48\u001b[0m \u001b[32m━━━━━━━━━━━━━━━━━━━━\u001b[0m\u001b[37m\u001b[0m \u001b[1m2s\u001b[0m 48ms/step - kl_loss: 14.9571 - loss: 579.4412 - reconstruction_loss: 564.4840 - val_kl_loss: 15.0831 - val_loss: 588.3422 - val_reconstruction_loss: 567.3887\n",
            "Epoch 50/1000\n",
            "\u001b[1m48/48\u001b[0m \u001b[32m━━━━━━━━━━━━━━━━━━━━\u001b[0m\u001b[37m\u001b[0m \u001b[1m2s\u001b[0m 47ms/step - kl_loss: 14.5196 - loss: 579.7679 - reconstruction_loss: 565.2483 - val_kl_loss: 15.5337 - val_loss: 633.0610 - val_reconstruction_loss: 621.9767\n",
            "Epoch 51/1000\n",
            "\u001b[1m48/48\u001b[0m \u001b[32m━━━━━━━━━━━━━━━━━━━━\u001b[0m\u001b[37m\u001b[0m \u001b[1m2s\u001b[0m 47ms/step - kl_loss: 12.8097 - loss: 690.8577 - reconstruction_loss: 678.0479 - val_kl_loss: 14.3997 - val_loss: 600.7688 - val_reconstruction_loss: 583.9226\n",
            "Epoch 52/1000\n",
            "\u001b[1m48/48\u001b[0m \u001b[32m━━━━━━━━━━━━━━━━━━━━\u001b[0m\u001b[37m\u001b[0m \u001b[1m2s\u001b[0m 51ms/step - kl_loss: 14.3599 - loss: 587.3156 - reconstruction_loss: 572.9557 - val_kl_loss: 12.8648 - val_loss: 846.4723 - val_reconstruction_loss: 841.2889\n",
            "Epoch 53/1000\n",
            "\u001b[1m48/48\u001b[0m \u001b[32m━━━━━━━━━━━━━━━━━━━━\u001b[0m\u001b[37m\u001b[0m \u001b[1m2s\u001b[0m 48ms/step - kl_loss: 13.0415 - loss: 709.9395 - reconstruction_loss: 696.8981 - val_kl_loss: 14.5740 - val_loss: 635.6116 - val_reconstruction_loss: 625.4833\n",
            "Epoch 54/1000\n",
            "\u001b[1m48/48\u001b[0m \u001b[32m━━━━━━━━━━━━━━━━━━━━\u001b[0m\u001b[37m\u001b[0m \u001b[1m2s\u001b[0m 47ms/step - kl_loss: 13.9864 - loss: 583.6991 - reconstruction_loss: 569.7126 - val_kl_loss: 12.9708 - val_loss: 602.7524 - val_reconstruction_loss: 593.2191\n",
            "Epoch 55/1000\n",
            "\u001b[1m48/48\u001b[0m \u001b[32m━━━━━━━━━━━━━━━━━━━━\u001b[0m\u001b[37m\u001b[0m \u001b[1m2s\u001b[0m 47ms/step - kl_loss: 12.7710 - loss: 616.5839 - reconstruction_loss: 603.8130 - val_kl_loss: 13.0090 - val_loss: 596.0438 - val_reconstruction_loss: 583.1093\n",
            "Epoch 56/1000\n",
            "\u001b[1m48/48\u001b[0m \u001b[32m━━━━━━━━━━━━━━━━━━━━\u001b[0m\u001b[37m\u001b[0m \u001b[1m2s\u001b[0m 47ms/step - kl_loss: 13.1557 - loss: 552.5013 - reconstruction_loss: 539.3456 - val_kl_loss: 13.5026 - val_loss: 541.8743 - val_reconstruction_loss: 535.3987\n",
            "Epoch 57/1000\n",
            "\u001b[1m48/48\u001b[0m \u001b[32m━━━━━━━━━━━━━━━━━━━━\u001b[0m\u001b[37m\u001b[0m \u001b[1m2s\u001b[0m 47ms/step - kl_loss: 13.0971 - loss: 520.5293 - reconstruction_loss: 507.4323 - val_kl_loss: 13.0415 - val_loss: 519.2762 - val_reconstruction_loss: 507.9969\n",
            "Epoch 58/1000\n",
            "\u001b[1m48/48\u001b[0m \u001b[32m━━━━━━━━━━━━━━━━━━━━\u001b[0m\u001b[37m\u001b[0m \u001b[1m3s\u001b[0m 52ms/step - kl_loss: 12.9675 - loss: 485.9297 - reconstruction_loss: 472.9622 - val_kl_loss: 12.1610 - val_loss: 528.6995 - val_reconstruction_loss: 526.1230\n",
            "Epoch 59/1000\n",
            "\u001b[1m48/48\u001b[0m \u001b[32m━━━━━━━━━━━━━━━━━━━━\u001b[0m\u001b[37m\u001b[0m \u001b[1m2s\u001b[0m 47ms/step - kl_loss: 11.9771 - loss: 514.9852 - reconstruction_loss: 503.0081 - val_kl_loss: 10.8909 - val_loss: 590.0899 - val_reconstruction_loss: 578.7433\n",
            "Epoch 60/1000\n",
            "\u001b[1m48/48\u001b[0m \u001b[32m━━━━━━━━━━━━━━━━━━━━\u001b[0m\u001b[37m\u001b[0m \u001b[1m2s\u001b[0m 47ms/step - kl_loss: 11.1631 - loss: 570.3643 - reconstruction_loss: 559.2012 - val_kl_loss: 12.0883 - val_loss: 581.5533 - val_reconstruction_loss: 570.7032\n",
            "Epoch 61/1000\n",
            "\u001b[1m48/48\u001b[0m \u001b[32m━━━━━━━━━━━━━━━━━━━━\u001b[0m\u001b[37m\u001b[0m \u001b[1m2s\u001b[0m 47ms/step - kl_loss: 11.9935 - loss: 522.9712 - reconstruction_loss: 510.9777 - val_kl_loss: 12.4842 - val_loss: 548.4529 - val_reconstruction_loss: 536.5162\n",
            "Epoch 62/1000\n",
            "\u001b[1m48/48\u001b[0m \u001b[32m━━━━━━━━━━━━━━━━━━━━\u001b[0m\u001b[37m\u001b[0m \u001b[1m2s\u001b[0m 47ms/step - kl_loss: 11.7942 - loss: 532.7696 - reconstruction_loss: 520.9754 - val_kl_loss: 10.3867 - val_loss: 874.9753 - val_reconstruction_loss: 862.5453\n",
            "Epoch 63/1000\n",
            "\u001b[1m48/48\u001b[0m \u001b[32m━━━━━━━━━━━━━━━━━━━━\u001b[0m\u001b[37m\u001b[0m \u001b[1m2s\u001b[0m 51ms/step - kl_loss: 12.2379 - loss: 733.6219 - reconstruction_loss: 721.3841 - val_kl_loss: 12.5875 - val_loss: 581.4338 - val_reconstruction_loss: 568.6295\n",
            "Epoch 64/1000\n",
            "\u001b[1m48/48\u001b[0m \u001b[32m━━━━━━━━━━━━━━━━━━━━\u001b[0m\u001b[37m\u001b[0m \u001b[1m2s\u001b[0m 49ms/step - kl_loss: 12.4780 - loss: 534.2292 - reconstruction_loss: 521.7513 - val_kl_loss: 10.9390 - val_loss: 564.7916 - val_reconstruction_loss: 556.8079\n",
            "Epoch 65/1000\n",
            "\u001b[1m48/48\u001b[0m \u001b[32m━━━━━━━━━━━━━━━━━━━━\u001b[0m\u001b[37m\u001b[0m \u001b[1m2s\u001b[0m 47ms/step - kl_loss: 10.6271 - loss: 561.3933 - reconstruction_loss: 550.7662 - val_kl_loss: 10.7562 - val_loss: 538.8910 - val_reconstruction_loss: 521.0600\n",
            "Epoch 66/1000\n",
            "\u001b[1m48/48\u001b[0m \u001b[32m━━━━━━━━━━━━━━━━━━━━\u001b[0m\u001b[37m\u001b[0m \u001b[1m2s\u001b[0m 47ms/step - kl_loss: 10.6941 - loss: 525.9588 - reconstruction_loss: 515.2648 - val_kl_loss: 8.9431 - val_loss: 802.5862 - val_reconstruction_loss: 787.1039\n",
            "Epoch 67/1000\n",
            "\u001b[1m48/48\u001b[0m \u001b[32m━━━━━━━━━━━━━━━━━━━━\u001b[0m\u001b[37m\u001b[0m \u001b[1m2s\u001b[0m 47ms/step - kl_loss: 10.8004 - loss: 687.9845 - reconstruction_loss: 677.1841 - val_kl_loss: 10.1620 - val_loss: 613.7485 - val_reconstruction_loss: 606.7829\n",
            "Epoch 68/1000\n",
            "\u001b[1m48/48\u001b[0m \u001b[32m━━━━━━━━━━━━━━━━━━━━\u001b[0m\u001b[37m\u001b[0m \u001b[1m2s\u001b[0m 47ms/step - kl_loss: 10.8687 - loss: 538.1907 - reconstruction_loss: 527.3220 - val_kl_loss: 11.5392 - val_loss: 521.7162 - val_reconstruction_loss: 515.2975\n",
            "Epoch 69/1000\n",
            "\u001b[1m48/48\u001b[0m \u001b[32m━━━━━━━━━━━━━━━━━━━━\u001b[0m\u001b[37m\u001b[0m \u001b[1m2s\u001b[0m 51ms/step - kl_loss: 10.7499 - loss: 500.9150 - reconstruction_loss: 490.1652 - val_kl_loss: 10.4194 - val_loss: 596.4915 - val_reconstruction_loss: 579.6046\n",
            "Epoch 70/1000\n",
            "\u001b[1m48/48\u001b[0m \u001b[32m━━━━━━━━━━━━━━━━━━━━\u001b[0m\u001b[37m\u001b[0m \u001b[1m2s\u001b[0m 48ms/step - kl_loss: 10.0074 - loss: 516.8729 - reconstruction_loss: 506.8655 - val_kl_loss: 9.4019 - val_loss: 634.6345 - val_reconstruction_loss: 615.8740\n",
            "Epoch 71/1000\n",
            "\u001b[1m48/48\u001b[0m \u001b[32m━━━━━━━━━━━━━━━━━━━━\u001b[0m\u001b[37m\u001b[0m \u001b[1m2s\u001b[0m 47ms/step - kl_loss: 7.8523 - loss: 1338.3375 - reconstruction_loss: 1330.4851 - val_kl_loss: 10.6596 - val_loss: 937.2207 - val_reconstruction_loss: 921.1963\n",
            "Epoch 72/1000\n",
            "\u001b[1m48/48\u001b[0m \u001b[32m━━━━━━━━━━━━━━━━━━━━\u001b[0m\u001b[37m\u001b[0m \u001b[1m2s\u001b[0m 47ms/step - kl_loss: 9.5877 - loss: 852.3459 - reconstruction_loss: 842.7584 - val_kl_loss: 8.4622 - val_loss: 740.4241 - val_reconstruction_loss: 730.0512\n",
            "Epoch 73/1000\n",
            "\u001b[1m48/48\u001b[0m \u001b[32m━━━━━━━━━━━━━━━━━━━━\u001b[0m\u001b[37m\u001b[0m \u001b[1m2s\u001b[0m 47ms/step - kl_loss: 8.7682 - loss: 677.1331 - reconstruction_loss: 668.3649 - val_kl_loss: 13.1262 - val_loss: 861.1978 - val_reconstruction_loss: 852.4056\n",
            "Epoch 74/1000\n",
            "\u001b[1m48/48\u001b[0m \u001b[32m━━━━━━━━━━━━━━━━━━━━\u001b[0m\u001b[37m\u001b[0m \u001b[1m3s\u001b[0m 49ms/step - kl_loss: 11.7882 - loss: 744.6142 - reconstruction_loss: 732.8259 - val_kl_loss: 8.1355 - val_loss: 818.3356 - val_reconstruction_loss: 807.7014\n",
            "Epoch 75/1000\n",
            "\u001b[1m48/48\u001b[0m \u001b[32m━━━━━━━━━━━━━━━━━━━━\u001b[0m\u001b[37m\u001b[0m \u001b[1m2s\u001b[0m 49ms/step - kl_loss: 8.5753 - loss: 692.3880 - reconstruction_loss: 683.8126 - val_kl_loss: 9.3184 - val_loss: 611.8372 - val_reconstruction_loss: 597.5785\n",
            "Epoch 76/1000\n",
            "\u001b[1m48/48\u001b[0m \u001b[32m━━━━━━━━━━━━━━━━━━━━\u001b[0m\u001b[37m\u001b[0m \u001b[1m2s\u001b[0m 47ms/step - kl_loss: 8.6984 - loss: 597.1552 - reconstruction_loss: 588.4567 - val_kl_loss: 3.7891 - val_loss: 2201.1055 - val_reconstruction_loss: 2183.5664\n",
            "Epoch 77/1000\n",
            "\u001b[1m48/48\u001b[0m \u001b[32m━━━━━━━━━━━━━━━━━━━━\u001b[0m\u001b[37m\u001b[0m \u001b[1m2s\u001b[0m 47ms/step - kl_loss: 16.2851 - loss: 1717.1006 - reconstruction_loss: 1700.8157 - val_kl_loss: 20.5099 - val_loss: 882.5659 - val_reconstruction_loss: 857.9351\n",
            "Epoch 78/1000\n",
            "\u001b[1m48/48\u001b[0m \u001b[32m━━━━━━━━━━━━━━━━━━━━\u001b[0m\u001b[37m\u001b[0m \u001b[1m2s\u001b[0m 47ms/step - kl_loss: 14.9957 - loss: 857.6082 - reconstruction_loss: 842.6125 - val_kl_loss: 12.3258 - val_loss: 748.1043 - val_reconstruction_loss: 741.4362\n",
            "Epoch 79/1000\n",
            "\u001b[1m48/48\u001b[0m \u001b[32m━━━━━━━━━━━━━━━━━━━━\u001b[0m\u001b[37m\u001b[0m \u001b[1m2s\u001b[0m 47ms/step - kl_loss: 9.9013 - loss: 788.7554 - reconstruction_loss: 778.8541 - val_kl_loss: 9.0843 - val_loss: 774.0663 - val_reconstruction_loss: 763.7495\n",
            "Epoch 80/1000\n",
            "\u001b[1m48/48\u001b[0m \u001b[32m━━━━━━━━━━━━━━━━━━━━\u001b[0m\u001b[37m\u001b[0m \u001b[1m3s\u001b[0m 55ms/step - kl_loss: 8.8791 - loss: 706.9631 - reconstruction_loss: 698.0840 - val_kl_loss: 9.0358 - val_loss: 635.2994 - val_reconstruction_loss: 619.6773\n",
            "Epoch 81/1000\n",
            "\u001b[1m48/48\u001b[0m \u001b[32m━━━━━━━━━━━━━━━━━━━━\u001b[0m\u001b[37m\u001b[0m \u001b[1m5s\u001b[0m 48ms/step - kl_loss: 8.1908 - loss: 620.7405 - reconstruction_loss: 612.5497 - val_kl_loss: 8.3887 - val_loss: 614.0192 - val_reconstruction_loss: 610.7544\n",
            "Epoch 82/1000\n",
            "\u001b[1m48/48\u001b[0m \u001b[32m━━━━━━━━━━━━━━━━━━━━\u001b[0m\u001b[37m\u001b[0m \u001b[1m2s\u001b[0m 47ms/step - kl_loss: 7.9903 - loss: 567.6038 - reconstruction_loss: 559.6135 - val_kl_loss: 7.9240 - val_loss: 579.6565 - val_reconstruction_loss: 569.1284\n",
            "Epoch 83/1000\n",
            "\u001b[1m48/48\u001b[0m \u001b[32m━━━━━━━━━━━━━━━━━━━━\u001b[0m\u001b[37m\u001b[0m \u001b[1m2s\u001b[0m 47ms/step - kl_loss: 6.9624 - loss: 531.6776 - reconstruction_loss: 524.7152 - val_kl_loss: 5.8051 - val_loss: 699.0885 - val_reconstruction_loss: 694.2586\n",
            "Epoch 84/1000\n",
            "\u001b[1m48/48\u001b[0m \u001b[32m━━━━━━━━━━━━━━━━━━━━\u001b[0m\u001b[37m\u001b[0m \u001b[1m3s\u001b[0m 55ms/step - kl_loss: 5.9553 - loss: 677.1323 - reconstruction_loss: 671.1771 - val_kl_loss: 6.6479 - val_loss: 637.1439 - val_reconstruction_loss: 632.0314\n",
            "Epoch 85/1000\n",
            "\u001b[1m48/48\u001b[0m \u001b[32m━━━━━━━━━━━━━━━━━━━━\u001b[0m\u001b[37m\u001b[0m \u001b[1m5s\u001b[0m 49ms/step - kl_loss: 6.0360 - loss: 596.6852 - reconstruction_loss: 590.6492 - val_kl_loss: 5.7433 - val_loss: 592.8037 - val_reconstruction_loss: 585.5386\n",
            "Epoch 86/1000\n",
            "\u001b[1m48/48\u001b[0m \u001b[32m━━━━━━━━━━━━━━━━━━━━\u001b[0m\u001b[37m\u001b[0m \u001b[1m2s\u001b[0m 47ms/step - kl_loss: 5.5066 - loss: 542.0050 - reconstruction_loss: 536.4984 - val_kl_loss: 5.5800 - val_loss: 543.4770 - val_reconstruction_loss: 540.7595\n",
            "Epoch 87/1000\n",
            "\u001b[1m48/48\u001b[0m \u001b[32m━━━━━━━━━━━━━━━━━━━━\u001b[0m\u001b[37m\u001b[0m \u001b[1m2s\u001b[0m 47ms/step - kl_loss: 5.3109 - loss: 484.5575 - reconstruction_loss: 479.2466 - val_kl_loss: 5.0625 - val_loss: 511.7697 - val_reconstruction_loss: 508.9848\n",
            "Epoch 88/1000\n",
            "\u001b[1m48/48\u001b[0m \u001b[32m━━━━━━━━━━━━━━━━━━━━\u001b[0m\u001b[37m\u001b[0m \u001b[1m3s\u001b[0m 54ms/step - kl_loss: 4.8395 - loss: 479.9394 - reconstruction_loss: 475.0999 - val_kl_loss: 4.5222 - val_loss: 523.2130 - val_reconstruction_loss: 517.4517\n",
            "Epoch 89/1000\n",
            "\u001b[1m48/48\u001b[0m \u001b[32m━━━━━━━━━━━━━━━━━━━━\u001b[0m\u001b[37m\u001b[0m \u001b[1m5s\u001b[0m 49ms/step - kl_loss: 4.3960 - loss: 461.9418 - reconstruction_loss: 457.5458 - val_kl_loss: 4.5735 - val_loss: 484.5325 - val_reconstruction_loss: 477.6145\n",
            "Epoch 90/1000\n",
            "\u001b[1m48/48\u001b[0m \u001b[32m━━━━━━━━━━━━━━━━━━━━\u001b[0m\u001b[37m\u001b[0m \u001b[1m2s\u001b[0m 47ms/step - kl_loss: 5.5079 - loss: 769.5015 - reconstruction_loss: 763.9935 - val_kl_loss: 18.5051 - val_loss: 1654.9156 - val_reconstruction_loss: 1631.3008\n",
            "Epoch 91/1000\n",
            "\u001b[1m48/48\u001b[0m \u001b[32m━━━━━━━━━━━━━━━━━━━━\u001b[0m\u001b[37m\u001b[0m \u001b[1m3s\u001b[0m 47ms/step - kl_loss: 14.4884 - loss: 1356.7468 - reconstruction_loss: 1342.2585 - val_kl_loss: 8.1362 - val_loss: 870.0395 - val_reconstruction_loss: 855.7917\n",
            "Epoch 92/1000\n",
            "\u001b[1m48/48\u001b[0m \u001b[32m━━━━━━━━━━━━━━━━━━━━\u001b[0m\u001b[37m\u001b[0m \u001b[1m2s\u001b[0m 50ms/step - kl_loss: 5.9228 - loss: 850.0795 - reconstruction_loss: 844.1568 - val_kl_loss: 4.2549 - val_loss: 816.3819 - val_reconstruction_loss: 808.8577\n",
            "Epoch 93/1000\n",
            "\u001b[1m48/48\u001b[0m \u001b[32m━━━━━━━━━━━━━━━━━━━━\u001b[0m\u001b[37m\u001b[0m \u001b[1m2s\u001b[0m 48ms/step - kl_loss: 4.0791 - loss: 705.8120 - reconstruction_loss: 701.7328 - val_kl_loss: 4.0486 - val_loss: 621.0464 - val_reconstruction_loss: 614.6697\n",
            "Epoch 94/1000\n",
            "\u001b[1m48/48\u001b[0m \u001b[32m━━━━━━━━━━━━━━━━━━━━\u001b[0m\u001b[37m\u001b[0m \u001b[1m2s\u001b[0m 47ms/step - kl_loss: 3.6254 - loss: 589.1393 - reconstruction_loss: 585.5138 - val_kl_loss: 3.6850 - val_loss: 601.0157 - val_reconstruction_loss: 602.8299\n",
            "Epoch 95/1000\n",
            "\u001b[1m48/48\u001b[0m \u001b[32m━━━━━━━━━━━━━━━━━━━━\u001b[0m\u001b[37m\u001b[0m \u001b[1m2s\u001b[0m 47ms/step - kl_loss: 3.0276 - loss: 578.6818 - reconstruction_loss: 575.6541 - val_kl_loss: 3.0479 - val_loss: 634.9536 - val_reconstruction_loss: 642.0954\n",
            "Epoch 96/1000\n",
            "\u001b[1m48/48\u001b[0m \u001b[32m━━━━━━━━━━━━━━━━━━━━\u001b[0m\u001b[37m\u001b[0m \u001b[1m2s\u001b[0m 47ms/step - kl_loss: 2.6936 - loss: 557.9667 - reconstruction_loss: 555.2731 - val_kl_loss: 2.4371 - val_loss: 536.9314 - val_reconstruction_loss: 536.9788\n",
            "Epoch 97/1000\n",
            "\u001b[1m48/48\u001b[0m \u001b[32m━━━━━━━━━━━━━━━━━━━━\u001b[0m\u001b[37m\u001b[0m \u001b[1m3s\u001b[0m 54ms/step - kl_loss: 2.0706 - loss: 486.2721 - reconstruction_loss: 484.2014 - val_kl_loss: 2.0174 - val_loss: 505.2141 - val_reconstruction_loss: 503.7874\n",
            "Epoch 98/1000\n",
            "\u001b[1m48/48\u001b[0m \u001b[32m━━━━━━━━━━━━━━━━━━━━\u001b[0m\u001b[37m\u001b[0m \u001b[1m3s\u001b[0m 55ms/step - kl_loss: 1.5554 - loss: 506.6891 - reconstruction_loss: 505.1337 - val_kl_loss: 1.5630 - val_loss: 660.3285 - val_reconstruction_loss: 659.2673\n",
            "Epoch 99/1000\n",
            "\u001b[1m48/48\u001b[0m \u001b[32m━━━━━━━━━━━━━━━━━━━━\u001b[0m\u001b[37m\u001b[0m \u001b[1m5s\u001b[0m 48ms/step - kl_loss: 1.1203 - loss: 603.1213 - reconstruction_loss: 602.0011 - val_kl_loss: 0.9853 - val_loss: 602.1948 - val_reconstruction_loss: 593.5607\n",
            "Epoch 100/1000\n",
            "\u001b[1m48/48\u001b[0m \u001b[32m━━━━━━━━━━━━━━━━━━━━\u001b[0m\u001b[37m\u001b[0m \u001b[1m2s\u001b[0m 47ms/step - kl_loss: 0.5314 - loss: 584.3133 - reconstruction_loss: 583.7819 - val_kl_loss: 0.5258 - val_loss: 617.7271 - val_reconstruction_loss: 615.3354\n",
            "Epoch 101/1000\n",
            "\u001b[1m48/48\u001b[0m \u001b[32m━━━━━━━━━━━━━━━━━━━━\u001b[0m\u001b[37m\u001b[0m \u001b[1m2s\u001b[0m 47ms/step - kl_loss: 3.5680e-05 - loss: 550.0333 - reconstruction_loss: 550.0333 - val_kl_loss: 3.7184e-05 - val_loss: 578.8385 - val_reconstruction_loss: 576.5035\n",
            "Epoch 102/1000\n",
            "\u001b[1m48/48\u001b[0m \u001b[32m━━━━━━━━━━━━━━━━━━━━\u001b[0m\u001b[37m\u001b[0m \u001b[1m3s\u001b[0m 55ms/step - kl_loss: 0.0000e+00 - loss: 581.0349 - reconstruction_loss: 581.0349 - val_kl_loss: 0.0000e+00 - val_loss: 517.7485 - val_reconstruction_loss: 526.6646\n",
            "Epoch 103/1000\n",
            "\u001b[1m48/48\u001b[0m \u001b[32m━━━━━━━━━━━━━━━━━━━━\u001b[0m\u001b[37m\u001b[0m \u001b[1m5s\u001b[0m 48ms/step - kl_loss: 0.0000e+00 - loss: 480.3047 - reconstruction_loss: 480.3047 - val_kl_loss: 0.0000e+00 - val_loss: 495.3401 - val_reconstruction_loss: 490.2818\n",
            "Epoch 104/1000\n",
            "\u001b[1m48/48\u001b[0m \u001b[32m━━━━━━━━━━━━━━━━━━━━\u001b[0m\u001b[37m\u001b[0m \u001b[1m2s\u001b[0m 47ms/step - kl_loss: 0.0000e+00 - loss: 458.9364 - reconstruction_loss: 458.9364 - val_kl_loss: 0.0000e+00 - val_loss: 495.0081 - val_reconstruction_loss: 492.1682\n",
            "Epoch 105/1000\n",
            "\u001b[1m48/48\u001b[0m \u001b[32m━━━━━━━━━━━━━━━━━━━━\u001b[0m\u001b[37m\u001b[0m \u001b[1m2s\u001b[0m 47ms/step - kl_loss: 0.0000e+00 - loss: 774.2990 - reconstruction_loss: 774.2990 - val_kl_loss: 0.0000e+00 - val_loss: 821.2631 - val_reconstruction_loss: 819.9910\n",
            "Epoch 106/1000\n",
            "\u001b[1m48/48\u001b[0m \u001b[32m━━━━━━━━━━━━━━━━━━━━\u001b[0m\u001b[37m\u001b[0m \u001b[1m3s\u001b[0m 54ms/step - kl_loss: 0.0000e+00 - loss: 731.8430 - reconstruction_loss: 731.8430 - val_kl_loss: 0.0000e+00 - val_loss: 681.1079 - val_reconstruction_loss: 684.4164\n",
            "Epoch 107/1000\n",
            "\u001b[1m48/48\u001b[0m \u001b[32m━━━━━━━━━━━━━━━━━━━━\u001b[0m\u001b[37m\u001b[0m \u001b[1m2s\u001b[0m 48ms/step - kl_loss: 0.0000e+00 - loss: 605.0878 - reconstruction_loss: 605.0878 - val_kl_loss: 0.0000e+00 - val_loss: 545.5006 - val_reconstruction_loss: 544.1910\n",
            "Epoch 108/1000\n",
            "\u001b[1m48/48\u001b[0m \u001b[32m━━━━━━━━━━━━━━━━━━━━\u001b[0m\u001b[37m\u001b[0m \u001b[1m3s\u001b[0m 47ms/step - kl_loss: 0.0000e+00 - loss: 521.6005 - reconstruction_loss: 521.6005 - val_kl_loss: 0.0000e+00 - val_loss: 516.8392 - val_reconstruction_loss: 515.4434\n",
            "Epoch 109/1000\n",
            "\u001b[1m48/48\u001b[0m \u001b[32m━━━━━━━━━━━━━━━━━━━━\u001b[0m\u001b[37m\u001b[0m \u001b[1m2s\u001b[0m 47ms/step - kl_loss: 0.0000e+00 - loss: 525.7397 - reconstruction_loss: 525.7397 - val_kl_loss: 0.0000e+00 - val_loss: 789.4482 - val_reconstruction_loss: 788.4434\n",
            "Epoch 110/1000\n",
            "\u001b[1m48/48\u001b[0m \u001b[32m━━━━━━━━━━━━━━━━━━━━\u001b[0m\u001b[37m\u001b[0m \u001b[1m2s\u001b[0m 47ms/step - kl_loss: 0.0000e+00 - loss: 688.9326 - reconstruction_loss: 688.9326 - val_kl_loss: 0.0000e+00 - val_loss: 707.1406 - val_reconstruction_loss: 701.2290\n",
            "Epoch 111/1000\n",
            "\u001b[1m48/48\u001b[0m \u001b[32m━━━━━━━━━━━━━━━━━━━━\u001b[0m\u001b[37m\u001b[0m \u001b[1m3s\u001b[0m 47ms/step - kl_loss: 0.0000e+00 - loss: 589.4548 - reconstruction_loss: 589.4548 - val_kl_loss: 0.0000e+00 - val_loss: 548.2413 - val_reconstruction_loss: 553.9276\n",
            "Epoch 112/1000\n",
            "\u001b[1m48/48\u001b[0m \u001b[32m━━━━━━━━━━━━━━━━━━━━\u001b[0m\u001b[37m\u001b[0m \u001b[1m3s\u001b[0m 55ms/step - kl_loss: 0.0000e+00 - loss: 495.3394 - reconstruction_loss: 495.3394 - val_kl_loss: 0.0000e+00 - val_loss: 668.1060 - val_reconstruction_loss: 666.6821\n",
            "Epoch 113/1000\n",
            "\u001b[1m48/48\u001b[0m \u001b[32m━━━━━━━━━━━━━━━━━━━━\u001b[0m\u001b[37m\u001b[0m \u001b[1m2s\u001b[0m 46ms/step - kl_loss: 0.0000e+00 - loss: 558.2552 - reconstruction_loss: 558.2552 - val_kl_loss: 0.0000e+00 - val_loss: 538.4277 - val_reconstruction_loss: 529.4178\n",
            "Epoch 114/1000\n",
            "\u001b[1m48/48\u001b[0m \u001b[32m━━━━━━━━━━━━━━━━━━━━\u001b[0m\u001b[37m\u001b[0m \u001b[1m2s\u001b[0m 47ms/step - kl_loss: 0.0000e+00 - loss: 562.2015 - reconstruction_loss: 562.2015 - val_kl_loss: 0.0000e+00 - val_loss: 556.5701 - val_reconstruction_loss: 553.6152\n",
            "Epoch 115/1000\n",
            "\u001b[1m48/48\u001b[0m \u001b[32m━━━━━━━━━━━━━━━━━━━━\u001b[0m\u001b[37m\u001b[0m \u001b[1m2s\u001b[0m 47ms/step - kl_loss: 0.0000e+00 - loss: 508.5997 - reconstruction_loss: 508.5997 - val_kl_loss: 0.0000e+00 - val_loss: 529.9806 - val_reconstruction_loss: 531.0508\n",
            "Epoch 116/1000\n",
            "\u001b[1m48/48\u001b[0m \u001b[32m━━━━━━━━━━━━━━━━━━━━\u001b[0m\u001b[37m\u001b[0m \u001b[1m2s\u001b[0m 47ms/step - kl_loss: 0.0000e+00 - loss: 471.4821 - reconstruction_loss: 471.4821 - val_kl_loss: 0.0000e+00 - val_loss: 478.5453 - val_reconstruction_loss: 488.2865\n",
            "Epoch 117/1000\n",
            "\u001b[1m48/48\u001b[0m \u001b[32m━━━━━━━━━━━━━━━━━━━━\u001b[0m\u001b[37m\u001b[0m \u001b[1m3s\u001b[0m 55ms/step - kl_loss: 0.0000e+00 - loss: 420.3027 - reconstruction_loss: 420.3027 - val_kl_loss: 0.0000e+00 - val_loss: 462.4767 - val_reconstruction_loss: 464.3553\n",
            "Epoch 118/1000\n",
            "\u001b[1m48/48\u001b[0m \u001b[32m━━━━━━━━━━━━━━━━━━━━\u001b[0m\u001b[37m\u001b[0m \u001b[1m2s\u001b[0m 48ms/step - kl_loss: 0.0000e+00 - loss: 408.6682 - reconstruction_loss: 408.6682 - val_kl_loss: 0.0000e+00 - val_loss: 738.5956 - val_reconstruction_loss: 738.7405\n",
            "Epoch 119/1000\n",
            "\u001b[1m48/48\u001b[0m \u001b[32m━━━━━━━━━━━━━━━━━━━━\u001b[0m\u001b[37m\u001b[0m \u001b[1m2s\u001b[0m 47ms/step - kl_loss: 0.0000e+00 - loss: 540.3123 - reconstruction_loss: 540.3123 - val_kl_loss: 0.0000e+00 - val_loss: 492.8041 - val_reconstruction_loss: 488.6803\n",
            "Epoch 120/1000\n",
            "\u001b[1m48/48\u001b[0m \u001b[32m━━━━━━━━━━━━━━━━━━━━\u001b[0m\u001b[37m\u001b[0m \u001b[1m2s\u001b[0m 47ms/step - kl_loss: 0.0000e+00 - loss: 428.5905 - reconstruction_loss: 428.5905 - val_kl_loss: 0.0000e+00 - val_loss: 506.3755 - val_reconstruction_loss: 504.7405\n",
            "Epoch 121/1000\n",
            "\u001b[1m48/48\u001b[0m \u001b[32m━━━━━━━━━━━━━━━━━━━━\u001b[0m\u001b[37m\u001b[0m \u001b[1m2s\u001b[0m 47ms/step - kl_loss: 0.0000e+00 - loss: 531.1559 - reconstruction_loss: 531.1559 - val_kl_loss: 0.0000e+00 - val_loss: 654.7852 - val_reconstruction_loss: 648.5201\n",
            "Epoch 122/1000\n",
            "\u001b[1m48/48\u001b[0m \u001b[32m━━━━━━━━━━━━━━━━━━━━\u001b[0m\u001b[37m\u001b[0m \u001b[1m2s\u001b[0m 48ms/step - kl_loss: 0.0000e+00 - loss: 594.7143 - reconstruction_loss: 594.7143 - val_kl_loss: 0.0000e+00 - val_loss: 544.0126 - val_reconstruction_loss: 549.2147\n",
            "Epoch 123/1000\n",
            "\u001b[1m48/48\u001b[0m \u001b[32m━━━━━━━━━━━━━━━━━━━━\u001b[0m\u001b[37m\u001b[0m \u001b[1m3s\u001b[0m 52ms/step - kl_loss: 0.0000e+00 - loss: 485.7378 - reconstruction_loss: 485.7378 - val_kl_loss: 0.0000e+00 - val_loss: 993.3207 - val_reconstruction_loss: 988.1926\n",
            "Epoch 124/1000\n",
            "\u001b[1m48/48\u001b[0m \u001b[32m━━━━━━━━━━━━━━━━━━━━\u001b[0m\u001b[37m\u001b[0m \u001b[1m2s\u001b[0m 47ms/step - kl_loss: 0.0000e+00 - loss: 747.5768 - reconstruction_loss: 747.5768 - val_kl_loss: 0.0000e+00 - val_loss: 589.0037 - val_reconstruction_loss: 588.2294\n",
            "Epoch 125/1000\n",
            "\u001b[1m48/48\u001b[0m \u001b[32m━━━━━━━━━━━━━━━━━━━━\u001b[0m\u001b[37m\u001b[0m \u001b[1m3s\u001b[0m 47ms/step - kl_loss: 0.0000e+00 - loss: 546.5300 - reconstruction_loss: 546.5300 - val_kl_loss: 0.0000e+00 - val_loss: 549.2687 - val_reconstruction_loss: 555.4404\n",
            "Epoch 126/1000\n",
            "\u001b[1m48/48\u001b[0m \u001b[32m━━━━━━━━━━━━━━━━━━━━\u001b[0m\u001b[37m\u001b[0m \u001b[1m2s\u001b[0m 47ms/step - kl_loss: 0.0000e+00 - loss: 484.1083 - reconstruction_loss: 484.1083 - val_kl_loss: 0.0000e+00 - val_loss: 487.6090 - val_reconstruction_loss: 481.6445\n",
            "Epoch 127/1000\n",
            "\u001b[1m48/48\u001b[0m \u001b[32m━━━━━━━━━━━━━━━━━━━━\u001b[0m\u001b[37m\u001b[0m \u001b[1m2s\u001b[0m 47ms/step - kl_loss: 0.0000e+00 - loss: 430.0203 - reconstruction_loss: 430.0203 - val_kl_loss: 0.0000e+00 - val_loss: 470.5701 - val_reconstruction_loss: 470.9131\n",
            "Epoch 128/1000\n",
            "\u001b[1m48/48\u001b[0m \u001b[32m━━━━━━━━━━━━━━━━━━━━\u001b[0m\u001b[37m\u001b[0m \u001b[1m3s\u001b[0m 56ms/step - kl_loss: 0.0000e+00 - loss: 488.4703 - reconstruction_loss: 488.4703 - val_kl_loss: 0.0000e+00 - val_loss: 542.5992 - val_reconstruction_loss: 541.1613\n",
            "Epoch 129/1000\n",
            "\u001b[1m48/48\u001b[0m \u001b[32m━━━━━━━━━━━━━━━━━━━━\u001b[0m\u001b[37m\u001b[0m \u001b[1m2s\u001b[0m 47ms/step - kl_loss: 0.0000e+00 - loss: 466.8406 - reconstruction_loss: 466.8406 - val_kl_loss: 0.0000e+00 - val_loss: 502.6497 - val_reconstruction_loss: 512.0450\n",
            "Epoch 130/1000\n",
            "\u001b[1m48/48\u001b[0m \u001b[32m━━━━━━━━━━━━━━━━━━━━\u001b[0m\u001b[37m\u001b[0m \u001b[1m2s\u001b[0m 47ms/step - kl_loss: 0.0000e+00 - loss: 436.0900 - reconstruction_loss: 436.0900 - val_kl_loss: 0.0000e+00 - val_loss: 451.3854 - val_reconstruction_loss: 451.6877\n",
            "Epoch 131/1000\n",
            "\u001b[1m48/48\u001b[0m \u001b[32m━━━━━━━━━━━━━━━━━━━━\u001b[0m\u001b[37m\u001b[0m \u001b[1m2s\u001b[0m 47ms/step - kl_loss: 0.0000e+00 - loss: 390.4892 - reconstruction_loss: 390.4892 - val_kl_loss: 0.0000e+00 - val_loss: 442.9611 - val_reconstruction_loss: 437.2759\n",
            "Epoch 132/1000\n",
            "\u001b[1m48/48\u001b[0m \u001b[32m━━━━━━━━━━━━━━━━━━━━\u001b[0m\u001b[37m\u001b[0m \u001b[1m2s\u001b[0m 46ms/step - kl_loss: 0.0000e+00 - loss: 385.0876 - reconstruction_loss: 385.0876 - val_kl_loss: 0.0000e+00 - val_loss: 432.6773 - val_reconstruction_loss: 434.3402\n",
            "Epoch 133/1000\n",
            "\u001b[1m48/48\u001b[0m \u001b[32m━━━━━━━━━━━━━━━━━━━━\u001b[0m\u001b[37m\u001b[0m \u001b[1m3s\u001b[0m 54ms/step - kl_loss: 0.0000e+00 - loss: 382.2017 - reconstruction_loss: 382.2017 - val_kl_loss: 0.0000e+00 - val_loss: 507.7223 - val_reconstruction_loss: 506.6167\n",
            "Epoch 134/1000\n",
            "\u001b[1m48/48\u001b[0m \u001b[32m━━━━━━━━━━━━━━━━━━━━\u001b[0m\u001b[37m\u001b[0m \u001b[1m5s\u001b[0m 49ms/step - kl_loss: 0.0000e+00 - loss: 417.4269 - reconstruction_loss: 417.4269 - val_kl_loss: 0.0000e+00 - val_loss: 423.1637 - val_reconstruction_loss: 424.4317\n",
            "Epoch 135/1000\n",
            "\u001b[1m48/48\u001b[0m \u001b[32m━━━━━━━━━━━━━━━━━━━━\u001b[0m\u001b[37m\u001b[0m \u001b[1m2s\u001b[0m 47ms/step - kl_loss: 0.0000e+00 - loss: 353.3907 - reconstruction_loss: 353.3907 - val_kl_loss: 0.0000e+00 - val_loss: 409.9120 - val_reconstruction_loss: 406.2720\n",
            "Epoch 136/1000\n",
            "\u001b[1m48/48\u001b[0m \u001b[32m━━━━━━━━━━━━━━━━━━━━\u001b[0m\u001b[37m\u001b[0m \u001b[1m2s\u001b[0m 47ms/step - kl_loss: 0.0000e+00 - loss: 377.8707 - reconstruction_loss: 377.8707 - val_kl_loss: 0.0000e+00 - val_loss: 495.2067 - val_reconstruction_loss: 497.7192\n",
            "Epoch 137/1000\n",
            "\u001b[1m48/48\u001b[0m \u001b[32m━━━━━━━━━━━━━━━━━━━━\u001b[0m\u001b[37m\u001b[0m \u001b[1m3s\u001b[0m 53ms/step - kl_loss: 0.0000e+00 - loss: 412.9173 - reconstruction_loss: 412.9173 - val_kl_loss: 0.0000e+00 - val_loss: 539.8107 - val_reconstruction_loss: 532.7622\n",
            "Epoch 138/1000\n",
            "\u001b[1m48/48\u001b[0m \u001b[32m━━━━━━━━━━━━━━━━━━━━\u001b[0m\u001b[37m\u001b[0m \u001b[1m5s\u001b[0m 48ms/step - kl_loss: 0.0000e+00 - loss: 443.5015 - reconstruction_loss: 443.5015 - val_kl_loss: 0.0000e+00 - val_loss: 431.5336 - val_reconstruction_loss: 430.1012\n",
            "Epoch 139/1000\n",
            "\u001b[1m48/48\u001b[0m \u001b[32m━━━━━━━━━━━━━━━━━━━━\u001b[0m\u001b[37m\u001b[0m \u001b[1m2s\u001b[0m 47ms/step - kl_loss: 0.0000e+00 - loss: 372.0673 - reconstruction_loss: 372.0673 - val_kl_loss: 0.0000e+00 - val_loss: 1213.7250 - val_reconstruction_loss: 1208.4536\n",
            "Epoch 140/1000\n",
            "\u001b[1m48/48\u001b[0m \u001b[32m━━━━━━━━━━━━━━━━━━━━\u001b[0m\u001b[37m\u001b[0m \u001b[1m2s\u001b[0m 46ms/step - kl_loss: 0.0000e+00 - loss: 876.3971 - reconstruction_loss: 876.3971 - val_kl_loss: 0.0000e+00 - val_loss: 532.9880 - val_reconstruction_loss: 534.6581\n",
            "Epoch 141/1000\n",
            "\u001b[1m48/48\u001b[0m \u001b[32m━━━━━━━━━━━━━━━━━━━━\u001b[0m\u001b[37m\u001b[0m \u001b[1m2s\u001b[0m 48ms/step - kl_loss: 0.0000e+00 - loss: 471.6159 - reconstruction_loss: 471.6159 - val_kl_loss: 0.0000e+00 - val_loss: 476.8573 - val_reconstruction_loss: 475.4252\n",
            "Epoch 142/1000\n",
            "\u001b[1m48/48\u001b[0m \u001b[32m━━━━━━━━━━━━━━━━━━━━\u001b[0m\u001b[37m\u001b[0m \u001b[1m2s\u001b[0m 51ms/step - kl_loss: 0.0000e+00 - loss: 415.1215 - reconstruction_loss: 415.1215 - val_kl_loss: 0.0000e+00 - val_loss: 494.7903 - val_reconstruction_loss: 497.4698\n",
            "Epoch 143/1000\n",
            "\u001b[1m47/48\u001b[0m \u001b[32m━━━━━━━━━━━━━━━━━━━\u001b[0m\u001b[37m━\u001b[0m \u001b[1m0s\u001b[0m 40ms/step - kl_loss: 0.0000e+00 - loss: 434.5710 - reconstruction_loss: 434.5710"
          ]
        }
      ]
    }
  ]
}