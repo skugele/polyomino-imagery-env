{
  "nbformat": 4,
  "nbformat_minor": 0,
  "metadata": {
    "colab": {
      "provenance": [],
      "gpuType": "T4",
      "mount_file_id": "1fiRxFY49EGBxnnBTyxBfN_w41OTd0r7P",
      "authorship_tag": "ABX9TyN/3uykbsG58RQOJ78dIJej",
      "include_colab_link": true
    },
    "kernelspec": {
      "name": "python3",
      "display_name": "Python 3"
    },
    "language_info": {
      "name": "python"
    },
    "accelerator": "GPU"
  },
  "cells": [
    {
      "cell_type": "markdown",
      "metadata": {
        "id": "view-in-github",
        "colab_type": "text"
      },
      "source": [
        "<a href=\"https://colab.research.google.com/github/skugele/polyomino-imagery-env/blob/environment-additions/bvae_Research.ipynb\" target=\"_parent\"><img src=\"https://colab.research.google.com/assets/colab-badge.svg\" alt=\"Open In Colab\"/></a>"
      ]
    },
    {
      "cell_type": "code",
      "execution_count": null,
      "metadata": {
        "id": "VbZXSm7X4Haz"
      },
      "outputs": [],
      "source": [
        "import tensorflow as tf\n",
        "import pandas as pd\n",
        "import numpy as np"
      ]
    },
    {
      "cell_type": "code",
      "source": [
        "# PARAMETERS\n",
        "INPUT_HEIGHT = 128\n",
        "INPUT_WIDTH = 128\n",
        "\n"
      ],
      "metadata": {
        "id": "ufEhEtAX4m-h"
      },
      "execution_count": null,
      "outputs": []
    },
    {
      "cell_type": "code",
      "source": [
        "class Preprocessor(tf.keras.Model):\n",
        "  def __init__(self):\n",
        "    super().__init__(name=\"preprocessor\")\n",
        "    self.resizer = tf.keras.layers.Resizing(INPUT_HEIGHT, INPUT_WIDTH, name=f\"{self.name}_resizer\")\n",
        "    self.rescaler = tf.keras.layers.Rescaling(scale=1./255, name=f\"{self.name}_rescaler\")\n",
        "\n",
        "  def call(self, inputs):\n",
        "    return self.rescaler(\n",
        "        self.resizer(inputs)\n",
        "    )"
      ],
      "metadata": {
        "id": "K8j2GNTi8pSR"
      },
      "execution_count": null,
      "outputs": []
    },
    {
      "cell_type": "code",
      "source": [
        "from tensorflow.keras.layers import Conv2D, MaxPool2D, Flatten, Dense, Lambda, Reshape, Conv2DTranspose"
      ],
      "metadata": {
        "id": "CFkJYxeRCNNC"
      },
      "execution_count": null,
      "outputs": []
    },
    {
      "cell_type": "code",
      "source": [
        "\n",
        "\n",
        "class Encoder(tf.keras.layers.Layer):\n",
        "  def __init__(self, latent_dims):\n",
        "    super().__init__(name=\"encoder\")\n",
        "\n",
        "    self.latent_dims = latent_dims\n",
        "\n",
        "    # layers\n",
        "    self.preprocess = Preprocessor()\n",
        "\n",
        "    self.conv1 = Conv2D(filters=32, kernel_size=3, strides=1, padding='same', activation='relu', name='encoder_conv1')\n",
        "    self.mpool1 = MaxPool2D(name='encoder_mpool1')\n",
        "\n",
        "    self.conv2 = Conv2D(filters=64, kernel_size=3, strides=1, padding='same', activation='relu', name='encoder_conv2')\n",
        "    self.mpool2 = MaxPool2D(name='encoder_mpool2')\n",
        "\n",
        "    self.conv3 = Conv2D(filters=128, kernel_size=3, strides=1, padding='same', activation='relu', name='encoder_conv3')\n",
        "    self.mpool3 = MaxPool2D(name='encoder_mpool3')\n",
        "\n",
        "    self.conv4 = Conv2D(filters=256, kernel_size=3, strides=1, padding='same', activation='relu', name='encoder_conv4')\n",
        "    self.mpool4 = MaxPool2D(name='encoder_mpool4')\n",
        "\n",
        "    self.flatten = Flatten(name='encoder_flatten')\n",
        "\n",
        "    self.logvar = Dense(self.latent_dims, name='encoder_logvar')\n",
        "    self.mu = Dense(self.latent_dims, name='encoder_mu')\n",
        "    self.sigma = Lambda(lambda x: tf.exp(0.5*x), name='encoder_sigma')\n",
        "\n",
        "  def encode(self, inputs, preprocess=True):\n",
        "    # print the shape of the input\n",
        "    # print(f\"Shape of input to encoder: {inputs.shape}\")\n",
        "    p = self.preprocess(inputs) if preprocess else inputs\n",
        "    x=self.conv1(p); x=self.mpool1(x)\n",
        "    x=self.conv2(x); x=self.mpool2(x)\n",
        "    x=self.conv3(x); x=self.mpool3(x)\n",
        "    x=self.conv4(x); x=self.mpool4(x)\n",
        "    x=self.flatten(x)\n",
        "    # print(f\"Shape of output from encoder: {x.shape}\")\n",
        "\n",
        "    return self.mu(x), self.logvar(x), self.sigma(self.logvar(x)), p\n",
        "\n",
        "\n",
        "  def call(self, inputs):\n",
        "    return self.encode(inputs)\n",
        "\n",
        "  def summary(self, input_shape):\n",
        "    x = tf.keras.layers.Input(shape=input_shape)\n",
        "    model = tf.keras.Model(inputs=[x], outputs=self.call(x))\n",
        "    return model.summary()\n"
      ],
      "metadata": {
        "id": "WKr2CVtE4sKY"
      },
      "execution_count": null,
      "outputs": []
    },
    {
      "cell_type": "code",
      "source": [
        "class Decoder(tf.keras.Model):\n",
        "  def __init__(self, latent_dims):\n",
        "    super().__init__(name=\"decoder\")\n",
        "\n",
        "    self.latent_dims = latent_dims\n",
        "\n",
        "    # layers\n",
        "    self.dense1 = Dense(256 * 8 * 8, activation=\"relu\", name='decoder_dense1')\n",
        "    self.reshape1 = Reshape((8, 8, 256), name='decoder_reshape1')\n",
        "\n",
        "    self.conv1 = Conv2DTranspose(filters=256, kernel_size=3, strides=2, padding='same', activation='relu', name='decoder_conv1')\n",
        "    self.conv2 = Conv2DTranspose(filters=128, kernel_size=3, strides=2, padding='same', activation='relu', name='decoder_conv2')\n",
        "    self.conv3 = Conv2DTranspose(filters=64, kernel_size=3, strides=2, padding='same', activation='relu', name='decoder_conv3')\n",
        "    self.conv4 = Conv2DTranspose(filters=32, kernel_size=3, strides=2, padding='same', activation='relu', name='decoder_conv4')\n",
        "    self.conv5 = Conv2DTranspose(filters=1, kernel_size=3, strides=1, padding='same', name='decoder_conv5')\n",
        "\n",
        "  def decode(self, inputs):\n",
        "    # print the shape of the input\n",
        "    # print(f\"Shape of input to decoder: {inputs.shape}\")\n",
        "    x = self.dense1(inputs)\n",
        "    x = self.reshape1(x)\n",
        "\n",
        "    x = self.conv1(x)\n",
        "    x = self.conv2(x)\n",
        "    x = self.conv3(x)\n",
        "    x = self.conv4(x)\n",
        "    x = self.conv5(x)\n",
        "    # print(f\"Shape of output from decoder: {x.shape}\")\n",
        "\n",
        "    return x\n",
        "\n",
        "  def call(self, inputs):\n",
        "    return self.decode(inputs)\n",
        "\n",
        "  # def summary(self, input_shape):\n",
        "  #   x = tf.keras.layers.Input(shape=input_shape)\n",
        "  #   model = tf.keras.Model(inputs=[x], outputs=self.call(x))\n",
        "  #   return model.summary()"
      ],
      "metadata": {
        "id": "SHWtLOBK4sYI"
      },
      "execution_count": null,
      "outputs": []
    },
    {
      "cell_type": "code",
      "source": [
        "class ReconstructionLoss(tf.keras.layers.Layer):\n",
        "  def __init__(self):\n",
        "    super(ReconstructionLoss, self).__init__(name=\"reconstruction_loss\")\n",
        "\n",
        "  def call(self, inputs):\n",
        "    x = inputs[0]\n",
        "    recon_x = inputs[1]\n",
        "\n",
        "    recon_loss = tf.reduce_sum(tf.keras.losses.binary_crossentropy(x, recon_x), axis=[1,2])\n",
        "    recon_loss = tf.reduce_mean(recon_loss)\n",
        "\n",
        "    self.add_loss(recon_loss)\n",
        "\n",
        "    return recon_loss"
      ],
      "metadata": {
        "id": "SnAxDQaRJBto"
      },
      "execution_count": null,
      "outputs": []
    },
    {
      "cell_type": "code",
      "source": [
        "class KLLoss(tf.keras.layers.Layer):\n",
        "  def __init__(self):\n",
        "    super(KLLoss, self).__init__()\n",
        "\n",
        "    self.beta = tf.Variable(1.0, name=\"beta\")\n",
        "\n",
        "  def call(self, inputs):\n",
        "    mu = inputs[0]\n",
        "    logvar = inputs[1]\n",
        "\n",
        "    kl_loss = -0.5 * tf.reduce_sum(1 + logvar - tf.square(mu) - tf.exp(logvar), axis=1)\n",
        "    kl_loss = kl_loss * self.beta\n",
        "\n",
        "    self.add_loss(kl_loss)\n",
        "    return kl_loss"
      ],
      "metadata": {
        "id": "_WMjd4MSJtyU"
      },
      "execution_count": null,
      "outputs": []
    },
    {
      "cell_type": "code",
      "source": [
        "# Sampler\n",
        "\n",
        "class Sampler(tf.keras.layers.Layer):\n",
        "  def __init__(self):\n",
        "    super().__init__(name=\"sampler\")\n",
        "\n",
        "  def call(self, inputs):\n",
        "    mu = inputs[0]\n",
        "    sigma = inputs[1]\n",
        "\n",
        "    batch = tf.shape(mu)[0]\n",
        "    dim = tf.shape(mu)[1]\n",
        "    epsilon = tf.random.normal(shape=(batch, dim))\n",
        "\n",
        "    # reparameterize\n",
        "    output =  mu + tf.multiply(sigma, epsilon)\n",
        "\n",
        "    # print(f\"Shape of output from sampler: {output.shape}\")\n",
        "    return output\n",
        "\n"
      ],
      "metadata": {
        "id": "fni0MYfCTVqb"
      },
      "execution_count": null,
      "outputs": []
    },
    {
      "cell_type": "code",
      "source": [
        "class BVAE(tf.keras.Model):\n",
        "  def __init__(self, latent_dims):\n",
        "    super().__init__(name=\"bvae\")\n",
        "\n",
        "    self.latent_dims = latent_dims\n",
        "\n",
        "    # layers\n",
        "    self.encoder = Encoder(self.latent_dims)\n",
        "    self.decoder = Decoder(self.latent_dims)\n",
        "\n",
        "    self.sampler = Sampler()\n",
        "\n",
        "    self.reconstruction_loss = ReconstructionLoss()\n",
        "    self.kl_loss = KLLoss()\n",
        "\n",
        "    # trackers\n",
        "    self.loss_tracker = tf.keras.metrics.Mean(name=\"loss\")\n",
        "    self.reconstruction_loss_tracker = tf.keras.metrics.Mean(name=\"reconstruction_loss\")\n",
        "    self.kl_loss_tracker = tf.keras.metrics.Mean(name=\"kl_loss\")\n",
        "\n",
        "  def call(self, inputs):\n",
        "    mu, logvar, sigma, x = self.encoder(inputs)\n",
        "    z = self.sampler([mu, sigma])\n",
        "    # print(f\"Shape of z: {z.shape}\")\n",
        "    recon_x = self.decoder(z)\n",
        "\n",
        "    kl_loss = self.kl_loss([mu, logvar])\n",
        "    reconstruction_loss = self.reconstruction_loss([x, recon_x])\n",
        "\n",
        "    return recon_x, kl_loss, reconstruction_loss\n",
        "\n",
        "  @property\n",
        "  def metrics(self):\n",
        "      return [\n",
        "          self.loss_tracker,\n",
        "          self.reconstruction_loss_tracker,\n",
        "          self.kl_loss_tracker,\n",
        "      ]\n",
        "\n",
        "  def train_step(self, data):\n",
        "    # print(f\"Shape of input data in train_step: {data.shape}\")\n",
        "\n",
        "    with tf.GradientTape() as tape:\n",
        "      recon_x, kl_loss, reconstruction_loss = self(data)\n",
        "      total_loss = reconstruction_loss + kl_loss\n",
        "\n",
        "      # update the trackers\n",
        "      self.loss_tracker.update_state(total_loss)\n",
        "      self.reconstruction_loss_tracker.update_state(reconstruction_loss)\n",
        "      self.kl_loss_tracker.update_state(kl_loss)\n",
        "\n",
        "      # gradients\n",
        "      grads = tape.gradient(total_loss, self.trainable_weights)\n",
        "      self.optimizer.apply_gradients(zip(grads, self.trainable_weights))\n",
        "\n",
        "    return {\n",
        "        m.name: m.result() for m in self.metrics\n",
        "    }\n",
        "\n",
        "  def test_step(self, data):\n",
        "    recon_x, kl_loss, reconstruction_loss = self(data)\n",
        "    total_loss = reconstruction_loss + kl_loss\n",
        "    self.loss_tracker.update_state(total_loss)\n",
        "    self.reconstruction_loss_tracker.update_state(reconstruction_loss)\n",
        "    self.kl_loss_tracker.update_state(kl_loss)\n",
        "    return {\n",
        "        m.name: m.result() for m in self.metrics\n",
        "    }\n",
        "\n",
        "  def encode(self, inputs, preprocess=True):\n",
        "    return self.encoder.encode(inputs, preprocess=preprocess)\n",
        "\n",
        "  def decode(self, inputs):\n",
        "    return self.decoder.decode(inputs)\n",
        "\n",
        "  def sample(self, mu, sigma):\n",
        "    return self.sampler([mu, sigma])\n",
        "\n",
        "  def calculate_reconstruction_loss(self, inputs):\n",
        "    return self.reconstruction_loss(inputs)\n",
        "\n",
        "  def calculate_kl_loss(self, inputs):\n",
        "    return self.kl_loss(inputs)\n",
        "\n",
        "\n",
        "\n",
        "\n"
      ],
      "metadata": {
        "id": "F_FyktKdUFCg"
      },
      "execution_count": null,
      "outputs": []
    },
    {
      "cell_type": "code",
      "source": [
        "class BetaVaeParameterUpdater(tf.keras.callbacks.Callback):\n",
        "  def __init__(self, delta, limit):\n",
        "    super().__init__()\n",
        "    self.delta = delta\n",
        "    self.limit = limit\n",
        "\n",
        "  @tf.function\n",
        "  def update_beta(self):\n",
        "    beta = self.model.kl_loss.beta\n",
        "    beta.assign(tf.math.maximum(beta - self.delta, self.limit))\n",
        "\n",
        "  def on_epoch_end(self, epoch, logs=None):\n",
        "    self.update_beta()"
      ],
      "metadata": {
        "id": "dSr_E8Zfo2o3"
      },
      "execution_count": null,
      "outputs": []
    },
    {
      "cell_type": "code",
      "source": [
        "file_path = \"./images_flat.zip\"\n",
        "# unzip\n",
        "!unzip -q {file_path}"
      ],
      "metadata": {
        "id": "X8r2kl9jn9Nk"
      },
      "execution_count": null,
      "outputs": []
    },
    {
      "cell_type": "code",
      "source": [
        "images_path = \"./images/\"\n"
      ],
      "metadata": {
        "id": "VeQQPIaJokJ2"
      },
      "execution_count": null,
      "outputs": []
    },
    {
      "cell_type": "code",
      "source": [
        "model = BVAE(latent_dims=8)\n",
        "model.compile(optimizer=tf.keras.optimizers.Adam(learning_rate=0.001))\n"
      ],
      "metadata": {
        "id": "TtQhzkHDpUES"
      },
      "execution_count": null,
      "outputs": []
    },
    {
      "cell_type": "code",
      "source": [
        "# view model summary\n",
        "model.encoder.summary((None, None, 1)) # Provide a valid input shape for the summary\n",
        "model.decoder.summary((None, None, 1)) # Provide a valid input shape for the summary\n"
      ],
      "metadata": {
        "colab": {
          "base_uri": "https://localhost:8080/",
          "height": 1000
        },
        "id": "KhEhxmx1qQ3l",
        "outputId": "8d483334-7f07-47fa-8cea-0d5bf9628b2e"
      },
      "execution_count": null,
      "outputs": [
        {
          "output_type": "stream",
          "name": "stdout",
          "text": [
            "Shape of input to encoder: (None, None, None, 1)\n",
            "Shape of output from encoder: (None, 16384)\n"
          ]
        },
        {
          "output_type": "display_data",
          "data": {
            "text/plain": [
              "\u001b[1mModel: \"functional_15\"\u001b[0m\n"
            ],
            "text/html": [
              "<pre style=\"white-space:pre;overflow-x:auto;line-height:normal;font-family:Menlo,'DejaVu Sans Mono',consolas,'Courier New',monospace\"><span style=\"font-weight: bold\">Model: \"functional_15\"</span>\n",
              "</pre>\n"
            ]
          },
          "metadata": {}
        },
        {
          "output_type": "display_data",
          "data": {
            "text/plain": [
              "┏━━━━━━━━━━━━━━━━━━━━━┳━━━━━━━━━━━━━━━━━━━┳━━━━━━━━━━━━┳━━━━━━━━━━━━━━━━━━━┓\n",
              "┃\u001b[1m \u001b[0m\u001b[1mLayer (type)       \u001b[0m\u001b[1m \u001b[0m┃\u001b[1m \u001b[0m\u001b[1mOutput Shape     \u001b[0m\u001b[1m \u001b[0m┃\u001b[1m \u001b[0m\u001b[1m   Param #\u001b[0m\u001b[1m \u001b[0m┃\u001b[1m \u001b[0m\u001b[1mConnected to     \u001b[0m\u001b[1m \u001b[0m┃\n",
              "┡━━━━━━━━━━━━━━━━━━━━━╇━━━━━━━━━━━━━━━━━━━╇━━━━━━━━━━━━╇━━━━━━━━━━━━━━━━━━━┩\n",
              "│ input_layer_16      │ (\u001b[38;5;45mNone\u001b[0m, \u001b[38;5;45mNone\u001b[0m,      │          \u001b[38;5;34m0\u001b[0m │ -                 │\n",
              "│ (\u001b[38;5;33mInputLayer\u001b[0m)        │ \u001b[38;5;45mNone\u001b[0m, \u001b[38;5;34m1\u001b[0m)          │            │                   │\n",
              "├─────────────────────┼───────────────────┼────────────┼───────────────────┤\n",
              "│ preprocessor        │ (\u001b[38;5;45mNone\u001b[0m, \u001b[38;5;34m128\u001b[0m, \u001b[38;5;34m128\u001b[0m,  │          \u001b[38;5;34m0\u001b[0m │ input_layer_16[\u001b[38;5;34m0\u001b[0m… │\n",
              "│ (\u001b[38;5;33mPreprocessor\u001b[0m)      │ \u001b[38;5;34m1\u001b[0m)                │            │                   │\n",
              "├─────────────────────┼───────────────────┼────────────┼───────────────────┤\n",
              "│ encoder_conv1       │ (\u001b[38;5;45mNone\u001b[0m, \u001b[38;5;34m128\u001b[0m, \u001b[38;5;34m128\u001b[0m,  │        \u001b[38;5;34m320\u001b[0m │ preprocessor[\u001b[38;5;34m0\u001b[0m][\u001b[38;5;34m…\u001b[0m │\n",
              "│ (\u001b[38;5;33mConv2D\u001b[0m)            │ \u001b[38;5;34m32\u001b[0m)               │            │                   │\n",
              "├─────────────────────┼───────────────────┼────────────┼───────────────────┤\n",
              "│ encoder_mpool1      │ (\u001b[38;5;45mNone\u001b[0m, \u001b[38;5;34m64\u001b[0m, \u001b[38;5;34m64\u001b[0m,    │          \u001b[38;5;34m0\u001b[0m │ encoder_conv1[\u001b[38;5;34m0\u001b[0m]… │\n",
              "│ (\u001b[38;5;33mMaxPooling2D\u001b[0m)      │ \u001b[38;5;34m32\u001b[0m)               │            │                   │\n",
              "├─────────────────────┼───────────────────┼────────────┼───────────────────┤\n",
              "│ encoder_conv2       │ (\u001b[38;5;45mNone\u001b[0m, \u001b[38;5;34m64\u001b[0m, \u001b[38;5;34m64\u001b[0m,    │     \u001b[38;5;34m18,496\u001b[0m │ encoder_mpool1[\u001b[38;5;34m0\u001b[0m… │\n",
              "│ (\u001b[38;5;33mConv2D\u001b[0m)            │ \u001b[38;5;34m64\u001b[0m)               │            │                   │\n",
              "├─────────────────────┼───────────────────┼────────────┼───────────────────┤\n",
              "│ encoder_mpool2      │ (\u001b[38;5;45mNone\u001b[0m, \u001b[38;5;34m32\u001b[0m, \u001b[38;5;34m32\u001b[0m,    │          \u001b[38;5;34m0\u001b[0m │ encoder_conv2[\u001b[38;5;34m0\u001b[0m]… │\n",
              "│ (\u001b[38;5;33mMaxPooling2D\u001b[0m)      │ \u001b[38;5;34m64\u001b[0m)               │            │                   │\n",
              "├─────────────────────┼───────────────────┼────────────┼───────────────────┤\n",
              "│ encoder_conv3       │ (\u001b[38;5;45mNone\u001b[0m, \u001b[38;5;34m32\u001b[0m, \u001b[38;5;34m32\u001b[0m,    │     \u001b[38;5;34m73,856\u001b[0m │ encoder_mpool2[\u001b[38;5;34m0\u001b[0m… │\n",
              "│ (\u001b[38;5;33mConv2D\u001b[0m)            │ \u001b[38;5;34m128\u001b[0m)              │            │                   │\n",
              "├─────────────────────┼───────────────────┼────────────┼───────────────────┤\n",
              "│ encoder_mpool3      │ (\u001b[38;5;45mNone\u001b[0m, \u001b[38;5;34m16\u001b[0m, \u001b[38;5;34m16\u001b[0m,    │          \u001b[38;5;34m0\u001b[0m │ encoder_conv3[\u001b[38;5;34m0\u001b[0m]… │\n",
              "│ (\u001b[38;5;33mMaxPooling2D\u001b[0m)      │ \u001b[38;5;34m128\u001b[0m)              │            │                   │\n",
              "├─────────────────────┼───────────────────┼────────────┼───────────────────┤\n",
              "│ encoder_conv4       │ (\u001b[38;5;45mNone\u001b[0m, \u001b[38;5;34m16\u001b[0m, \u001b[38;5;34m16\u001b[0m,    │    \u001b[38;5;34m295,168\u001b[0m │ encoder_mpool3[\u001b[38;5;34m0\u001b[0m… │\n",
              "│ (\u001b[38;5;33mConv2D\u001b[0m)            │ \u001b[38;5;34m256\u001b[0m)              │            │                   │\n",
              "├─────────────────────┼───────────────────┼────────────┼───────────────────┤\n",
              "│ encoder_mpool4      │ (\u001b[38;5;45mNone\u001b[0m, \u001b[38;5;34m8\u001b[0m, \u001b[38;5;34m8\u001b[0m, \u001b[38;5;34m256\u001b[0m) │          \u001b[38;5;34m0\u001b[0m │ encoder_conv4[\u001b[38;5;34m0\u001b[0m]… │\n",
              "│ (\u001b[38;5;33mMaxPooling2D\u001b[0m)      │                   │            │                   │\n",
              "├─────────────────────┼───────────────────┼────────────┼───────────────────┤\n",
              "│ encoder_flatten     │ (\u001b[38;5;45mNone\u001b[0m, \u001b[38;5;34m16384\u001b[0m)     │          \u001b[38;5;34m0\u001b[0m │ encoder_mpool4[\u001b[38;5;34m0\u001b[0m… │\n",
              "│ (\u001b[38;5;33mFlatten\u001b[0m)           │                   │            │                   │\n",
              "├─────────────────────┼───────────────────┼────────────┼───────────────────┤\n",
              "│ encoder_logvar      │ (\u001b[38;5;45mNone\u001b[0m, \u001b[38;5;34m8\u001b[0m)         │    \u001b[38;5;34m131,080\u001b[0m │ encoder_flatten[\u001b[38;5;34m…\u001b[0m │\n",
              "│ (\u001b[38;5;33mDense\u001b[0m)             │                   │            │ encoder_flatten[\u001b[38;5;34m…\u001b[0m │\n",
              "├─────────────────────┼───────────────────┼────────────┼───────────────────┤\n",
              "│ encoder_mu (\u001b[38;5;33mDense\u001b[0m)  │ (\u001b[38;5;45mNone\u001b[0m, \u001b[38;5;34m8\u001b[0m)         │    \u001b[38;5;34m131,080\u001b[0m │ encoder_flatten[\u001b[38;5;34m…\u001b[0m │\n",
              "├─────────────────────┼───────────────────┼────────────┼───────────────────┤\n",
              "│ encoder_sigma       │ (\u001b[38;5;45mNone\u001b[0m, \u001b[38;5;34m8\u001b[0m)         │          \u001b[38;5;34m0\u001b[0m │ encoder_logvar[\u001b[38;5;34m1\u001b[0m… │\n",
              "│ (\u001b[38;5;33mLambda\u001b[0m)            │                   │            │                   │\n",
              "└─────────────────────┴───────────────────┴────────────┴───────────────────┘\n"
            ],
            "text/html": [
              "<pre style=\"white-space:pre;overflow-x:auto;line-height:normal;font-family:Menlo,'DejaVu Sans Mono',consolas,'Courier New',monospace\">┏━━━━━━━━━━━━━━━━━━━━━┳━━━━━━━━━━━━━━━━━━━┳━━━━━━━━━━━━┳━━━━━━━━━━━━━━━━━━━┓\n",
              "┃<span style=\"font-weight: bold\"> Layer (type)        </span>┃<span style=\"font-weight: bold\"> Output Shape      </span>┃<span style=\"font-weight: bold\">    Param # </span>┃<span style=\"font-weight: bold\"> Connected to      </span>┃\n",
              "┡━━━━━━━━━━━━━━━━━━━━━╇━━━━━━━━━━━━━━━━━━━╇━━━━━━━━━━━━╇━━━━━━━━━━━━━━━━━━━┩\n",
              "│ input_layer_16      │ (<span style=\"color: #00d7ff; text-decoration-color: #00d7ff\">None</span>, <span style=\"color: #00d7ff; text-decoration-color: #00d7ff\">None</span>,      │          <span style=\"color: #00af00; text-decoration-color: #00af00\">0</span> │ -                 │\n",
              "│ (<span style=\"color: #0087ff; text-decoration-color: #0087ff\">InputLayer</span>)        │ <span style=\"color: #00d7ff; text-decoration-color: #00d7ff\">None</span>, <span style=\"color: #00af00; text-decoration-color: #00af00\">1</span>)          │            │                   │\n",
              "├─────────────────────┼───────────────────┼────────────┼───────────────────┤\n",
              "│ preprocessor        │ (<span style=\"color: #00d7ff; text-decoration-color: #00d7ff\">None</span>, <span style=\"color: #00af00; text-decoration-color: #00af00\">128</span>, <span style=\"color: #00af00; text-decoration-color: #00af00\">128</span>,  │          <span style=\"color: #00af00; text-decoration-color: #00af00\">0</span> │ input_layer_16[<span style=\"color: #00af00; text-decoration-color: #00af00\">0</span>… │\n",
              "│ (<span style=\"color: #0087ff; text-decoration-color: #0087ff\">Preprocessor</span>)      │ <span style=\"color: #00af00; text-decoration-color: #00af00\">1</span>)                │            │                   │\n",
              "├─────────────────────┼───────────────────┼────────────┼───────────────────┤\n",
              "│ encoder_conv1       │ (<span style=\"color: #00d7ff; text-decoration-color: #00d7ff\">None</span>, <span style=\"color: #00af00; text-decoration-color: #00af00\">128</span>, <span style=\"color: #00af00; text-decoration-color: #00af00\">128</span>,  │        <span style=\"color: #00af00; text-decoration-color: #00af00\">320</span> │ preprocessor[<span style=\"color: #00af00; text-decoration-color: #00af00\">0</span>][<span style=\"color: #00af00; text-decoration-color: #00af00\">…</span> │\n",
              "│ (<span style=\"color: #0087ff; text-decoration-color: #0087ff\">Conv2D</span>)            │ <span style=\"color: #00af00; text-decoration-color: #00af00\">32</span>)               │            │                   │\n",
              "├─────────────────────┼───────────────────┼────────────┼───────────────────┤\n",
              "│ encoder_mpool1      │ (<span style=\"color: #00d7ff; text-decoration-color: #00d7ff\">None</span>, <span style=\"color: #00af00; text-decoration-color: #00af00\">64</span>, <span style=\"color: #00af00; text-decoration-color: #00af00\">64</span>,    │          <span style=\"color: #00af00; text-decoration-color: #00af00\">0</span> │ encoder_conv1[<span style=\"color: #00af00; text-decoration-color: #00af00\">0</span>]… │\n",
              "│ (<span style=\"color: #0087ff; text-decoration-color: #0087ff\">MaxPooling2D</span>)      │ <span style=\"color: #00af00; text-decoration-color: #00af00\">32</span>)               │            │                   │\n",
              "├─────────────────────┼───────────────────┼────────────┼───────────────────┤\n",
              "│ encoder_conv2       │ (<span style=\"color: #00d7ff; text-decoration-color: #00d7ff\">None</span>, <span style=\"color: #00af00; text-decoration-color: #00af00\">64</span>, <span style=\"color: #00af00; text-decoration-color: #00af00\">64</span>,    │     <span style=\"color: #00af00; text-decoration-color: #00af00\">18,496</span> │ encoder_mpool1[<span style=\"color: #00af00; text-decoration-color: #00af00\">0</span>… │\n",
              "│ (<span style=\"color: #0087ff; text-decoration-color: #0087ff\">Conv2D</span>)            │ <span style=\"color: #00af00; text-decoration-color: #00af00\">64</span>)               │            │                   │\n",
              "├─────────────────────┼───────────────────┼────────────┼───────────────────┤\n",
              "│ encoder_mpool2      │ (<span style=\"color: #00d7ff; text-decoration-color: #00d7ff\">None</span>, <span style=\"color: #00af00; text-decoration-color: #00af00\">32</span>, <span style=\"color: #00af00; text-decoration-color: #00af00\">32</span>,    │          <span style=\"color: #00af00; text-decoration-color: #00af00\">0</span> │ encoder_conv2[<span style=\"color: #00af00; text-decoration-color: #00af00\">0</span>]… │\n",
              "│ (<span style=\"color: #0087ff; text-decoration-color: #0087ff\">MaxPooling2D</span>)      │ <span style=\"color: #00af00; text-decoration-color: #00af00\">64</span>)               │            │                   │\n",
              "├─────────────────────┼───────────────────┼────────────┼───────────────────┤\n",
              "│ encoder_conv3       │ (<span style=\"color: #00d7ff; text-decoration-color: #00d7ff\">None</span>, <span style=\"color: #00af00; text-decoration-color: #00af00\">32</span>, <span style=\"color: #00af00; text-decoration-color: #00af00\">32</span>,    │     <span style=\"color: #00af00; text-decoration-color: #00af00\">73,856</span> │ encoder_mpool2[<span style=\"color: #00af00; text-decoration-color: #00af00\">0</span>… │\n",
              "│ (<span style=\"color: #0087ff; text-decoration-color: #0087ff\">Conv2D</span>)            │ <span style=\"color: #00af00; text-decoration-color: #00af00\">128</span>)              │            │                   │\n",
              "├─────────────────────┼───────────────────┼────────────┼───────────────────┤\n",
              "│ encoder_mpool3      │ (<span style=\"color: #00d7ff; text-decoration-color: #00d7ff\">None</span>, <span style=\"color: #00af00; text-decoration-color: #00af00\">16</span>, <span style=\"color: #00af00; text-decoration-color: #00af00\">16</span>,    │          <span style=\"color: #00af00; text-decoration-color: #00af00\">0</span> │ encoder_conv3[<span style=\"color: #00af00; text-decoration-color: #00af00\">0</span>]… │\n",
              "│ (<span style=\"color: #0087ff; text-decoration-color: #0087ff\">MaxPooling2D</span>)      │ <span style=\"color: #00af00; text-decoration-color: #00af00\">128</span>)              │            │                   │\n",
              "├─────────────────────┼───────────────────┼────────────┼───────────────────┤\n",
              "│ encoder_conv4       │ (<span style=\"color: #00d7ff; text-decoration-color: #00d7ff\">None</span>, <span style=\"color: #00af00; text-decoration-color: #00af00\">16</span>, <span style=\"color: #00af00; text-decoration-color: #00af00\">16</span>,    │    <span style=\"color: #00af00; text-decoration-color: #00af00\">295,168</span> │ encoder_mpool3[<span style=\"color: #00af00; text-decoration-color: #00af00\">0</span>… │\n",
              "│ (<span style=\"color: #0087ff; text-decoration-color: #0087ff\">Conv2D</span>)            │ <span style=\"color: #00af00; text-decoration-color: #00af00\">256</span>)              │            │                   │\n",
              "├─────────────────────┼───────────────────┼────────────┼───────────────────┤\n",
              "│ encoder_mpool4      │ (<span style=\"color: #00d7ff; text-decoration-color: #00d7ff\">None</span>, <span style=\"color: #00af00; text-decoration-color: #00af00\">8</span>, <span style=\"color: #00af00; text-decoration-color: #00af00\">8</span>, <span style=\"color: #00af00; text-decoration-color: #00af00\">256</span>) │          <span style=\"color: #00af00; text-decoration-color: #00af00\">0</span> │ encoder_conv4[<span style=\"color: #00af00; text-decoration-color: #00af00\">0</span>]… │\n",
              "│ (<span style=\"color: #0087ff; text-decoration-color: #0087ff\">MaxPooling2D</span>)      │                   │            │                   │\n",
              "├─────────────────────┼───────────────────┼────────────┼───────────────────┤\n",
              "│ encoder_flatten     │ (<span style=\"color: #00d7ff; text-decoration-color: #00d7ff\">None</span>, <span style=\"color: #00af00; text-decoration-color: #00af00\">16384</span>)     │          <span style=\"color: #00af00; text-decoration-color: #00af00\">0</span> │ encoder_mpool4[<span style=\"color: #00af00; text-decoration-color: #00af00\">0</span>… │\n",
              "│ (<span style=\"color: #0087ff; text-decoration-color: #0087ff\">Flatten</span>)           │                   │            │                   │\n",
              "├─────────────────────┼───────────────────┼────────────┼───────────────────┤\n",
              "│ encoder_logvar      │ (<span style=\"color: #00d7ff; text-decoration-color: #00d7ff\">None</span>, <span style=\"color: #00af00; text-decoration-color: #00af00\">8</span>)         │    <span style=\"color: #00af00; text-decoration-color: #00af00\">131,080</span> │ encoder_flatten[<span style=\"color: #00af00; text-decoration-color: #00af00\">…</span> │\n",
              "│ (<span style=\"color: #0087ff; text-decoration-color: #0087ff\">Dense</span>)             │                   │            │ encoder_flatten[<span style=\"color: #00af00; text-decoration-color: #00af00\">…</span> │\n",
              "├─────────────────────┼───────────────────┼────────────┼───────────────────┤\n",
              "│ encoder_mu (<span style=\"color: #0087ff; text-decoration-color: #0087ff\">Dense</span>)  │ (<span style=\"color: #00d7ff; text-decoration-color: #00d7ff\">None</span>, <span style=\"color: #00af00; text-decoration-color: #00af00\">8</span>)         │    <span style=\"color: #00af00; text-decoration-color: #00af00\">131,080</span> │ encoder_flatten[<span style=\"color: #00af00; text-decoration-color: #00af00\">…</span> │\n",
              "├─────────────────────┼───────────────────┼────────────┼───────────────────┤\n",
              "│ encoder_sigma       │ (<span style=\"color: #00d7ff; text-decoration-color: #00d7ff\">None</span>, <span style=\"color: #00af00; text-decoration-color: #00af00\">8</span>)         │          <span style=\"color: #00af00; text-decoration-color: #00af00\">0</span> │ encoder_logvar[<span style=\"color: #00af00; text-decoration-color: #00af00\">1</span>… │\n",
              "│ (<span style=\"color: #0087ff; text-decoration-color: #0087ff\">Lambda</span>)            │                   │            │                   │\n",
              "└─────────────────────┴───────────────────┴────────────┴───────────────────┘\n",
              "</pre>\n"
            ]
          },
          "metadata": {}
        },
        {
          "output_type": "display_data",
          "data": {
            "text/plain": [
              "\u001b[1m Total params: \u001b[0m\u001b[38;5;34m650,000\u001b[0m (2.48 MB)\n"
            ],
            "text/html": [
              "<pre style=\"white-space:pre;overflow-x:auto;line-height:normal;font-family:Menlo,'DejaVu Sans Mono',consolas,'Courier New',monospace\"><span style=\"font-weight: bold\"> Total params: </span><span style=\"color: #00af00; text-decoration-color: #00af00\">650,000</span> (2.48 MB)\n",
              "</pre>\n"
            ]
          },
          "metadata": {}
        },
        {
          "output_type": "display_data",
          "data": {
            "text/plain": [
              "\u001b[1m Trainable params: \u001b[0m\u001b[38;5;34m650,000\u001b[0m (2.48 MB)\n"
            ],
            "text/html": [
              "<pre style=\"white-space:pre;overflow-x:auto;line-height:normal;font-family:Menlo,'DejaVu Sans Mono',consolas,'Courier New',monospace\"><span style=\"font-weight: bold\"> Trainable params: </span><span style=\"color: #00af00; text-decoration-color: #00af00\">650,000</span> (2.48 MB)\n",
              "</pre>\n"
            ]
          },
          "metadata": {}
        },
        {
          "output_type": "display_data",
          "data": {
            "text/plain": [
              "\u001b[1m Non-trainable params: \u001b[0m\u001b[38;5;34m0\u001b[0m (0.00 B)\n"
            ],
            "text/html": [
              "<pre style=\"white-space:pre;overflow-x:auto;line-height:normal;font-family:Menlo,'DejaVu Sans Mono',consolas,'Courier New',monospace\"><span style=\"font-weight: bold\"> Non-trainable params: </span><span style=\"color: #00af00; text-decoration-color: #00af00\">0</span> (0.00 B)\n",
              "</pre>\n"
            ]
          },
          "metadata": {}
        },
        {
          "output_type": "stream",
          "name": "stdout",
          "text": [
            "Shape of input to decoder: (None, None, None, 1)\n",
            "Shape of output from decoder: (None, 128, 128, 1)\n"
          ]
        },
        {
          "output_type": "display_data",
          "data": {
            "text/plain": [
              "\u001b[1mModel: \"functional_16\"\u001b[0m\n"
            ],
            "text/html": [
              "<pre style=\"white-space:pre;overflow-x:auto;line-height:normal;font-family:Menlo,'DejaVu Sans Mono',consolas,'Courier New',monospace\"><span style=\"font-weight: bold\">Model: \"functional_16\"</span>\n",
              "</pre>\n"
            ]
          },
          "metadata": {}
        },
        {
          "output_type": "display_data",
          "data": {
            "text/plain": [
              "┏━━━━━━━━━━━━━━━━━━━━━━━━━━━━━━━━━┳━━━━━━━━━━━━━━━━━━━━━━━━┳━━━━━━━━━━━━━━━┓\n",
              "┃\u001b[1m \u001b[0m\u001b[1mLayer (type)                   \u001b[0m\u001b[1m \u001b[0m┃\u001b[1m \u001b[0m\u001b[1mOutput Shape          \u001b[0m\u001b[1m \u001b[0m┃\u001b[1m \u001b[0m\u001b[1m      Param #\u001b[0m\u001b[1m \u001b[0m┃\n",
              "┡━━━━━━━━━━━━━━━━━━━━━━━━━━━━━━━━━╇━━━━━━━━━━━━━━━━━━━━━━━━╇━━━━━━━━━━━━━━━┩\n",
              "│ input_layer_17 (\u001b[38;5;33mInputLayer\u001b[0m)     │ (\u001b[38;5;45mNone\u001b[0m, \u001b[38;5;45mNone\u001b[0m, \u001b[38;5;45mNone\u001b[0m, \u001b[38;5;34m1\u001b[0m)  │             \u001b[38;5;34m0\u001b[0m │\n",
              "├─────────────────────────────────┼────────────────────────┼───────────────┤\n",
              "│ decoder_dense1 (\u001b[38;5;33mDense\u001b[0m)          │ (\u001b[38;5;45mNone\u001b[0m, \u001b[38;5;45mNone\u001b[0m, \u001b[38;5;45mNone\u001b[0m,     │        \u001b[38;5;34m32,768\u001b[0m │\n",
              "│                                 │ \u001b[38;5;34m16384\u001b[0m)                 │               │\n",
              "├─────────────────────────────────┼────────────────────────┼───────────────┤\n",
              "│ decoder_reshape1 (\u001b[38;5;33mReshape\u001b[0m)      │ (\u001b[38;5;45mNone\u001b[0m, \u001b[38;5;34m8\u001b[0m, \u001b[38;5;34m8\u001b[0m, \u001b[38;5;34m256\u001b[0m)      │             \u001b[38;5;34m0\u001b[0m │\n",
              "├─────────────────────────────────┼────────────────────────┼───────────────┤\n",
              "│ decoder_conv1 (\u001b[38;5;33mConv2DTranspose\u001b[0m) │ (\u001b[38;5;45mNone\u001b[0m, \u001b[38;5;34m16\u001b[0m, \u001b[38;5;34m16\u001b[0m, \u001b[38;5;34m256\u001b[0m)    │       \u001b[38;5;34m590,080\u001b[0m │\n",
              "├─────────────────────────────────┼────────────────────────┼───────────────┤\n",
              "│ decoder_conv2 (\u001b[38;5;33mConv2DTranspose\u001b[0m) │ (\u001b[38;5;45mNone\u001b[0m, \u001b[38;5;34m32\u001b[0m, \u001b[38;5;34m32\u001b[0m, \u001b[38;5;34m128\u001b[0m)    │       \u001b[38;5;34m295,040\u001b[0m │\n",
              "├─────────────────────────────────┼────────────────────────┼───────────────┤\n",
              "│ decoder_conv3 (\u001b[38;5;33mConv2DTranspose\u001b[0m) │ (\u001b[38;5;45mNone\u001b[0m, \u001b[38;5;34m64\u001b[0m, \u001b[38;5;34m64\u001b[0m, \u001b[38;5;34m64\u001b[0m)     │        \u001b[38;5;34m73,792\u001b[0m │\n",
              "├─────────────────────────────────┼────────────────────────┼───────────────┤\n",
              "│ decoder_conv4 (\u001b[38;5;33mConv2DTranspose\u001b[0m) │ (\u001b[38;5;45mNone\u001b[0m, \u001b[38;5;34m128\u001b[0m, \u001b[38;5;34m128\u001b[0m, \u001b[38;5;34m32\u001b[0m)   │        \u001b[38;5;34m18,464\u001b[0m │\n",
              "├─────────────────────────────────┼────────────────────────┼───────────────┤\n",
              "│ decoder_conv5 (\u001b[38;5;33mConv2DTranspose\u001b[0m) │ (\u001b[38;5;45mNone\u001b[0m, \u001b[38;5;34m128\u001b[0m, \u001b[38;5;34m128\u001b[0m, \u001b[38;5;34m1\u001b[0m)    │           \u001b[38;5;34m289\u001b[0m │\n",
              "└─────────────────────────────────┴────────────────────────┴───────────────┘\n"
            ],
            "text/html": [
              "<pre style=\"white-space:pre;overflow-x:auto;line-height:normal;font-family:Menlo,'DejaVu Sans Mono',consolas,'Courier New',monospace\">┏━━━━━━━━━━━━━━━━━━━━━━━━━━━━━━━━━┳━━━━━━━━━━━━━━━━━━━━━━━━┳━━━━━━━━━━━━━━━┓\n",
              "┃<span style=\"font-weight: bold\"> Layer (type)                    </span>┃<span style=\"font-weight: bold\"> Output Shape           </span>┃<span style=\"font-weight: bold\">       Param # </span>┃\n",
              "┡━━━━━━━━━━━━━━━━━━━━━━━━━━━━━━━━━╇━━━━━━━━━━━━━━━━━━━━━━━━╇━━━━━━━━━━━━━━━┩\n",
              "│ input_layer_17 (<span style=\"color: #0087ff; text-decoration-color: #0087ff\">InputLayer</span>)     │ (<span style=\"color: #00d7ff; text-decoration-color: #00d7ff\">None</span>, <span style=\"color: #00d7ff; text-decoration-color: #00d7ff\">None</span>, <span style=\"color: #00d7ff; text-decoration-color: #00d7ff\">None</span>, <span style=\"color: #00af00; text-decoration-color: #00af00\">1</span>)  │             <span style=\"color: #00af00; text-decoration-color: #00af00\">0</span> │\n",
              "├─────────────────────────────────┼────────────────────────┼───────────────┤\n",
              "│ decoder_dense1 (<span style=\"color: #0087ff; text-decoration-color: #0087ff\">Dense</span>)          │ (<span style=\"color: #00d7ff; text-decoration-color: #00d7ff\">None</span>, <span style=\"color: #00d7ff; text-decoration-color: #00d7ff\">None</span>, <span style=\"color: #00d7ff; text-decoration-color: #00d7ff\">None</span>,     │        <span style=\"color: #00af00; text-decoration-color: #00af00\">32,768</span> │\n",
              "│                                 │ <span style=\"color: #00af00; text-decoration-color: #00af00\">16384</span>)                 │               │\n",
              "├─────────────────────────────────┼────────────────────────┼───────────────┤\n",
              "│ decoder_reshape1 (<span style=\"color: #0087ff; text-decoration-color: #0087ff\">Reshape</span>)      │ (<span style=\"color: #00d7ff; text-decoration-color: #00d7ff\">None</span>, <span style=\"color: #00af00; text-decoration-color: #00af00\">8</span>, <span style=\"color: #00af00; text-decoration-color: #00af00\">8</span>, <span style=\"color: #00af00; text-decoration-color: #00af00\">256</span>)      │             <span style=\"color: #00af00; text-decoration-color: #00af00\">0</span> │\n",
              "├─────────────────────────────────┼────────────────────────┼───────────────┤\n",
              "│ decoder_conv1 (<span style=\"color: #0087ff; text-decoration-color: #0087ff\">Conv2DTranspose</span>) │ (<span style=\"color: #00d7ff; text-decoration-color: #00d7ff\">None</span>, <span style=\"color: #00af00; text-decoration-color: #00af00\">16</span>, <span style=\"color: #00af00; text-decoration-color: #00af00\">16</span>, <span style=\"color: #00af00; text-decoration-color: #00af00\">256</span>)    │       <span style=\"color: #00af00; text-decoration-color: #00af00\">590,080</span> │\n",
              "├─────────────────────────────────┼────────────────────────┼───────────────┤\n",
              "│ decoder_conv2 (<span style=\"color: #0087ff; text-decoration-color: #0087ff\">Conv2DTranspose</span>) │ (<span style=\"color: #00d7ff; text-decoration-color: #00d7ff\">None</span>, <span style=\"color: #00af00; text-decoration-color: #00af00\">32</span>, <span style=\"color: #00af00; text-decoration-color: #00af00\">32</span>, <span style=\"color: #00af00; text-decoration-color: #00af00\">128</span>)    │       <span style=\"color: #00af00; text-decoration-color: #00af00\">295,040</span> │\n",
              "├─────────────────────────────────┼────────────────────────┼───────────────┤\n",
              "│ decoder_conv3 (<span style=\"color: #0087ff; text-decoration-color: #0087ff\">Conv2DTranspose</span>) │ (<span style=\"color: #00d7ff; text-decoration-color: #00d7ff\">None</span>, <span style=\"color: #00af00; text-decoration-color: #00af00\">64</span>, <span style=\"color: #00af00; text-decoration-color: #00af00\">64</span>, <span style=\"color: #00af00; text-decoration-color: #00af00\">64</span>)     │        <span style=\"color: #00af00; text-decoration-color: #00af00\">73,792</span> │\n",
              "├─────────────────────────────────┼────────────────────────┼───────────────┤\n",
              "│ decoder_conv4 (<span style=\"color: #0087ff; text-decoration-color: #0087ff\">Conv2DTranspose</span>) │ (<span style=\"color: #00d7ff; text-decoration-color: #00d7ff\">None</span>, <span style=\"color: #00af00; text-decoration-color: #00af00\">128</span>, <span style=\"color: #00af00; text-decoration-color: #00af00\">128</span>, <span style=\"color: #00af00; text-decoration-color: #00af00\">32</span>)   │        <span style=\"color: #00af00; text-decoration-color: #00af00\">18,464</span> │\n",
              "├─────────────────────────────────┼────────────────────────┼───────────────┤\n",
              "│ decoder_conv5 (<span style=\"color: #0087ff; text-decoration-color: #0087ff\">Conv2DTranspose</span>) │ (<span style=\"color: #00d7ff; text-decoration-color: #00d7ff\">None</span>, <span style=\"color: #00af00; text-decoration-color: #00af00\">128</span>, <span style=\"color: #00af00; text-decoration-color: #00af00\">128</span>, <span style=\"color: #00af00; text-decoration-color: #00af00\">1</span>)    │           <span style=\"color: #00af00; text-decoration-color: #00af00\">289</span> │\n",
              "└─────────────────────────────────┴────────────────────────┴───────────────┘\n",
              "</pre>\n"
            ]
          },
          "metadata": {}
        },
        {
          "output_type": "display_data",
          "data": {
            "text/plain": [
              "\u001b[1m Total params: \u001b[0m\u001b[38;5;34m1,010,433\u001b[0m (3.85 MB)\n"
            ],
            "text/html": [
              "<pre style=\"white-space:pre;overflow-x:auto;line-height:normal;font-family:Menlo,'DejaVu Sans Mono',consolas,'Courier New',monospace\"><span style=\"font-weight: bold\"> Total params: </span><span style=\"color: #00af00; text-decoration-color: #00af00\">1,010,433</span> (3.85 MB)\n",
              "</pre>\n"
            ]
          },
          "metadata": {}
        },
        {
          "output_type": "display_data",
          "data": {
            "text/plain": [
              "\u001b[1m Trainable params: \u001b[0m\u001b[38;5;34m1,010,433\u001b[0m (3.85 MB)\n"
            ],
            "text/html": [
              "<pre style=\"white-space:pre;overflow-x:auto;line-height:normal;font-family:Menlo,'DejaVu Sans Mono',consolas,'Courier New',monospace\"><span style=\"font-weight: bold\"> Trainable params: </span><span style=\"color: #00af00; text-decoration-color: #00af00\">1,010,433</span> (3.85 MB)\n",
              "</pre>\n"
            ]
          },
          "metadata": {}
        },
        {
          "output_type": "display_data",
          "data": {
            "text/plain": [
              "\u001b[1m Non-trainable params: \u001b[0m\u001b[38;5;34m0\u001b[0m (0.00 B)\n"
            ],
            "text/html": [
              "<pre style=\"white-space:pre;overflow-x:auto;line-height:normal;font-family:Menlo,'DejaVu Sans Mono',consolas,'Courier New',monospace\"><span style=\"font-weight: bold\"> Non-trainable params: </span><span style=\"color: #00af00; text-decoration-color: #00af00\">0</span> (0.00 B)\n",
              "</pre>\n"
            ]
          },
          "metadata": {}
        }
      ]
    },
    {
      "cell_type": "code",
      "source": [
        "images = tf.keras.utils.image_dataset_from_directory(\n",
        "    images_path,\n",
        "    labels=None,\n",
        "    color_mode='grayscale',\n",
        "    image_size=(128, 128),\n",
        "    batch_size=32,\n",
        "    shuffle=True, # Ensure shuffling for random split\n",
        "    seed=42 # Optional: Set seed for reproducible split\n",
        ")\n",
        "\n",
        "# Calculate the size of the dataset\n",
        "dataset_size = tf.data.experimental.cardinality(images).numpy()\n",
        "\n",
        "train_size = int(0.8 * dataset_size)\n",
        "test_size = dataset_size - train_size\n",
        "\n",
        "# Split the dataset using take and skip\n",
        "train_ds = images.take(train_size)\n",
        "test_ds = images.skip(train_size)"
      ],
      "metadata": {
        "colab": {
          "base_uri": "https://localhost:8080/"
        },
        "id": "T_i6G-LusZsS",
        "outputId": "4db3eb33-3218-4f2b-b686-e966c7eb85a5"
      },
      "execution_count": null,
      "outputs": [
        {
          "output_type": "stream",
          "name": "stdout",
          "text": [
            "Found 1899 files.\n"
          ]
        }
      ]
    },
    {
      "cell_type": "code",
      "source": [
        "# prompt: plot part of the dataset\n",
        "\n",
        "import matplotlib.pyplot as plt\n",
        "\n",
        "# Take the first batch from the training dataset\n",
        "for batch in train_ds.take(1):\n",
        "    # The batch is a tensor of images\n",
        "    images_batch = batch\n",
        "\n",
        "# Select a few images from the batch to plot\n",
        "num_images_to_plot = 5\n",
        "plt.figure(figsize=(10, 2))\n",
        "for i in range(num_images_to_plot):\n",
        "    plt.subplot(1, num_images_to_plot, i + 1)\n",
        "    # Squeeze to remove the channel dimension for grayscale images if needed for plotting\n",
        "    plt.imshow(tf.squeeze(images_batch[i]).numpy(), cmap='gray')\n",
        "    plt.axis('off')\n",
        "plt.suptitle('Sample Training Images')\n",
        "plt.show()\n",
        "\n",
        "# Take the first batch from the testing dataset\n",
        "for batch in test_ds.take(1):\n",
        "    # The batch is a tensor of images\n",
        "    images_batch = batch\n",
        "\n",
        "# Select a few images from the batch to plot\n",
        "plt.figure(figsize=(10, 2))\n",
        "for i in range(num_images_to_plot):\n",
        "    plt.subplot(1, num_images_to_plot, i + 1)\n",
        "    # Squeeze to remove the channel dimension for grayscale images if needed for plotting\n",
        "    plt.imshow(tf.squeeze(images_batch[i]).numpy(), cmap='gray')\n",
        "    plt.axis('off')\n",
        "plt.suptitle('Sample Testing Images')\n",
        "plt.show()\n"
      ],
      "metadata": {
        "colab": {
          "base_uri": "https://localhost:8080/",
          "height": 383
        },
        "id": "cDXvvL1vtgEM",
        "outputId": "a46c175d-0f32-4f50-cecd-e58772f66445"
      },
      "execution_count": null,
      "outputs": [
        {
          "output_type": "display_data",
          "data": {
            "text/plain": [
              "<Figure size 1000x200 with 5 Axes>"
            ],
            "image/png": "[encoded data removed]"
          },
          "metadata": {}
        },
        {
          "output_type": "display_data",
          "data": {
            "text/plain": [
              "<Figure size 1000x200 with 5 Axes>"
            ],
            "image/png": "[encoded data removed]"
          },
          "metadata": {}
        }
      ]
    },
    {
      "cell_type": "code",
      "source": [
        "import matplotlib.pyplot as plt\n",
        "\n",
        "beta_updater_callback = BetaVaeParameterUpdater(delta=0.01, limit=0.0) # Example values\n",
        "early_stop_callback = tf.keras.callbacks.EarlyStopping(monitor='val_loss',\n",
        "                                                           patience=100,\n",
        "                                                           restore_best_weights=True,\n",
        "                                                           min_delta=1.0,\n",
        "                                                           verbose=1)\n",
        "history = model.fit(\n",
        "    train_ds,\n",
        "    epochs=1000, # Adjust the number of epochs as needed\n",
        "    validation_data=test_ds,\n",
        "    callbacks=[beta_updater_callback, early_stop_callback] # Add the callback\n",
        ")\n",
        "\n",
        "# Plot training history (optional)\n",
        "plt.plot(history.history['loss'])\n",
        "plt.plot(history.history['val_loss'])\n",
        "plt.title('Model Loss')\n",
        "plt.ylabel('Loss')\n",
        "plt.xlabel('Epoch')\n",
        "plt.legend(['Train', 'Test'], loc='upper left')\n",
        "plt.show()"
      ],
      "metadata": {
        "colab": {
          "base_uri": "https://localhost:8080/",
          "height": 1000
        },
        "id": "U3Ul0YsTt3I3",
        "outputId": "7b52c82e-8e9c-4eb4-abf0-9e8ca5ca00fc"
      },
      "execution_count": null,
      "outputs": [
        {
          "output_type": "stream",
          "name": "stdout",
          "text": [
            "Epoch 1/1000\n",
            "\u001b[1m48/48\u001b[0m \u001b[32m━━━━━━━━━━━━━━━━━━━━\u001b[0m\u001b[37m\u001b[0m \u001b[1m2s\u001b[0m 46ms/step - kl_loss: 0.0000e+00 - loss: 279.4146 - reconstruction_loss: 279.4146 - val_kl_loss: 0.0000e+00 - val_loss: 429.5850 - val_reconstruction_loss: 427.1447\n",
            "Epoch 2/1000\n",
            "\u001b[1m48/48\u001b[0m \u001b[32m━━━━━━━━━━━━━━━━━━━━\u001b[0m\u001b[37m\u001b[0m \u001b[1m2s\u001b[0m 45ms/step - kl_loss: 0.0000e+00 - loss: 337.4821 - reconstruction_loss: 337.4821 - val_kl_loss: 0.0000e+00 - val_loss: 339.5969 - val_reconstruction_loss: 338.3116\n",
            "Epoch 3/1000\n",
            "\u001b[1m48/48\u001b[0m \u001b[32m━━━━━━━━━━━━━━━━━━━━\u001b[0m\u001b[37m\u001b[0m \u001b[1m2s\u001b[0m 44ms/step - kl_loss: 0.0000e+00 - loss: 273.1973 - reconstruction_loss: 273.1973 - val_kl_loss: 0.0000e+00 - val_loss: 319.2637 - val_reconstruction_loss: 315.4363\n",
            "Epoch 4/1000\n",
            "\u001b[1m48/48\u001b[0m \u001b[32m━━━━━━━━━━━━━━━━━━━━\u001b[0m\u001b[37m\u001b[0m \u001b[1m3s\u001b[0m 53ms/step - kl_loss: 0.0000e+00 - loss: 266.3843 - reconstruction_loss: 266.3843 - val_kl_loss: 0.0000e+00 - val_loss: 383.4639 - val_reconstruction_loss: 380.8643\n",
            "Epoch 5/1000\n",
            "\u001b[1m48/48\u001b[0m \u001b[32m━━━━━━━━━━━━━━━━━━━━\u001b[0m\u001b[37m\u001b[0m \u001b[1m5s\u001b[0m 46ms/step - kl_loss: 0.0000e+00 - loss: 311.9178 - reconstruction_loss: 311.9178 - val_kl_loss: 0.0000e+00 - val_loss: 335.6104 - val_reconstruction_loss: 334.3558\n",
            "Epoch 6/1000\n",
            "\u001b[1m48/48\u001b[0m \u001b[32m━━━━━━━━━━━━━━━━━━━━\u001b[0m\u001b[37m\u001b[0m \u001b[1m2s\u001b[0m 44ms/step - kl_loss: 0.0000e+00 - loss: 356.1481 - reconstruction_loss: 356.1481 - val_kl_loss: 0.0000e+00 - val_loss: 486.5196 - val_reconstruction_loss: 488.9057\n",
            "Epoch 7/1000\n",
            "\u001b[1m48/48\u001b[0m \u001b[32m━━━━━━━━━━━━━━━━━━━━\u001b[0m\u001b[37m\u001b[0m \u001b[1m2s\u001b[0m 45ms/step - kl_loss: 0.0000e+00 - loss: 410.6149 - reconstruction_loss: 410.6149 - val_kl_loss: 0.0000e+00 - val_loss: 376.0094 - val_reconstruction_loss: 379.6715\n",
            "Epoch 8/1000\n",
            "\u001b[1m48/48\u001b[0m \u001b[32m━━━━━━━━━━━━━━━━━━━━\u001b[0m\u001b[37m\u001b[0m \u001b[1m3s\u001b[0m 52ms/step - kl_loss: 0.0000e+00 - loss: 325.8261 - reconstruction_loss: 325.8261 - val_kl_loss: 0.0000e+00 - val_loss: 820.6812 - val_reconstruction_loss: 828.5226\n",
            "Epoch 9/1000\n",
            "\u001b[1m48/48\u001b[0m \u001b[32m━━━━━━━━━━━━━━━━━━━━\u001b[0m\u001b[37m\u001b[0m \u001b[1m2s\u001b[0m 46ms/step - kl_loss: 0.0000e+00 - loss: 605.6349 - reconstruction_loss: 605.6349 - val_kl_loss: 0.0000e+00 - val_loss: 825.1480 - val_reconstruction_loss: 823.5416\n",
            "Epoch 10/1000\n",
            "\u001b[1m48/48\u001b[0m \u001b[32m━━━━━━━━━━━━━━━━━━━━\u001b[0m\u001b[37m\u001b[0m \u001b[1m2s\u001b[0m 44ms/step - kl_loss: 0.0000e+00 - loss: 603.4120 - reconstruction_loss: 603.4120 - val_kl_loss: 0.0000e+00 - val_loss: 462.9797 - val_reconstruction_loss: 460.9229\n",
            "Epoch 11/1000\n",
            "\u001b[1m48/48\u001b[0m \u001b[32m━━━━━━━━━━━━━━━━━━━━\u001b[0m\u001b[37m\u001b[0m \u001b[1m2s\u001b[0m 44ms/step - kl_loss: 0.0000e+00 - loss: 423.3737 - reconstruction_loss: 423.3737 - val_kl_loss: 0.0000e+00 - val_loss: 401.3815 - val_reconstruction_loss: 402.0900\n",
            "Epoch 12/1000\n",
            "\u001b[1m48/48\u001b[0m \u001b[32m━━━━━━━━━━━━━━━━━━━━\u001b[0m\u001b[37m\u001b[0m \u001b[1m2s\u001b[0m 50ms/step - kl_loss: 0.0000e+00 - loss: 370.1917 - reconstruction_loss: 370.1917 - val_kl_loss: 0.0000e+00 - val_loss: 376.0884 - val_reconstruction_loss: 371.1951\n",
            "Epoch 13/1000\n",
            "\u001b[1m48/48\u001b[0m \u001b[32m━━━━━━━━━━━━━━━━━━━━\u001b[0m\u001b[37m\u001b[0m \u001b[1m2s\u001b[0m 44ms/step - kl_loss: 0.0000e+00 - loss: 329.4799 - reconstruction_loss: 329.4799 - val_kl_loss: 0.0000e+00 - val_loss: 348.9243 - val_reconstruction_loss: 358.3861\n",
            "Epoch 14/1000\n",
            "\u001b[1m48/48\u001b[0m \u001b[32m━━━━━━━━━━━━━━━━━━━━\u001b[0m\u001b[37m\u001b[0m \u001b[1m2s\u001b[0m 48ms/step - kl_loss: 0.0000e+00 - loss: 296.3159 - reconstruction_loss: 296.3159 - val_kl_loss: 0.0000e+00 - val_loss: 348.5062 - val_reconstruction_loss: 346.7561\n",
            "Epoch 15/1000\n",
            "\u001b[1m48/48\u001b[0m \u001b[32m━━━━━━━━━━━━━━━━━━━━\u001b[0m\u001b[37m\u001b[0m \u001b[1m2s\u001b[0m 45ms/step - kl_loss: 0.0000e+00 - loss: 290.9815 - reconstruction_loss: 290.9815 - val_kl_loss: 0.0000e+00 - val_loss: 469.8222 - val_reconstruction_loss: 465.0187\n",
            "Epoch 16/1000\n",
            "\u001b[1m48/48\u001b[0m \u001b[32m━━━━━━━━━━━━━━━━━━━━\u001b[0m\u001b[37m\u001b[0m \u001b[1m2s\u001b[0m 44ms/step - kl_loss: 0.0000e+00 - loss: 374.1074 - reconstruction_loss: 374.1074 - val_kl_loss: 0.0000e+00 - val_loss: 369.1756 - val_reconstruction_loss: 369.1953\n",
            "Epoch 17/1000\n",
            "\u001b[1m48/48\u001b[0m \u001b[32m━━━━━━━━━━━━━━━━━━━━\u001b[0m\u001b[37m\u001b[0m \u001b[1m2s\u001b[0m 45ms/step - kl_loss: 0.0000e+00 - loss: 310.3209 - reconstruction_loss: 310.3209 - val_kl_loss: 0.0000e+00 - val_loss: 352.5538 - val_reconstruction_loss: 358.9617\n",
            "Epoch 18/1000\n",
            "\u001b[1m48/48\u001b[0m \u001b[32m━━━━━━━━━━━━━━━━━━━━\u001b[0m\u001b[37m\u001b[0m \u001b[1m2s\u001b[0m 45ms/step - kl_loss: 0.0000e+00 - loss: 296.9825 - reconstruction_loss: 296.9825 - val_kl_loss: 0.0000e+00 - val_loss: 342.2156 - val_reconstruction_loss: 343.0631\n",
            "Epoch 19/1000\n",
            "\u001b[1m48/48\u001b[0m \u001b[32m━━━━━━━━━━━━━━━━━━━━\u001b[0m\u001b[37m\u001b[0m \u001b[1m3s\u001b[0m 51ms/step - kl_loss: 0.0000e+00 - loss: 361.8694 - reconstruction_loss: 361.8694 - val_kl_loss: 0.0000e+00 - val_loss: 368.6593 - val_reconstruction_loss: 362.7997\n",
            "Epoch 20/1000\n",
            "\u001b[1m48/48\u001b[0m \u001b[32m━━━━━━━━━━━━━━━━━━━━\u001b[0m\u001b[37m\u001b[0m \u001b[1m2s\u001b[0m 49ms/step - kl_loss: 0.0000e+00 - loss: 294.1619 - reconstruction_loss: 294.1619 - val_kl_loss: 0.0000e+00 - val_loss: 339.8406 - val_reconstruction_loss: 341.5685\n",
            "Epoch 21/1000\n",
            "\u001b[1m48/48\u001b[0m \u001b[32m━━━━━━━━━━━━━━━━━━━━\u001b[0m\u001b[37m\u001b[0m \u001b[1m2s\u001b[0m 45ms/step - kl_loss: 0.0000e+00 - loss: 272.9035 - reconstruction_loss: 272.9035 - val_kl_loss: 0.0000e+00 - val_loss: 317.1453 - val_reconstruction_loss: 317.5455\n",
            "Epoch 22/1000\n",
            "\u001b[1m48/48\u001b[0m \u001b[32m━━━━━━━━━━━━━━━━━━━━\u001b[0m\u001b[37m\u001b[0m \u001b[1m3s\u001b[0m 45ms/step - kl_loss: 0.0000e+00 - loss: 260.4562 - reconstruction_loss: 260.4562 - val_kl_loss: 0.0000e+00 - val_loss: 312.5285 - val_reconstruction_loss: 307.6911\n",
            "Epoch 23/1000\n",
            "\u001b[1m48/48\u001b[0m \u001b[32m━━━━━━━━━━━━━━━━━━━━\u001b[0m\u001b[37m\u001b[0m \u001b[1m2s\u001b[0m 44ms/step - kl_loss: 0.0000e+00 - loss: 254.2856 - reconstruction_loss: 254.2856 - val_kl_loss: 0.0000e+00 - val_loss: 311.7433 - val_reconstruction_loss: 312.4811\n",
            "Epoch 24/1000\n",
            "\u001b[1m48/48\u001b[0m \u001b[32m━━━━━━━━━━━━━━━━━━━━\u001b[0m\u001b[37m\u001b[0m \u001b[1m2s\u001b[0m 45ms/step - kl_loss: 0.0000e+00 - loss: 248.8876 - reconstruction_loss: 248.8876 - val_kl_loss: 0.0000e+00 - val_loss: 302.3235 - val_reconstruction_loss: 302.5004\n",
            "Epoch 25/1000\n",
            "\u001b[1m48/48\u001b[0m \u001b[32m━━━━━━━━━━━━━━━━━━━━\u001b[0m\u001b[37m\u001b[0m \u001b[1m3s\u001b[0m 54ms/step - kl_loss: 0.0000e+00 - loss: 247.7619 - reconstruction_loss: 247.7619 - val_kl_loss: 0.0000e+00 - val_loss: 293.0738 - val_reconstruction_loss: 301.5226\n",
            "Epoch 26/1000\n",
            "\u001b[1m48/48\u001b[0m \u001b[32m━━━━━━━━━━━━━━━━━━━━\u001b[0m\u001b[37m\u001b[0m \u001b[1m2s\u001b[0m 45ms/step - kl_loss: 0.0000e+00 - loss: 242.9648 - reconstruction_loss: 242.9648 - val_kl_loss: 0.0000e+00 - val_loss: 343.6490 - val_reconstruction_loss: 347.2625\n",
            "Epoch 27/1000\n",
            "\u001b[1m48/48\u001b[0m \u001b[32m━━━━━━━━━━━━━━━━━━━━\u001b[0m\u001b[37m\u001b[0m \u001b[1m2s\u001b[0m 45ms/step - kl_loss: 0.0000e+00 - loss: 269.6914 - reconstruction_loss: 269.6914 - val_kl_loss: 0.0000e+00 - val_loss: 310.0074 - val_reconstruction_loss: 314.9260\n",
            "Epoch 28/1000\n",
            "\u001b[1m48/48\u001b[0m \u001b[32m━━━━━━━━━━━━━━━━━━━━\u001b[0m\u001b[37m\u001b[0m \u001b[1m2s\u001b[0m 45ms/step - kl_loss: 0.0000e+00 - loss: 261.7514 - reconstruction_loss: 261.7514 - val_kl_loss: 0.0000e+00 - val_loss: 463.3821 - val_reconstruction_loss: 458.5616\n",
            "Epoch 29/1000\n",
            "\u001b[1m48/48\u001b[0m \u001b[32m━━━━━━━━━━━━━━━━━━━━\u001b[0m\u001b[37m\u001b[0m \u001b[1m2s\u001b[0m 45ms/step - kl_loss: 0.0000e+00 - loss: 362.5377 - reconstruction_loss: 362.5377 - val_kl_loss: 0.0000e+00 - val_loss: 408.1073 - val_reconstruction_loss: 407.1040\n",
            "Epoch 30/1000\n",
            "\u001b[1m48/48\u001b[0m \u001b[32m━━━━━━━━━━━━━━━━━━━━\u001b[0m\u001b[37m\u001b[0m \u001b[1m2s\u001b[0m 45ms/step - kl_loss: 0.0000e+00 - loss: 332.5813 - reconstruction_loss: 332.5813 - val_kl_loss: 0.0000e+00 - val_loss: 319.4547 - val_reconstruction_loss: 318.4132\n",
            "Epoch 31/1000\n",
            "\u001b[1m48/48\u001b[0m \u001b[32m━━━━━━━━━━━━━━━━━━━━\u001b[0m\u001b[37m\u001b[0m \u001b[1m3s\u001b[0m 54ms/step - kl_loss: 0.0000e+00 - loss: 273.4711 - reconstruction_loss: 273.4711 - val_kl_loss: 0.0000e+00 - val_loss: 325.9131 - val_reconstruction_loss: 330.1747\n",
            "Epoch 32/1000\n",
            "\u001b[1m48/48\u001b[0m \u001b[32m━━━━━━━━━━━━━━━━━━━━\u001b[0m\u001b[37m\u001b[0m \u001b[1m2s\u001b[0m 45ms/step - kl_loss: 0.0000e+00 - loss: 267.0330 - reconstruction_loss: 267.0330 - val_kl_loss: 0.0000e+00 - val_loss: 322.2299 - val_reconstruction_loss: 322.7643\n",
            "Epoch 33/1000\n",
            "\u001b[1m48/48\u001b[0m \u001b[32m━━━━━━━━━━━━━━━━━━━━\u001b[0m\u001b[37m\u001b[0m \u001b[1m3s\u001b[0m 45ms/step - kl_loss: 0.0000e+00 - loss: 290.4616 - reconstruction_loss: 290.4616 - val_kl_loss: 0.0000e+00 - val_loss: 354.1973 - val_reconstruction_loss: 354.0500\n",
            "Epoch 34/1000\n",
            "\u001b[1m48/48\u001b[0m \u001b[32m━━━━━━━━━━━━━━━━━━━━\u001b[0m\u001b[37m\u001b[0m \u001b[1m2s\u001b[0m 45ms/step - kl_loss: 0.0000e+00 - loss: 450.5869 - reconstruction_loss: 450.5869 - val_kl_loss: 0.0000e+00 - val_loss: 417.9555 - val_reconstruction_loss: 417.0702\n",
            "Epoch 35/1000\n",
            "\u001b[1m48/48\u001b[0m \u001b[32m━━━━━━━━━━━━━━━━━━━━\u001b[0m\u001b[37m\u001b[0m \u001b[1m2s\u001b[0m 45ms/step - kl_loss: 0.0000e+00 - loss: 348.4308 - reconstruction_loss: 348.4308 - val_kl_loss: 0.0000e+00 - val_loss: 343.9747 - val_reconstruction_loss: 349.0481\n",
            "Epoch 36/1000\n",
            "\u001b[1m48/48\u001b[0m \u001b[32m━━━━━━━━━━━━━━━━━━━━\u001b[0m\u001b[37m\u001b[0m \u001b[1m3s\u001b[0m 54ms/step - kl_loss: 0.0000e+00 - loss: 299.7604 - reconstruction_loss: 299.7604 - val_kl_loss: 0.0000e+00 - val_loss: 523.3776 - val_reconstruction_loss: 521.1837\n",
            "Epoch 37/1000\n",
            "\u001b[1m48/48\u001b[0m \u001b[32m━━━━━━━━━━━━━━━━━━━━\u001b[0m\u001b[37m\u001b[0m \u001b[1m5s\u001b[0m 47ms/step - kl_loss: 0.0000e+00 - loss: 443.2991 - reconstruction_loss: 443.2991 - val_kl_loss: 0.0000e+00 - val_loss: 407.8430 - val_reconstruction_loss: 409.8524\n",
            "Epoch 38/1000\n",
            "\u001b[1m48/48\u001b[0m \u001b[32m━━━━━━━━━━━━━━━━━━━━\u001b[0m\u001b[37m\u001b[0m \u001b[1m2s\u001b[0m 45ms/step - kl_loss: 0.0000e+00 - loss: 337.7078 - reconstruction_loss: 337.7078 - val_kl_loss: 0.0000e+00 - val_loss: 347.3204 - val_reconstruction_loss: 344.3152\n",
            "Epoch 39/1000\n",
            "\u001b[1m48/48\u001b[0m \u001b[32m━━━━━━━━━━━━━━━━━━━━\u001b[0m\u001b[37m\u001b[0m \u001b[1m2s\u001b[0m 45ms/step - kl_loss: 0.0000e+00 - loss: 334.6980 - reconstruction_loss: 334.6980 - val_kl_loss: 0.0000e+00 - val_loss: 424.7876 - val_reconstruction_loss: 423.3029\n",
            "Epoch 40/1000\n",
            "\u001b[1m48/48\u001b[0m \u001b[32m━━━━━━━━━━━━━━━━━━━━\u001b[0m\u001b[37m\u001b[0m \u001b[1m2s\u001b[0m 47ms/step - kl_loss: 0.0000e+00 - loss: 353.9236 - reconstruction_loss: 353.9236 - val_kl_loss: 0.0000e+00 - val_loss: 474.3403 - val_reconstruction_loss: 471.0985\n",
            "Epoch 41/1000\n",
            "\u001b[1m48/48\u001b[0m \u001b[32m━━━━━━━━━━━━━━━━━━━━\u001b[0m\u001b[37m\u001b[0m \u001b[1m2s\u001b[0m 49ms/step - kl_loss: 0.0000e+00 - loss: 539.8541 - reconstruction_loss: 539.8541 - val_kl_loss: 0.0000e+00 - val_loss: 458.7799 - val_reconstruction_loss: 458.4154\n",
            "Epoch 42/1000\n",
            "\u001b[1m48/48\u001b[0m \u001b[32m━━━━━━━━━━━━━━━━━━━━\u001b[0m\u001b[37m\u001b[0m \u001b[1m2s\u001b[0m 45ms/step - kl_loss: 0.0000e+00 - loss: 438.2825 - reconstruction_loss: 438.2825 - val_kl_loss: 0.0000e+00 - val_loss: 392.8797 - val_reconstruction_loss: 391.1992\n",
            "Epoch 43/1000\n",
            "\u001b[1m48/48\u001b[0m \u001b[32m━━━━━━━━━━━━━━━━━━━━\u001b[0m\u001b[37m\u001b[0m \u001b[1m2s\u001b[0m 45ms/step - kl_loss: 0.0000e+00 - loss: 330.1389 - reconstruction_loss: 330.1389 - val_kl_loss: 0.0000e+00 - val_loss: 487.0233 - val_reconstruction_loss: 489.5616\n",
            "Epoch 44/1000\n",
            "\u001b[1m48/48\u001b[0m \u001b[32m━━━━━━━━━━━━━━━━━━━━\u001b[0m\u001b[37m\u001b[0m \u001b[1m2s\u001b[0m 44ms/step - kl_loss: 0.0000e+00 - loss: 402.6337 - reconstruction_loss: 402.6337 - val_kl_loss: 0.0000e+00 - val_loss: 403.7763 - val_reconstruction_loss: 403.9979\n",
            "Epoch 45/1000\n",
            "\u001b[1m48/48\u001b[0m \u001b[32m━━━━━━━━━━━━━━━━━━━━\u001b[0m\u001b[37m\u001b[0m \u001b[1m2s\u001b[0m 46ms/step - kl_loss: 0.0000e+00 - loss: 330.7336 - reconstruction_loss: 330.7336 - val_kl_loss: 0.0000e+00 - val_loss: 383.2488 - val_reconstruction_loss: 381.1766\n",
            "Epoch 46/1000\n",
            "\u001b[1m48/48\u001b[0m \u001b[32m━━━━━━━━━━━━━━━━━━━━\u001b[0m\u001b[37m\u001b[0m \u001b[1m3s\u001b[0m 53ms/step - kl_loss: 0.0000e+00 - loss: 322.3349 - reconstruction_loss: 322.3349 - val_kl_loss: 0.0000e+00 - val_loss: 357.6721 - val_reconstruction_loss: 354.6987\n",
            "Epoch 47/1000\n",
            "\u001b[1m48/48\u001b[0m \u001b[32m━━━━━━━━━━━━━━━━━━━━\u001b[0m\u001b[37m\u001b[0m \u001b[1m2s\u001b[0m 46ms/step - kl_loss: 0.0000e+00 - loss: 338.8894 - reconstruction_loss: 338.8894 - val_kl_loss: 0.0000e+00 - val_loss: 384.6492 - val_reconstruction_loss: 383.6618\n",
            "Epoch 48/1000\n",
            "\u001b[1m48/48\u001b[0m \u001b[32m━━━━━━━━━━━━━━━━━━━━\u001b[0m\u001b[37m\u001b[0m \u001b[1m2s\u001b[0m 45ms/step - kl_loss: 0.0000e+00 - loss: 371.4491 - reconstruction_loss: 371.4491 - val_kl_loss: 0.0000e+00 - val_loss: 407.2725 - val_reconstruction_loss: 405.2910\n",
            "Epoch 49/1000\n",
            "\u001b[1m48/48\u001b[0m \u001b[32m━━━━━━━━━━━━━━━━━━━━\u001b[0m\u001b[37m\u001b[0m \u001b[1m2s\u001b[0m 45ms/step - kl_loss: 0.0000e+00 - loss: 337.8750 - reconstruction_loss: 337.8750 - val_kl_loss: 0.0000e+00 - val_loss: 356.7979 - val_reconstruction_loss: 355.9433\n",
            "Epoch 50/1000\n",
            "\u001b[1m48/48\u001b[0m \u001b[32m━━━━━━━━━━━━━━━━━━━━\u001b[0m\u001b[37m\u001b[0m \u001b[1m2s\u001b[0m 45ms/step - kl_loss: 0.0000e+00 - loss: 294.3467 - reconstruction_loss: 294.3467 - val_kl_loss: 0.0000e+00 - val_loss: 329.7425 - val_reconstruction_loss: 330.7406\n",
            "Epoch 51/1000\n",
            "\u001b[1m48/48\u001b[0m \u001b[32m━━━━━━━━━━━━━━━━━━━━\u001b[0m\u001b[37m\u001b[0m \u001b[1m2s\u001b[0m 45ms/step - kl_loss: 0.0000e+00 - loss: 271.0952 - reconstruction_loss: 271.0952 - val_kl_loss: 0.0000e+00 - val_loss: 360.4759 - val_reconstruction_loss: 360.8310\n",
            "Epoch 52/1000\n",
            "\u001b[1m48/48\u001b[0m \u001b[32m━━━━━━━━━━━━━━━━━━━━\u001b[0m\u001b[37m\u001b[0m \u001b[1m2s\u001b[0m 50ms/step - kl_loss: 0.0000e+00 - loss: 394.2076 - reconstruction_loss: 394.2076 - val_kl_loss: 0.0000e+00 - val_loss: 1434.2356 - val_reconstruction_loss: 1458.8898\n",
            "Epoch 53/1000\n",
            "\u001b[1m48/48\u001b[0m \u001b[32m━━━━━━━━━━━━━━━━━━━━\u001b[0m\u001b[37m\u001b[0m \u001b[1m2s\u001b[0m 46ms/step - kl_loss: 0.0000e+00 - loss: 1120.1051 - reconstruction_loss: 1120.1051 - val_kl_loss: 0.0000e+00 - val_loss: 677.3073 - val_reconstruction_loss: 681.7457\n",
            "Epoch 54/1000\n",
            "\u001b[1m48/48\u001b[0m \u001b[32m━━━━━━━━━━━━━━━━━━━━\u001b[0m\u001b[37m\u001b[0m \u001b[1m2s\u001b[0m 45ms/step - kl_loss: 0.0000e+00 - loss: 545.5330 - reconstruction_loss: 545.5330 - val_kl_loss: 0.0000e+00 - val_loss: 469.0703 - val_reconstruction_loss: 466.1765\n",
            "Epoch 55/1000\n",
            "\u001b[1m48/48\u001b[0m \u001b[32m━━━━━━━━━━━━━━━━━━━━\u001b[0m\u001b[37m\u001b[0m \u001b[1m2s\u001b[0m 45ms/step - kl_loss: 0.0000e+00 - loss: 395.3707 - reconstruction_loss: 395.3707 - val_kl_loss: 0.0000e+00 - val_loss: 524.5513 - val_reconstruction_loss: 521.2762\n",
            "Epoch 56/1000\n",
            "\u001b[1m48/48\u001b[0m \u001b[32m━━━━━━━━━━━━━━━━━━━━\u001b[0m\u001b[37m\u001b[0m \u001b[1m2s\u001b[0m 46ms/step - kl_loss: 0.0000e+00 - loss: 438.1122 - reconstruction_loss: 438.1122 - val_kl_loss: 0.0000e+00 - val_loss: 407.2170 - val_reconstruction_loss: 407.9381\n",
            "Epoch 57/1000\n",
            "\u001b[1m48/48\u001b[0m \u001b[32m━━━━━━━━━━━━━━━━━━━━\u001b[0m\u001b[37m\u001b[0m \u001b[1m2s\u001b[0m 45ms/step - kl_loss: 0.0000e+00 - loss: 382.1836 - reconstruction_loss: 382.1836 - val_kl_loss: 0.0000e+00 - val_loss: 461.4788 - val_reconstruction_loss: 456.4193\n",
            "Epoch 58/1000\n",
            "\u001b[1m48/48\u001b[0m \u001b[32m━━━━━━━━━━━━━━━━━━━━\u001b[0m\u001b[37m\u001b[0m \u001b[1m3s\u001b[0m 54ms/step - kl_loss: 0.0000e+00 - loss: 425.0756 - reconstruction_loss: 425.0756 - val_kl_loss: 0.0000e+00 - val_loss: 409.5368 - val_reconstruction_loss: 408.7285\n",
            "Epoch 59/1000\n",
            "\u001b[1m48/48\u001b[0m \u001b[32m━━━━━━━━━━━━━━━━━━━━\u001b[0m\u001b[37m\u001b[0m \u001b[1m5s\u001b[0m 47ms/step - kl_loss: 0.0000e+00 - loss: 348.2030 - reconstruction_loss: 348.2030 - val_kl_loss: 0.0000e+00 - val_loss: 463.2473 - val_reconstruction_loss: 465.7626\n",
            "Epoch 60/1000\n",
            "\u001b[1m48/48\u001b[0m \u001b[32m━━━━━━━━━━━━━━━━━━━━\u001b[0m\u001b[37m\u001b[0m \u001b[1m2s\u001b[0m 45ms/step - kl_loss: 0.0000e+00 - loss: 373.1617 - reconstruction_loss: 373.1617 - val_kl_loss: 0.0000e+00 - val_loss: 424.5215 - val_reconstruction_loss: 428.1396\n",
            "Epoch 61/1000\n",
            "\u001b[1m48/48\u001b[0m \u001b[32m━━━━━━━━━━━━━━━━━━━━\u001b[0m\u001b[37m\u001b[0m \u001b[1m2s\u001b[0m 45ms/step - kl_loss: 0.0000e+00 - loss: 353.3322 - reconstruction_loss: 353.3322 - val_kl_loss: 0.0000e+00 - val_loss: 363.0509 - val_reconstruction_loss: 368.1918\n",
            "Epoch 62/1000\n",
            "\u001b[1m48/48\u001b[0m \u001b[32m━━━━━━━━━━━━━━━━━━━━\u001b[0m\u001b[37m\u001b[0m \u001b[1m2s\u001b[0m 48ms/step - kl_loss: 0.0000e+00 - loss: 296.5561 - reconstruction_loss: 296.5561 - val_kl_loss: 0.0000e+00 - val_loss: 345.3919 - val_reconstruction_loss: 349.2733\n",
            "Epoch 63/1000\n",
            "\u001b[1m48/48\u001b[0m \u001b[32m━━━━━━━━━━━━━━━━━━━━\u001b[0m\u001b[37m\u001b[0m \u001b[1m2s\u001b[0m 47ms/step - kl_loss: 0.0000e+00 - loss: 280.3382 - reconstruction_loss: 280.3382 - val_kl_loss: 0.0000e+00 - val_loss: 332.1944 - val_reconstruction_loss: 327.9691\n",
            "Epoch 64/1000\n",
            "\u001b[1m48/48\u001b[0m \u001b[32m━━━━━━━━━━━━━━━━━━━━\u001b[0m\u001b[37m\u001b[0m \u001b[1m2s\u001b[0m 45ms/step - kl_loss: 0.0000e+00 - loss: 268.7207 - reconstruction_loss: 268.7207 - val_kl_loss: 0.0000e+00 - val_loss: 333.4328 - val_reconstruction_loss: 331.4073\n",
            "Epoch 65/1000\n",
            "\u001b[1m48/48\u001b[0m \u001b[32m━━━━━━━━━━━━━━━━━━━━\u001b[0m\u001b[37m\u001b[0m \u001b[1m3s\u001b[0m 45ms/step - kl_loss: 0.0000e+00 - loss: 282.7130 - reconstruction_loss: 282.7130 - val_kl_loss: 0.0000e+00 - val_loss: 341.2329 - val_reconstruction_loss: 340.7804\n",
            "Epoch 66/1000\n",
            "\u001b[1m48/48\u001b[0m \u001b[32m━━━━━━━━━━━━━━━━━━━━\u001b[0m\u001b[37m\u001b[0m \u001b[1m2s\u001b[0m 46ms/step - kl_loss: 0.0000e+00 - loss: 316.5937 - reconstruction_loss: 316.5937 - val_kl_loss: 0.0000e+00 - val_loss: 322.1101 - val_reconstruction_loss: 321.6540\n",
            "Epoch 67/1000\n",
            "\u001b[1m48/48\u001b[0m \u001b[32m━━━━━━━━━━━━━━━━━━━━\u001b[0m\u001b[37m\u001b[0m \u001b[1m2s\u001b[0m 45ms/step - kl_loss: 0.0000e+00 - loss: 312.1229 - reconstruction_loss: 312.1229 - val_kl_loss: 0.0000e+00 - val_loss: 759.3009 - val_reconstruction_loss: 750.3979\n",
            "Epoch 68/1000\n",
            "\u001b[1m48/48\u001b[0m \u001b[32m━━━━━━━━━━━━━━━━━━━━\u001b[0m\u001b[37m\u001b[0m \u001b[1m3s\u001b[0m 54ms/step - kl_loss: 0.0000e+00 - loss: 561.9056 - reconstruction_loss: 561.9056 - val_kl_loss: 0.0000e+00 - val_loss: 399.7480 - val_reconstruction_loss: 402.5603\n",
            "Epoch 69/1000\n",
            "\u001b[1m48/48\u001b[0m \u001b[32m━━━━━━━━━━━━━━━━━━━━\u001b[0m\u001b[37m\u001b[0m \u001b[1m2s\u001b[0m 46ms/step - kl_loss: 0.0000e+00 - loss: 366.7749 - reconstruction_loss: 366.7749 - val_kl_loss: 0.0000e+00 - val_loss: 384.3656 - val_reconstruction_loss: 386.9934\n",
            "Epoch 70/1000\n",
            "\u001b[1m48/48\u001b[0m \u001b[32m━━━━━━━━━━━━━━━━━━━━\u001b[0m\u001b[37m\u001b[0m \u001b[1m2s\u001b[0m 45ms/step - kl_loss: 0.0000e+00 - loss: 356.4703 - reconstruction_loss: 356.4703 - val_kl_loss: 0.0000e+00 - val_loss: 521.3079 - val_reconstruction_loss: 516.5559\n",
            "Epoch 71/1000\n",
            "\u001b[1m48/48\u001b[0m \u001b[32m━━━━━━━━━━━━━━━━━━━━\u001b[0m\u001b[37m\u001b[0m \u001b[1m2s\u001b[0m 46ms/step - kl_loss: 0.0000e+00 - loss: 543.7014 - reconstruction_loss: 543.7014 - val_kl_loss: 0.0000e+00 - val_loss: 533.6193 - val_reconstruction_loss: 529.8410\n",
            "Epoch 72/1000\n",
            "\u001b[1m48/48\u001b[0m \u001b[32m━━━━━━━━━━━━━━━━━━━━\u001b[0m\u001b[37m\u001b[0m \u001b[1m2s\u001b[0m 46ms/step - kl_loss: 0.0000e+00 - loss: 423.4841 - reconstruction_loss: 423.4841 - val_kl_loss: 0.0000e+00 - val_loss: 402.3903 - val_reconstruction_loss: 401.1858\n",
            "Epoch 73/1000\n",
            "\u001b[1m48/48\u001b[0m \u001b[32m━━━━━━━━━━━━━━━━━━━━\u001b[0m\u001b[37m\u001b[0m \u001b[1m2s\u001b[0m 46ms/step - kl_loss: 0.0000e+00 - loss: 542.7458 - reconstruction_loss: 542.7458 - val_kl_loss: 0.0000e+00 - val_loss: 457.6241 - val_reconstruction_loss: 467.6593\n",
            "Epoch 74/1000\n",
            "\u001b[1m48/48\u001b[0m \u001b[32m━━━━━━━━━━━━━━━━━━━━\u001b[0m\u001b[37m\u001b[0m \u001b[1m2s\u001b[0m 50ms/step - kl_loss: 0.0000e+00 - loss: 373.7306 - reconstruction_loss: 373.7306 - val_kl_loss: 0.0000e+00 - val_loss: 455.4090 - val_reconstruction_loss: 469.1409\n",
            "Epoch 75/1000\n",
            "\u001b[1m48/48\u001b[0m \u001b[32m━━━━━━━━━━━━━━━━━━━━\u001b[0m\u001b[37m\u001b[0m \u001b[1m2s\u001b[0m 46ms/step - kl_loss: 0.0000e+00 - loss: 364.8214 - reconstruction_loss: 364.8214 - val_kl_loss: 0.0000e+00 - val_loss: 378.7678 - val_reconstruction_loss: 385.6927\n",
            "Epoch 76/1000\n",
            "\u001b[1m48/48\u001b[0m \u001b[32m━━━━━━━━━━━━━━━━━━━━\u001b[0m\u001b[37m\u001b[0m \u001b[1m2s\u001b[0m 46ms/step - kl_loss: 0.0000e+00 - loss: 309.0528 - reconstruction_loss: 309.0528 - val_kl_loss: 0.0000e+00 - val_loss: 360.6650 - val_reconstruction_loss: 360.3802\n",
            "Epoch 77/1000\n",
            "\u001b[1m48/48\u001b[0m \u001b[32m━━━━━━━━━━━━━━━━━━━━\u001b[0m\u001b[37m\u001b[0m \u001b[1m2s\u001b[0m 46ms/step - kl_loss: 0.0000e+00 - loss: 328.6339 - reconstruction_loss: 328.6339 - val_kl_loss: 0.0000e+00 - val_loss: 1290.7612 - val_reconstruction_loss: 1279.5619\n",
            "Epoch 78/1000\n",
            "\u001b[1m48/48\u001b[0m \u001b[32m━━━━━━━━━━━━━━━━━━━━\u001b[0m\u001b[37m\u001b[0m \u001b[1m2s\u001b[0m 46ms/step - kl_loss: 0.0000e+00 - loss: 1087.2957 - reconstruction_loss: 1087.2957 - val_kl_loss: 0.0000e+00 - val_loss: 572.9921 - val_reconstruction_loss: 571.4556\n",
            "Epoch 79/1000\n",
            "\u001b[1m48/48\u001b[0m \u001b[32m━━━━━━━━━━━━━━━━━━━━\u001b[0m\u001b[37m\u001b[0m \u001b[1m3s\u001b[0m 53ms/step - kl_loss: 0.0000e+00 - loss: 498.4966 - reconstruction_loss: 498.4966 - val_kl_loss: 0.0000e+00 - val_loss: 900.7731 - val_reconstruction_loss: 900.5752\n",
            "Epoch 80/1000\n",
            "\u001b[1m48/48\u001b[0m \u001b[32m━━━━━━━━━━━━━━━━━━━━\u001b[0m\u001b[37m\u001b[0m \u001b[1m5s\u001b[0m 47ms/step - kl_loss: 0.0000e+00 - loss: 805.7393 - reconstruction_loss: 805.7393 - val_kl_loss: 0.0000e+00 - val_loss: 894.1017 - val_reconstruction_loss: 902.3961\n",
            "Epoch 81/1000\n",
            "\u001b[1m48/48\u001b[0m \u001b[32m━━━━━━━━━━━━━━━━━━━━\u001b[0m\u001b[37m\u001b[0m \u001b[1m2s\u001b[0m 45ms/step - kl_loss: 0.0000e+00 - loss: 687.6484 - reconstruction_loss: 687.6484 - val_kl_loss: 0.0000e+00 - val_loss: 561.1509 - val_reconstruction_loss: 557.9046\n",
            "Epoch 82/1000\n",
            "\u001b[1m48/48\u001b[0m \u001b[32m━━━━━━━━━━━━━━━━━━━━\u001b[0m\u001b[37m\u001b[0m \u001b[1m2s\u001b[0m 46ms/step - kl_loss: 0.0000e+00 - loss: 485.6899 - reconstruction_loss: 485.6899 - val_kl_loss: 0.0000e+00 - val_loss: 470.4179 - val_reconstruction_loss: 473.4495\n",
            "Epoch 83/1000\n",
            "\u001b[1m48/48\u001b[0m \u001b[32m━━━━━━━━━━━━━━━━━━━━\u001b[0m\u001b[37m\u001b[0m \u001b[1m3s\u001b[0m 53ms/step - kl_loss: 0.0000e+00 - loss: 477.9581 - reconstruction_loss: 477.9581 - val_kl_loss: 0.0000e+00 - val_loss: 1138.3776 - val_reconstruction_loss: 1137.1583\n",
            "Epoch 84/1000\n",
            "\u001b[1m48/48\u001b[0m \u001b[32m━━━━━━━━━━━━━━━━━━━━\u001b[0m\u001b[37m\u001b[0m \u001b[1m5s\u001b[0m 48ms/step - kl_loss: 0.0000e+00 - loss: 867.1720 - reconstruction_loss: 867.1720 - val_kl_loss: 0.0000e+00 - val_loss: 555.3348 - val_reconstruction_loss: 556.0843\n",
            "Epoch 85/1000\n",
            "\u001b[1m48/48\u001b[0m \u001b[32m━━━━━━━━━━━━━━━━━━━━\u001b[0m\u001b[37m\u001b[0m \u001b[1m2s\u001b[0m 46ms/step - kl_loss: 0.0000e+00 - loss: 472.5266 - reconstruction_loss: 472.5266 - val_kl_loss: 0.0000e+00 - val_loss: 501.4334 - val_reconstruction_loss: 503.3792\n",
            "Epoch 86/1000\n",
            "\u001b[1m48/48\u001b[0m \u001b[32m━━━━━━━━━━━━━━━━━━━━\u001b[0m\u001b[37m\u001b[0m \u001b[1m2s\u001b[0m 45ms/step - kl_loss: 0.0000e+00 - loss: 454.7565 - reconstruction_loss: 454.7565 - val_kl_loss: 0.0000e+00 - val_loss: 539.6619 - val_reconstruction_loss: 539.4229\n",
            "Epoch 87/1000\n",
            "\u001b[1m48/48\u001b[0m \u001b[32m━━━━━━━━━━━━━━━━━━━━\u001b[0m\u001b[37m\u001b[0m \u001b[1m2s\u001b[0m 47ms/step - kl_loss: 0.0000e+00 - loss: 682.2709 - reconstruction_loss: 682.2709 - val_kl_loss: 0.0000e+00 - val_loss: 496.4960 - val_reconstruction_loss: 491.2075\n",
            "Epoch 88/1000\n",
            "\u001b[1m48/48\u001b[0m \u001b[32m━━━━━━━━━━━━━━━━━━━━\u001b[0m\u001b[37m\u001b[0m \u001b[1m2s\u001b[0m 49ms/step - kl_loss: 0.0000e+00 - loss: 434.4235 - reconstruction_loss: 434.4235 - val_kl_loss: 0.0000e+00 - val_loss: 442.7021 - val_reconstruction_loss: 440.2187\n",
            "Epoch 89/1000\n",
            "\u001b[1m48/48\u001b[0m \u001b[32m━━━━━━━━━━━━━━━━━━━━\u001b[0m\u001b[37m\u001b[0m \u001b[1m2s\u001b[0m 46ms/step - kl_loss: 0.0000e+00 - loss: 412.5064 - reconstruction_loss: 412.5064 - val_kl_loss: 0.0000e+00 - val_loss: 607.9696 - val_reconstruction_loss: 613.2275\n",
            "Epoch 90/1000\n",
            "\u001b[1m48/48\u001b[0m \u001b[32m━━━━━━━━━━━━━━━━━━━━\u001b[0m\u001b[37m\u001b[0m \u001b[1m2s\u001b[0m 46ms/step - kl_loss: 0.0000e+00 - loss: 889.3693 - reconstruction_loss: 889.3693 - val_kl_loss: 0.0000e+00 - val_loss: 796.2809 - val_reconstruction_loss: 796.0334\n",
            "Epoch 91/1000\n",
            "\u001b[1m48/48\u001b[0m \u001b[32m━━━━━━━━━━━━━━━━━━━━\u001b[0m\u001b[37m\u001b[0m \u001b[1m2s\u001b[0m 45ms/step - kl_loss: 0.0000e+00 - loss: 720.7095 - reconstruction_loss: 720.7095 - val_kl_loss: 0.0000e+00 - val_loss: 636.1273 - val_reconstruction_loss: 637.3779\n",
            "Epoch 92/1000\n",
            "\u001b[1m48/48\u001b[0m \u001b[32m━━━━━━━━━━━━━━━━━━━━\u001b[0m\u001b[37m\u001b[0m \u001b[1m2s\u001b[0m 46ms/step - kl_loss: 0.0000e+00 - loss: 534.0251 - reconstruction_loss: 534.0251 - val_kl_loss: 0.0000e+00 - val_loss: 563.0522 - val_reconstruction_loss: 560.6845\n",
            "Epoch 93/1000\n",
            "\u001b[1m48/48\u001b[0m \u001b[32m━━━━━━━━━━━━━━━━━━━━\u001b[0m\u001b[37m\u001b[0m \u001b[1m2s\u001b[0m 48ms/step - kl_loss: 0.0000e+00 - loss: 705.4147 - reconstruction_loss: 705.4147 - val_kl_loss: 0.0000e+00 - val_loss: 697.7953 - val_reconstruction_loss: 699.9769\n",
            "Epoch 94/1000\n",
            "\u001b[1m48/48\u001b[0m \u001b[32m━━━━━━━━━━━━━━━━━━━━\u001b[0m\u001b[37m\u001b[0m \u001b[1m3s\u001b[0m 54ms/step - kl_loss: 0.0000e+00 - loss: 666.0619 - reconstruction_loss: 666.0619 - val_kl_loss: 0.0000e+00 - val_loss: 575.5749 - val_reconstruction_loss: 574.4818\n",
            "Epoch 95/1000\n",
            "\u001b[1m48/48\u001b[0m \u001b[32m━━━━━━━━━━━━━━━━━━━━\u001b[0m\u001b[37m\u001b[0m \u001b[1m2s\u001b[0m 46ms/step - kl_loss: 0.0000e+00 - loss: 493.4767 - reconstruction_loss: 493.4767 - val_kl_loss: 0.0000e+00 - val_loss: 480.0134 - val_reconstruction_loss: 483.9521\n",
            "Epoch 96/1000\n",
            "\u001b[1m48/48\u001b[0m \u001b[32m━━━━━━━━━━━━━━━━━━━━\u001b[0m\u001b[37m\u001b[0m \u001b[1m3s\u001b[0m 46ms/step - kl_loss: 0.0000e+00 - loss: 410.0768 - reconstruction_loss: 410.0768 - val_kl_loss: 0.0000e+00 - val_loss: 437.0862 - val_reconstruction_loss: 434.8169\n",
            "Epoch 97/1000\n",
            "\u001b[1m48/48\u001b[0m \u001b[32m━━━━━━━━━━━━━━━━━━━━\u001b[0m\u001b[37m\u001b[0m \u001b[1m2s\u001b[0m 46ms/step - kl_loss: 0.0000e+00 - loss: 374.7810 - reconstruction_loss: 374.7810 - val_kl_loss: 0.0000e+00 - val_loss: 406.8279 - val_reconstruction_loss: 403.6069\n",
            "Epoch 98/1000\n",
            "\u001b[1m48/48\u001b[0m \u001b[32m━━━━━━━━━━━━━━━━━━━━\u001b[0m\u001b[37m\u001b[0m \u001b[1m2s\u001b[0m 45ms/step - kl_loss: 0.0000e+00 - loss: 345.4785 - reconstruction_loss: 345.4785 - val_kl_loss: 0.0000e+00 - val_loss: 421.1664 - val_reconstruction_loss: 417.8825\n",
            "Epoch 99/1000\n",
            "\u001b[1m48/48\u001b[0m \u001b[32m━━━━━━━━━━━━━━━━━━━━\u001b[0m\u001b[37m\u001b[0m \u001b[1m2s\u001b[0m 49ms/step - kl_loss: 0.0000e+00 - loss: 381.9891 - reconstruction_loss: 381.9891 - val_kl_loss: 0.0000e+00 - val_loss: 436.8337 - val_reconstruction_loss: 438.7143\n",
            "Epoch 100/1000\n",
            "\u001b[1m48/48\u001b[0m \u001b[32m━━━━━━━━━━━━━━━━━━━━\u001b[0m\u001b[37m\u001b[0m \u001b[1m2s\u001b[0m 47ms/step - kl_loss: 0.0000e+00 - loss: 357.3806 - reconstruction_loss: 357.3806 - val_kl_loss: 0.0000e+00 - val_loss: 425.3859 - val_reconstruction_loss: 426.4871\n",
            "Epoch 101/1000\n",
            "\u001b[1m48/48\u001b[0m \u001b[32m━━━━━━━━━━━━━━━━━━━━\u001b[0m\u001b[37m\u001b[0m \u001b[1m2s\u001b[0m 46ms/step - kl_loss: 0.0000e+00 - loss: 412.1413 - reconstruction_loss: 412.1413 - val_kl_loss: 0.0000e+00 - val_loss: 434.5651 - val_reconstruction_loss: 431.6964\n",
            "Epoch 102/1000\n",
            "\u001b[1m48/48\u001b[0m \u001b[32m━━━━━━━━━━━━━━━━━━━━\u001b[0m\u001b[37m\u001b[0m \u001b[1m2s\u001b[0m 46ms/step - kl_loss: 0.0000e+00 - loss: 415.2750 - reconstruction_loss: 415.2750 - val_kl_loss: 0.0000e+00 - val_loss: 440.3184 - val_reconstruction_loss: 443.1129\n",
            "Epoch 103/1000\n",
            "\u001b[1m48/48\u001b[0m \u001b[32m━━━━━━━━━━━━━━━━━━━━\u001b[0m\u001b[37m\u001b[0m \u001b[1m2s\u001b[0m 46ms/step - kl_loss: 0.0000e+00 - loss: 388.5040 - reconstruction_loss: 388.5040 - val_kl_loss: 0.0000e+00 - val_loss: 431.3831 - val_reconstruction_loss: 429.7614\n",
            "Epoch 104/1000\n",
            "\u001b[1m48/48\u001b[0m \u001b[32m━━━━━━━━━━━━━━━━━━━━\u001b[0m\u001b[37m\u001b[0m \u001b[1m2s\u001b[0m 46ms/step - kl_loss: 0.0000e+00 - loss: 364.9238 - reconstruction_loss: 364.9238 - val_kl_loss: 0.0000e+00 - val_loss: 386.7138 - val_reconstruction_loss: 396.9920\n",
            "Epoch 105/1000\n",
            "\u001b[1m48/48\u001b[0m \u001b[32m━━━━━━━━━━━━━━━━━━━━\u001b[0m\u001b[37m\u001b[0m \u001b[1m3s\u001b[0m 55ms/step - kl_loss: 0.0000e+00 - loss: 319.9801 - reconstruction_loss: 319.9801 - val_kl_loss: 0.0000e+00 - val_loss: 368.9846 - val_reconstruction_loss: 367.0870\n",
            "Epoch 106/1000\n",
            "\u001b[1m48/48\u001b[0m \u001b[32m━━━━━━━━━━━━━━━━━━━━\u001b[0m\u001b[37m\u001b[0m \u001b[1m5s\u001b[0m 47ms/step - kl_loss: 0.0000e+00 - loss: 302.5266 - reconstruction_loss: 302.5266 - val_kl_loss: 0.0000e+00 - val_loss: 352.7385 - val_reconstruction_loss: 349.8834\n",
            "Epoch 107/1000\n",
            "\u001b[1m48/48\u001b[0m \u001b[32m━━━━━━━━━━━━━━━━━━━━\u001b[0m\u001b[37m\u001b[0m \u001b[1m2s\u001b[0m 46ms/step - kl_loss: 0.0000e+00 - loss: 287.3172 - reconstruction_loss: 287.3172 - val_kl_loss: 0.0000e+00 - val_loss: 354.3137 - val_reconstruction_loss: 351.5021\n",
            "Epoch 108/1000\n",
            "\u001b[1m48/48\u001b[0m \u001b[32m━━━━━━━━━━━━━━━━━━━━\u001b[0m\u001b[37m\u001b[0m \u001b[1m2s\u001b[0m 46ms/step - kl_loss: 0.0000e+00 - loss: 294.9773 - reconstruction_loss: 294.9773 - val_kl_loss: 0.0000e+00 - val_loss: 349.2444 - val_reconstruction_loss: 347.8837\n",
            "Epoch 109/1000\n",
            "\u001b[1m48/48\u001b[0m \u001b[32m━━━━━━━━━━━━━━━━━━━━\u001b[0m\u001b[37m\u001b[0m \u001b[1m3s\u001b[0m 54ms/step - kl_loss: 0.0000e+00 - loss: 285.7076 - reconstruction_loss: 285.7076 - val_kl_loss: 0.0000e+00 - val_loss: 344.8700 - val_reconstruction_loss: 342.6587\n",
            "Epoch 110/1000\n",
            "\u001b[1m48/48\u001b[0m \u001b[32m━━━━━━━━━━━━━━━━━━━━\u001b[0m\u001b[37m\u001b[0m \u001b[1m5s\u001b[0m 47ms/step - kl_loss: 0.0000e+00 - loss: 310.2825 - reconstruction_loss: 310.2825 - val_kl_loss: 0.0000e+00 - val_loss: 348.7321 - val_reconstruction_loss: 344.5288\n",
            "Epoch 111/1000\n",
            "\u001b[1m48/48\u001b[0m \u001b[32m━━━━━━━━━━━━━━━━━━━━\u001b[0m\u001b[37m\u001b[0m \u001b[1m2s\u001b[0m 46ms/step - kl_loss: 0.0000e+00 - loss: 288.2760 - reconstruction_loss: 288.2760 - val_kl_loss: 0.0000e+00 - val_loss: 332.1784 - val_reconstruction_loss: 328.6338\n",
            "Epoch 112/1000\n",
            "\u001b[1m48/48\u001b[0m \u001b[32m━━━━━━━━━━━━━━━━━━━━\u001b[0m\u001b[37m\u001b[0m \u001b[1m2s\u001b[0m 45ms/step - kl_loss: 0.0000e+00 - loss: 273.6860 - reconstruction_loss: 273.6860 - val_kl_loss: 0.0000e+00 - val_loss: 326.8102 - val_reconstruction_loss: 327.1221\n",
            "Epoch 113/1000\n",
            "\u001b[1m48/48\u001b[0m \u001b[32m━━━━━━━━━━━━━━━━━━━━\u001b[0m\u001b[37m\u001b[0m \u001b[1m3s\u001b[0m 48ms/step - kl_loss: 0.0000e+00 - loss: 485.7936 - reconstruction_loss: 485.7936 - val_kl_loss: 0.0000e+00 - val_loss: 1507.7584 - val_reconstruction_loss: 1497.2289\n",
            "Epoch 114/1000\n",
            "\u001b[1m48/48\u001b[0m \u001b[32m━━━━━━━━━━━━━━━━━━━━\u001b[0m\u001b[37m\u001b[0m \u001b[1m3s\u001b[0m 48ms/step - kl_loss: 0.0000e+00 - loss: 1092.7390 - reconstruction_loss: 1092.7390 - val_kl_loss: 0.0000e+00 - val_loss: 768.4648 - val_reconstruction_loss: 757.4819\n",
            "Epoch 115/1000\n",
            "\u001b[1m48/48\u001b[0m \u001b[32m━━━━━━━━━━━━━━━━━━━━\u001b[0m\u001b[37m\u001b[0m \u001b[1m2s\u001b[0m 45ms/step - kl_loss: 0.0000e+00 - loss: 603.4074 - reconstruction_loss: 603.4074 - val_kl_loss: 0.0000e+00 - val_loss: 488.6563 - val_reconstruction_loss: 499.2528\n",
            "Epoch 116/1000\n",
            "\u001b[1m48/48\u001b[0m \u001b[32m━━━━━━━━━━━━━━━━━━━━\u001b[0m\u001b[37m\u001b[0m \u001b[1m3s\u001b[0m 46ms/step - kl_loss: 0.0000e+00 - loss: 413.1908 - reconstruction_loss: 413.1908 - val_kl_loss: 0.0000e+00 - val_loss: 418.5147 - val_reconstruction_loss: 417.8987\n",
            "Epoch 117/1000\n",
            "\u001b[1m48/48\u001b[0m \u001b[32m━━━━━━━━━━━━━━━━━━━━\u001b[0m\u001b[37m\u001b[0m \u001b[1m2s\u001b[0m 46ms/step - kl_loss: 0.0000e+00 - loss: 353.9810 - reconstruction_loss: 353.9810 - val_kl_loss: 0.0000e+00 - val_loss: 397.2332 - val_reconstruction_loss: 395.7978\n",
            "Epoch 118/1000\n",
            "\u001b[1m48/48\u001b[0m \u001b[32m━━━━━━━━━━━━━━━━━━━━\u001b[0m\u001b[37m\u001b[0m \u001b[1m2s\u001b[0m 45ms/step - kl_loss: 0.0000e+00 - loss: 336.3376 - reconstruction_loss: 336.3376 - val_kl_loss: 0.0000e+00 - val_loss: 413.3300 - val_reconstruction_loss: 411.1172\n",
            "Epoch 119/1000\n",
            "\u001b[1m48/48\u001b[0m \u001b[32m━━━━━━━━━━━━━━━━━━━━\u001b[0m\u001b[37m\u001b[0m \u001b[1m2s\u001b[0m 50ms/step - kl_loss: 0.0000e+00 - loss: 351.0319 - reconstruction_loss: 351.0319 - val_kl_loss: 0.0000e+00 - val_loss: 403.2468 - val_reconstruction_loss: 399.6790\n",
            "Epoch 120/1000\n",
            "\u001b[1m48/48\u001b[0m \u001b[32m━━━━━━━━━━━━━━━━━━━━\u001b[0m\u001b[37m\u001b[0m \u001b[1m2s\u001b[0m 46ms/step - kl_loss: 0.0000e+00 - loss: 394.4817 - reconstruction_loss: 394.4817 - val_kl_loss: 0.0000e+00 - val_loss: 511.2172 - val_reconstruction_loss: 515.1734\n",
            "Epoch 121/1000\n",
            "\u001b[1m48/48\u001b[0m \u001b[32m━━━━━━━━━━━━━━━━━━━━\u001b[0m\u001b[37m\u001b[0m \u001b[1m2s\u001b[0m 46ms/step - kl_loss: 0.0000e+00 - loss: 428.9764 - reconstruction_loss: 428.9764 - val_kl_loss: 0.0000e+00 - val_loss: 404.8112 - val_reconstruction_loss: 409.0464\n",
            "Epoch 122/1000\n",
            "\u001b[1m48/48\u001b[0m \u001b[32m━━━━━━━━━━━━━━━━━━━━\u001b[0m\u001b[37m\u001b[0m \u001b[1m2s\u001b[0m 46ms/step - kl_loss: 0.0000e+00 - loss: 345.8466 - reconstruction_loss: 345.8466 - val_kl_loss: 0.0000e+00 - val_loss: 381.8887 - val_reconstruction_loss: 380.6766\n",
            "Epoch 123/1000\n",
            "\u001b[1m48/48\u001b[0m \u001b[32m━━━━━━━━━━━━━━━━━━━━\u001b[0m\u001b[37m\u001b[0m \u001b[1m2s\u001b[0m 46ms/step - kl_loss: 0.0000e+00 - loss: 355.5829 - reconstruction_loss: 355.5829 - val_kl_loss: 0.0000e+00 - val_loss: 373.9355 - val_reconstruction_loss: 377.6415\n",
            "Epoch 124/1000\n",
            "\u001b[1m48/48\u001b[0m \u001b[32m━━━━━━━━━━━━━━━━━━━━\u001b[0m\u001b[37m\u001b[0m \u001b[1m3s\u001b[0m 53ms/step - kl_loss: 0.0000e+00 - loss: 311.8318 - reconstruction_loss: 311.8318 - val_kl_loss: 0.0000e+00 - val_loss: 365.3527 - val_reconstruction_loss: 364.3382\n",
            "Epoch 125/1000\n",
            "\u001b[1m48/48\u001b[0m \u001b[32m━━━━━━━━━━━━━━━━━━━━\u001b[0m\u001b[37m\u001b[0m \u001b[1m5s\u001b[0m 47ms/step - kl_loss: 0.0000e+00 - loss: 292.8536 - reconstruction_loss: 292.8536 - val_kl_loss: 0.0000e+00 - val_loss: 490.2239 - val_reconstruction_loss: 502.8286\n",
            "Epoch 125: early stopping\n",
            "Restoring model weights from the end of the best epoch: 25.\n"
          ]
        },
        {
          "output_type": "display_data",
          "data": {
            "text/plain": [
              "<Figure size 640x480 with 1 Axes>"
            ],
            "image/png": "[encoded data removed]"
          },
          "metadata": {}
        }
      ]
    },
    {
      "cell_type": "code",
      "source": [
        "# save the model\n",
        "model.save(\"bvae_model.keras\")"
      ],
      "metadata": {
        "id": "6fS4a2Ip3onT"
      },
      "execution_count": null,
      "outputs": []
    }
  ]
}